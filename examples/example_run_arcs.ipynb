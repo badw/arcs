{
 "cells": [
  {
   "cell_type": "code",
   "execution_count": 1,
   "id": "c698284f",
   "metadata": {},
   "outputs": [],
   "source": [
    "%load_ext autoreload\n",
    "%autoreload 2"
   ]
  },
  {
   "cell_type": "markdown",
   "id": "c4c4ef5c",
   "metadata": {},
   "source": [
    "#### 1. Set up the reaction graph from DFT data "
   ]
  },
  {
   "cell_type": "code",
   "execution_count": 2,
   "id": "81c405ac",
   "metadata": {},
   "outputs": [],
   "source": [
    "from arcs.generate import GraphGenerator\n",
    "\n",
    "graph = GraphGenerator().from_file(\n",
    "    filename='../app/data/dft_data.json',\n",
    "    temperature=248,\n",
    "    pressure=20,\n",
    "    max_reaction_length=5\n",
    ")"
   ]
  },
  {
   "cell_type": "markdown",
   "id": "589e7cfd",
   "metadata": {},
   "source": [
    "#### 2. Sample the `graph`"
   ]
  },
  {
   "cell_type": "code",
   "execution_count": null,
   "id": "04adbe7f",
   "metadata": {},
   "outputs": [],
   "source": []
  },
  {
   "cell_type": "code",
   "execution_count": 21,
   "id": "27cdf512",
   "metadata": {},
   "outputs": [
    {
     "name": "stderr",
     "output_type": "stream",
     "text": [
      "1008it [00:56, 17.80it/s]                         \n"
     ]
    }
   ],
   "source": [
    "from arcs.traversal import Traversal\n",
    "from arcs.generate import GenerateInitialConcentrations\n",
    "\n",
    "gic = GenerateInitialConcentrations(graph=graph).update_ic(\n",
    "    {'H2O':30,'O2':10,'SO2':10,'H2S':0,'NO2':10}\n",
    "    )\n",
    "\n",
    "t = Traversal(graph=graph)\n",
    "\n",
    "\n",
    "data = t.sample(initial_concentrations=gic,ncpus=4,nsamples=1000)"
   ]
  },
  {
   "cell_type": "markdown",
   "id": "dbcd453f",
   "metadata": {},
   "source": [
    "#### 3. generate reaction statistics"
   ]
  },
  {
   "cell_type": "code",
   "execution_count": 18,
   "id": "e59786da",
   "metadata": {},
   "outputs": [
    {
     "data": {
      "text/plain": [
       "1 H2O + 1 SO2 = 1 H2SO3                   321\n",
       "1 H2 + 1 SO2 = 1 O2 + 1 H2S               318\n",
       "1 H2SO4 + 1 N2 = 1 H2S + 2 NO2            273\n",
       "2 H2 + 1 O2 = 2 H2O                       248\n",
       "1 O2 + 1 H2S + 2 NO2 = 1 SO2 + 2 HNO2     210\n",
       "2 O2 + 1 H2S = 1 H2SO4                    194\n",
       "3 H2 + 1 SO2 = 2 H2O + 1 H2S              154\n",
       "3 O2 + 2 H2S = 2 H2O + 2 SO2              151\n",
       "1 H2 + 1 NO2 = 1 H2O + 1 NO               138\n",
       "8 H2O + 1 S8 = 2 H2SO4 + 6 H2S            116\n",
       "1 H2O + 1 SO2 + 1 NO2 = 1 H2SO4 + 1 NO    115\n",
       "1 H2O + 1 NO2 + 1 NO = 2 HNO2             103\n",
       "1 H2 + 1 SO2 + 1 NO2 = 1 H2SO3 + 1 NO      99\n",
       "1 H2 + 1 H2SO4 = 2 H2O + 1 SO2             91\n",
       "1 H2 + 1 O2 + 1 SO2 = 1 H2SO4              84\n",
       "1 H2 + 1 SO2 + 2 NO = 1 H2SO4 + 1 N2       80\n",
       "1 S8 + 8 NO2 = 8 SO2 + 4 N2                79\n",
       "16 H2O + 3 S8 = 16 H2S + 8 SO2             72\n",
       "2 H2 + 2 SO2 + 1 N2 = 2 H2S + 2 NO2        71\n",
       "1 H2 + 1 H2SO4 = 1 H2O + 1 H2SO3           67\n",
       "dtype: int64"
      ]
     },
     "execution_count": 18,
     "metadata": {},
     "output_type": "execute_result"
    }
   ],
   "source": [
    "from arcs.analysis import AnalyseSampling\n",
    "import pandas as pd \n",
    "\n",
    "analysis = AnalyseSampling()\n",
    "stats = pd.Series(analysis.reaction_statistics(data)).sort_values(ascending=False)\n",
    "stats.head(20)"
   ]
  },
  {
   "cell_type": "markdown",
   "id": "4c28b538",
   "metadata": {},
   "source": [
    "#### 4. generate mean concentrations and differences"
   ]
  },
  {
   "cell_type": "code",
   "execution_count": null,
   "id": "716d1ffd",
   "metadata": {},
   "outputs": [
    {
     "name": "stdout",
     "output_type": "stream",
     "text": [
      "        initial   mean  diff   sem   std    var\n",
      "H2S        10.0   4.34 -5.66  0.06  3.79  14.33\n",
      "NO2        10.0   4.37 -5.63  0.08  4.85  23.50\n",
      "O2         10.0   4.74 -5.26  0.08  4.95  24.52\n",
      "H2O        30.0  27.64 -2.36  0.08  5.31  28.20\n",
      "S8          0.0   0.00  0.00  0.00  0.00   0.00\n",
      "NH3         0.0   0.16  0.16  0.01  0.85   0.72\n",
      "NOHSO4      0.0   0.19  0.19  0.01  0.92   0.85\n",
      "HNO3        0.0   0.38  0.38  0.02  1.36   1.84\n",
      "SO2        10.0  10.60  0.60  0.09  5.66  32.01\n",
      "NO          0.0   0.87  0.87  0.04  2.64   6.96\n",
      "HNO2        0.0   1.28  1.28  0.05  3.08   9.47\n",
      "N2          0.0   1.38  1.38  0.03  2.19   4.78\n",
      "H2          0.0   1.99  1.99  0.06  3.73  13.93\n",
      "H2SO3       0.0   2.04  2.04  0.06  3.98  15.83\n",
      "H2SO4       0.0   2.84  2.84  0.06  3.89  15.14\n"
     ]
    }
   ],
   "source": [
    "average_data = pd.DataFrame(analysis.average_sampling(data))\n",
    "average_data = average_data.loc[~(average_data==0).all(axis=1)]\n",
    "average_data.sort_values(by='diff',inplace=True)\n",
    "print(average_data.round(2).to_string())"
   ]
  },
  {
   "cell_type": "markdown",
   "id": "24164700",
   "metadata": {},
   "source": [
    "#### 5. Plot "
   ]
  },
  {
   "cell_type": "code",
   "execution_count": 20,
   "id": "1c89114f",
   "metadata": {},
   "outputs": [
    {
     "name": "stderr",
     "output_type": "stream",
     "text": [
      "/var/folders/40/xmstzxyn7377k__pn0yxn6w80000gn/T/ipykernel_71384/949321809.py:11: MatplotlibDeprecationWarning: The get_cmap function was deprecated in Matplotlib 3.7 and will be removed in 3.11. Use ``matplotlib.colormaps[name]`` or ``matplotlib.colormaps.get_cmap()`` or ``pyplot.get_cmap()`` instead.\n",
      "  cmap = get_cmap(name='RdBu')  # or any other colormap\n"
     ]
    },
    {
     "data": {
      "text/plain": [
       "<Axes: >"
      ]
     },
     "execution_count": 20,
     "metadata": {},
     "output_type": "execute_result"
    },
    {
     "data": {
      "image/png": "[encoded data removed]",
      "text/plain": [
       "<Figure size 640x480 with 1 Axes>"
      ]
     },
     "metadata": {},
     "output_type": "display_data"
    }
   ],
   "source": [
    "import seaborn as sns \n",
    "from matplotlib.cm import get_cmap\n",
    "import matplotlib.colors as colors\n",
    "sns.set_style('darkgrid')\n",
    "sns.set_palette('pastel')\n",
    "\n",
    "\n",
    "norm = colors.Normalize(\n",
    "    vmin=average_data['diff'].min(), vmax=average_data['diff'].max()\n",
    "    )\n",
    "cmap = get_cmap(name='RdBu')  # or any other colormap\n",
    "\n",
    "bar_colors = [cmap(norm(value)) for value in average_data['diff']]\n",
    "\n",
    "average_data.plot.bar(y='diff',yerr='sem',color=bar_colors)"
   ]
  },
  {
   "cell_type": "markdown",
   "id": "0a5717ac",
   "metadata": {},
   "source": [
    "#### 5. generate a `pyvis` graph "
   ]
  },
  {
   "cell_type": "code",
   "execution_count": 16,
   "id": "7e3dbf29",
   "metadata": {},
   "outputs": [],
   "source": [
    "pyvis_kwargs = {'width':'50%','notebook':False,\"font_color\":'white','directed':True}\n",
    "g = analysis.result_to_pyvis(data,head=20,**pyvis_kwargs)\n",
    "g.save_graph(name=\"example_pyvis_graph.html\")"
   ]
  },
  {
   "cell_type": "code",
   "execution_count": 37,
   "id": "8e54cf73",
   "metadata": {},
   "outputs": [],
   "source": [
    "! open example_pyvis_graph.html"
   ]
  }
 ],
 "metadata": {
  "kernelspec": {
   "display_name": "py312",
   "language": "python",
   "name": "python3"
  },
  "language_info": {
   "codemirror_mode": {
    "name": "ipython",
    "version": 3
   },
   "file_extension": ".py",
   "mimetype": "text/x-python",
   "name": "python",
   "nbconvert_exporter": "python",
   "pygments_lexer": "ipython3",
   "version": "3.12.9"
  }
 },
 "nbformat": 4,
 "nbformat_minor": 5
}
