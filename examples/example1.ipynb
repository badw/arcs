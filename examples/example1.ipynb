{
 "cells": [
  {
   "cell_type": "code",
   "execution_count": 5,
   "id": "c698284f",
   "metadata": {},
   "outputs": [],
   "source": [
    "%load_ext autoreload\n",
    "%autoreload 2"
   ]
  },
  {
   "cell_type": "code",
   "execution_count": 32,
   "id": "3cec1cfd",
   "metadata": {},
   "outputs": [],
   "source": [
    "import json \n",
    "import numpy as np \n",
    "from arcs.setup_functions import ReactionGibbsandEquilibrium\n",
    "from monty.serialization import loadfn"
   ]
  },
  {
   "cell_type": "code",
   "execution_count": 35,
   "id": "db4ce8aa",
   "metadata": {},
   "outputs": [
    {
     "data": {
      "text/plain": [
       "-31.974842281859573"
      ]
     },
     "execution_count": 35,
     "metadata": {},
     "output_type": "execute_result"
    }
   ],
   "source": [
    "dft_data = loadfn('../app/data/hse06_dft_data.json')\n",
    "rge = ReactionGibbsandEquilibrium(dft_data)\n",
    "gibbs_free_energy = rge.Gibbs(compound='CO2',temperature=100,pressure=1)\n",
    "gibbs_free_energy\n"
   ]
  },
  {
   "cell_type": "code",
   "execution_count": null,
   "id": "153a2874",
   "metadata": {},
   "outputs": [
    {
     "ename": "TypeError",
     "evalue": "ReactionGibbsandEquilibrium.Gibbs() missing 2 required positional arguments: 'temperature' and 'pressure'",
     "output_type": "error",
     "traceback": [
      "\u001b[31m---------------------------------------------------------------------------\u001b[39m",
      "\u001b[31mTypeError\u001b[39m                                 Traceback (most recent call last)",
      "\u001b[36mCell\u001b[39m\u001b[36m \u001b[39m\u001b[32mIn[37]\u001b[39m\u001b[32m, line 4\u001b[39m\n\u001b[32m      2\u001b[39m \u001b[38;5;28;01mfrom\u001b[39;00m\u001b[38;5;250m \u001b[39m\u001b[34;01mchempy\u001b[39;00m\u001b[38;5;250m \u001b[39m\u001b[38;5;28;01mimport\u001b[39;00m Equilibrium \n\u001b[32m      3\u001b[39m eq = Equilibrium.from_string(reaction)\n\u001b[32m----> \u001b[39m\u001b[32m4\u001b[39m \u001b[43mrge\u001b[49m\u001b[43m.\u001b[49m\u001b[43mreaction_gibbs\u001b[49m\u001b[43m(\u001b[49m\u001b[43mreaction\u001b[49m\u001b[43m=\u001b[49m\u001b[43meq\u001b[49m\u001b[43m,\u001b[49m\u001b[43mpressure\u001b[49m\u001b[43m=\u001b[49m\u001b[32;43m1\u001b[39;49m\u001b[43m,\u001b[49m\u001b[43mtemperature\u001b[49m\u001b[43m=\u001b[49m\u001b[32;43m100\u001b[39;49m\u001b[43m)\u001b[49m\n",
      "\u001b[36mFile \u001b[39m\u001b[32m<string>:11\u001b[39m, in \u001b[36mreaction_gibbs\u001b[39m\u001b[34m(self, reaction, pressure, temperature)\u001b[39m\n",
      "\u001b[36mFile \u001b[39m\u001b[32m<string>:11\u001b[39m, in \u001b[36m<listcomp>\u001b[39m\u001b[34m(.0)\u001b[39m\n",
      "\u001b[31mTypeError\u001b[39m: ReactionGibbsandEquilibrium.Gibbs() missing 2 required positional arguments: 'temperature' and 'pressure'"
     ]
    }
   ],
   "source": [
    "reaction = 'CO + H2O = H2 + CO2'\n",
    "from chempy import Equilibrium \n",
    "eq = Equilibrium.from_string(reaction)\n",
    "rge.reaction_gibbs(reaction=eq,\n",
    "                   pressure=1,\n",
    "                   temperature=100)"
   ]
  }
 ],
 "metadata": {
  "kernelspec": {
   "display_name": "py311",
   "language": "python",
   "name": "python3"
  },
  "language_info": {
   "codemirror_mode": {
    "name": "ipython",
    "version": 3
   },
   "file_extension": ".py",
   "mimetype": "text/x-python",
   "name": "python",
   "nbconvert_exporter": "python",
   "pygments_lexer": "ipython3",
   "version": "3.11.9"
  }
 },
 "nbformat": 4,
 "nbformat_minor": 5
}
