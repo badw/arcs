{
 "cells": [
  {
   "cell_type": "code",
   "execution_count": 1,
   "id": "c698284f",
   "metadata": {},
   "outputs": [],
   "source": [
    "%load_ext autoreload\n",
    "%autoreload 2"
   ]
  },
  {
   "cell_type": "markdown",
   "id": "c4c4ef5c",
   "metadata": {},
   "source": [
    "#### 1. Set up the reaction graph from DFT data "
   ]
  },
  {
   "cell_type": "code",
   "execution_count": 3,
   "id": "81c405ac",
   "metadata": {},
   "outputs": [
    {
     "ename": "ModuleNotFoundError",
     "evalue": "No module named 'arcs'",
     "output_type": "error",
     "traceback": [
      "\u001b[31m---------------------------------------------------------------------------\u001b[39m",
      "\u001b[31mModuleNotFoundError\u001b[39m                       Traceback (most recent call last)",
      "\u001b[36mCell\u001b[39m\u001b[36m \u001b[39m\u001b[32mIn[3]\u001b[39m\u001b[32m, line 1\u001b[39m\n\u001b[32m----> \u001b[39m\u001b[32m1\u001b[39m \u001b[38;5;28;01mfrom\u001b[39;00m\u001b[38;5;250m \u001b[39m\u001b[34;01marcs\u001b[39;00m\u001b[34;01m.\u001b[39;00m\u001b[34;01marcs\u001b[39;00m\u001b[34;01m.\u001b[39;00m\u001b[34;01mgenerate\u001b[39;00m\u001b[38;5;250m \u001b[39m\u001b[38;5;28;01mimport\u001b[39;00m GraphGenerator\n\u001b[32m      3\u001b[39m graph = GraphGenerator().from_file(\n\u001b[32m      4\u001b[39m     filename=\u001b[33m'\u001b[39m\u001b[33m../app/data/dft_data.json\u001b[39m\u001b[33m'\u001b[39m,\n\u001b[32m      5\u001b[39m     temperature=\u001b[32m248\u001b[39m,\n\u001b[32m      6\u001b[39m     pressure=\u001b[32m20\u001b[39m,\n\u001b[32m      7\u001b[39m     max_reaction_length=\u001b[32m5\u001b[39m\n\u001b[32m      8\u001b[39m )\n",
      "\u001b[31mModuleNotFoundError\u001b[39m: No module named 'arcs'"
     ]
    }
   ],
   "source": [
    "from arcs.arcs.generate import GraphGenerator\n",
    "\n",
    "graph = GraphGenerator().from_file(\n",
    "    filename='../app/data/dft_data.json',\n",
    "    temperature=248,\n",
    "    pressure=20,\n",
    "    max_reaction_length=5\n",
    ")"
   ]
  },
  {
   "cell_type": "markdown",
   "id": "589e7cfd",
   "metadata": {},
   "source": [
    "#### 2. Sample the `graph`"
   ]
  },
  {
   "cell_type": "code",
   "execution_count": 51,
   "id": "27cdf512",
   "metadata": {},
   "outputs": [
    {
     "data": {
      "application/vnd.jupyter.widget-view+json": {
       "model_id": "8eb9d1e582e7418c89b295923ea037ed",
       "version_major": 2,
       "version_minor": 0
      },
      "text/plain": [
       "  0%|          | 0/1000 [00:00<?, ?it/s]"
      ]
     },
     "metadata": {},
     "output_type": "display_data"
    }
   ],
   "source": [
    "from arcs.traversal import Traversal\n",
    "from arcs.generate import GenerateInitialConcentrations\n",
    "\n",
    "gic = GenerateInitialConcentrations(graph=graph).update_ic(\n",
    "    {'H2O':30,'O2':10,'SO2':10,'H2S':10,'NO2':10}\n",
    "    #{'H2O':30,'O2':10,'SO2':10,'H2S':10,'NO2':10}\n",
    "    #{'H2O':30,'SO2':10}\n",
    "    )\n",
    "\n",
    "t = Traversal(graph=graph)\n",
    "\n",
    "data = t.sample(initial_concentrations=gic,ncpus=4,nsamples=1000)"
   ]
  },
  {
   "cell_type": "markdown",
   "id": "dbcd453f",
   "metadata": {},
   "source": [
    "#### 3. generate reaction statistics"
   ]
  },
  {
   "cell_type": "code",
   "execution_count": 52,
   "id": "e59786da",
   "metadata": {},
   "outputs": [
    {
     "data": {
      "text/plain": [
       "1 H2 + 1 SO2 = 1 O2 + 1 H2S              328\n",
       "1 H2O + 1 SO2 = 1 H2SO3                  290\n",
       "2 H2 + 1 O2 = 2 H2O                      262\n",
       "1 H2O + 1 NO2 + 1 NO = 2 HNO2            134\n",
       "3 H2 + 1 SO2 = 2 H2O + 1 H2S             132\n",
       "3 O2 + 2 H2S = 2 H2O + 2 SO2             111\n",
       "1 H2 + 1 SO2 + 1 NO2 = 1 H2SO3 + 1 NO     92\n",
       "1 H2O + 2 NO2 = 1 HNO3 + 1 HNO2           74\n",
       "1 H2 + 1 H2SO4 = 2 H2O + 1 SO2            71\n",
       "2 H2S + 6 SO2 + 2 N2 = 1 S8 + 4 HNO3      64\n",
       "dtype: int64"
      ]
     },
     "execution_count": 52,
     "metadata": {},
     "output_type": "execute_result"
    }
   ],
   "source": [
    "from arcs.analysis import AnalyseSampling\n",
    "import pandas as pd \n",
    "\n",
    "analysis = AnalyseSampling()\n",
    "stats = pd.Series(analysis.reaction_statistics(data)).sort_values(ascending=False)\n",
    "stats.head(10)"
   ]
  },
  {
   "cell_type": "markdown",
   "id": "4c28b538",
   "metadata": {},
   "source": [
    "#### 4. generate mean concentrations and differences"
   ]
  },
  {
   "cell_type": "code",
   "execution_count": 53,
   "id": "716d1ffd",
   "metadata": {},
   "outputs": [
    {
     "data": {
      "text/html": [
       "<div>\n",
       "<style scoped>\n",
       "    .dataframe tbody tr th:only-of-type {\n",
       "        vertical-align: middle;\n",
       "    }\n",
       "\n",
       "    .dataframe tbody tr th {\n",
       "        vertical-align: top;\n",
       "    }\n",
       "\n",
       "    .dataframe thead th {\n",
       "        text-align: right;\n",
       "    }\n",
       "</style>\n",
       "<table border=\"1\" class=\"dataframe\">\n",
       "  <thead>\n",
       "    <tr style=\"text-align: right;\">\n",
       "      <th></th>\n",
       "      <th>initial</th>\n",
       "      <th>mean</th>\n",
       "      <th>diff</th>\n",
       "      <th>std</th>\n",
       "      <th>var</th>\n",
       "    </tr>\n",
       "  </thead>\n",
       "  <tbody>\n",
       "    <tr>\n",
       "      <th>H2S</th>\n",
       "      <td>10.0</td>\n",
       "      <td>4.84</td>\n",
       "      <td>-5.16</td>\n",
       "      <td>4.67</td>\n",
       "      <td>21.83</td>\n",
       "    </tr>\n",
       "    <tr>\n",
       "      <th>NO2</th>\n",
       "      <td>10.0</td>\n",
       "      <td>5.84</td>\n",
       "      <td>-4.16</td>\n",
       "      <td>4.92</td>\n",
       "      <td>24.23</td>\n",
       "    </tr>\n",
       "    <tr>\n",
       "      <th>O2</th>\n",
       "      <td>10.0</td>\n",
       "      <td>5.98</td>\n",
       "      <td>-4.02</td>\n",
       "      <td>5.60</td>\n",
       "      <td>31.32</td>\n",
       "    </tr>\n",
       "    <tr>\n",
       "      <th>H2O</th>\n",
       "      <td>30.0</td>\n",
       "      <td>30.01</td>\n",
       "      <td>0.01</td>\n",
       "      <td>4.58</td>\n",
       "      <td>20.98</td>\n",
       "    </tr>\n",
       "    <tr>\n",
       "      <th>S8</th>\n",
       "      <td>0.0</td>\n",
       "      <td>0.10</td>\n",
       "      <td>0.10</td>\n",
       "      <td>0.32</td>\n",
       "      <td>0.10</td>\n",
       "    </tr>\n",
       "    <tr>\n",
       "      <th>NH3</th>\n",
       "      <td>0.0</td>\n",
       "      <td>0.14</td>\n",
       "      <td>0.14</td>\n",
       "      <td>0.92</td>\n",
       "      <td>0.85</td>\n",
       "    </tr>\n",
       "    <tr>\n",
       "      <th>NOHSO4</th>\n",
       "      <td>0.0</td>\n",
       "      <td>0.42</td>\n",
       "      <td>0.42</td>\n",
       "      <td>1.44</td>\n",
       "      <td>2.09</td>\n",
       "    </tr>\n",
       "    <tr>\n",
       "      <th>H2SO3</th>\n",
       "      <td>0.0</td>\n",
       "      <td>0.42</td>\n",
       "      <td>0.42</td>\n",
       "      <td>1.97</td>\n",
       "      <td>3.90</td>\n",
       "    </tr>\n",
       "    <tr>\n",
       "      <th>N2</th>\n",
       "      <td>0.0</td>\n",
       "      <td>0.45</td>\n",
       "      <td>0.45</td>\n",
       "      <td>1.36</td>\n",
       "      <td>1.84</td>\n",
       "    </tr>\n",
       "    <tr>\n",
       "      <th>HNO3</th>\n",
       "      <td>0.0</td>\n",
       "      <td>0.60</td>\n",
       "      <td>0.60</td>\n",
       "      <td>1.64</td>\n",
       "      <td>2.69</td>\n",
       "    </tr>\n",
       "    <tr>\n",
       "      <th>HNO2</th>\n",
       "      <td>0.0</td>\n",
       "      <td>0.81</td>\n",
       "      <td>0.81</td>\n",
       "      <td>2.30</td>\n",
       "      <td>5.30</td>\n",
       "    </tr>\n",
       "    <tr>\n",
       "      <th>H2SO4</th>\n",
       "      <td>0.0</td>\n",
       "      <td>0.85</td>\n",
       "      <td>0.85</td>\n",
       "      <td>2.86</td>\n",
       "      <td>8.20</td>\n",
       "    </tr>\n",
       "    <tr>\n",
       "      <th>NO</th>\n",
       "      <td>0.0</td>\n",
       "      <td>1.24</td>\n",
       "      <td>1.24</td>\n",
       "      <td>3.24</td>\n",
       "      <td>10.51</td>\n",
       "    </tr>\n",
       "    <tr>\n",
       "      <th>SO2</th>\n",
       "      <td>10.0</td>\n",
       "      <td>11.90</td>\n",
       "      <td>1.90</td>\n",
       "      <td>5.93</td>\n",
       "      <td>35.16</td>\n",
       "    </tr>\n",
       "    <tr>\n",
       "      <th>H2</th>\n",
       "      <td>0.0</td>\n",
       "      <td>2.34</td>\n",
       "      <td>2.34</td>\n",
       "      <td>4.12</td>\n",
       "      <td>16.96</td>\n",
       "    </tr>\n",
       "  </tbody>\n",
       "</table>\n",
       "</div>"
      ],
      "text/plain": [
       "        initial   mean  diff   std    var\n",
       "H2S        10.0   4.84 -5.16  4.67  21.83\n",
       "NO2        10.0   5.84 -4.16  4.92  24.23\n",
       "O2         10.0   5.98 -4.02  5.60  31.32\n",
       "H2O        30.0  30.01  0.01  4.58  20.98\n",
       "S8          0.0   0.10  0.10  0.32   0.10\n",
       "NH3         0.0   0.14  0.14  0.92   0.85\n",
       "NOHSO4      0.0   0.42  0.42  1.44   2.09\n",
       "H2SO3       0.0   0.42  0.42  1.97   3.90\n",
       "N2          0.0   0.45  0.45  1.36   1.84\n",
       "HNO3        0.0   0.60  0.60  1.64   2.69\n",
       "HNO2        0.0   0.81  0.81  2.30   5.30\n",
       "H2SO4       0.0   0.85  0.85  2.86   8.20\n",
       "NO          0.0   1.24  1.24  3.24  10.51\n",
       "SO2        10.0  11.90  1.90  5.93  35.16\n",
       "H2          0.0   2.34  2.34  4.12  16.96"
      ]
     },
     "execution_count": 53,
     "metadata": {},
     "output_type": "execute_result"
    }
   ],
   "source": [
    "average_data = analysis.average_sampling(data)\n",
    "average_data = average_data.loc[~(average_data==0).all(axis=1)]\n",
    "average_data.round(5)\n",
    "average_data.sort_values(by='diff',inplace=True)\n",
    "average_data.round(2)"
   ]
  },
  {
   "cell_type": "markdown",
   "id": "24164700",
   "metadata": {},
   "source": [
    "#### 5. Plot "
   ]
  },
  {
   "cell_type": "code",
   "execution_count": 54,
   "id": "1c89114f",
   "metadata": {},
   "outputs": [
    {
     "data": {
      "text/plain": [
       "<Axes: >"
      ]
     },
     "execution_count": 54,
     "metadata": {},
     "output_type": "execute_result"
    },
    {
     "data": {
      "image/png": "[encoded data removed]",
      "text/plain": [
       "<Figure size 640x480 with 1 Axes>"
      ]
     },
     "metadata": {},
     "output_type": "display_data"
    }
   ],
   "source": [
    "import seaborn as sns \n",
    "import matplotlib.pyplot as plt\n",
    "import matplotlib.cm as cm\n",
    "import matplotlib.colors as colors\n",
    "\n",
    "sns.set_style('darkgrid')\n",
    "sns.set_palette('pastel')\n",
    "\n",
    "\n",
    "norm = colors.Normalize(vmin=average_data['diff'].min(), vmax=average_data['diff'].max())\n",
    "cmap = cm.RdBu  # or any other colormap\n",
    "\n",
    "bar_colors = [cmap(norm(value)) for value in average_data['diff']]\n",
    "\n",
    "average_data.plot.bar(y='diff',yerr='std',color=bar_colors)"
   ]
  },
  {
   "cell_type": "markdown",
   "id": "0a5717ac",
   "metadata": {},
   "source": [
    "#### 5. generate a `pyvis` graph "
   ]
  },
  {
   "cell_type": "code",
   "execution_count": 55,
   "id": "7e3dbf29",
   "metadata": {},
   "outputs": [],
   "source": [
    "g = analysis.result_to_pyvis(data,head=10,filename='example_pyvis_graph.html')"
   ]
  }
 ],
 "metadata": {
  "kernelspec": {
   "display_name": "py311",
   "language": "python",
   "name": "python3"
  },
  "language_info": {
   "codemirror_mode": {
    "name": "ipython",
    "version": 3
   },
   "file_extension": ".py",
   "mimetype": "text/x-python",
   "name": "python",
   "nbconvert_exporter": "python",
   "pygments_lexer": "ipython3",
   "version": "3.11.9"
  }
 },
 "nbformat": 4,
 "nbformat_minor": 5
}
