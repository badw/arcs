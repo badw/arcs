{
 "cells": [
  {
   "cell_type": "code",
   "execution_count": 1,
   "id": "c698284f",
   "metadata": {},
   "outputs": [],
   "source": [
    "%load_ext autoreload\n",
    "%autoreload 2"
   ]
  },
  {
   "cell_type": "code",
   "execution_count": null,
   "id": "3cec1cfd",
   "metadata": {},
   "outputs": [],
   "source": [
    "import numpy as np \n",
    "import tqdm\n",
    "from arcs.setup_functions import ReactionGibbsandEquilibrium\n",
    "from monty.serialization import loadfn\n",
    "from arcs.setup_functions import GraphGenerator\n",
    "from arcs.setup_functions import GetEnergyandVibrationsVASP"
   ]
  },
  {
   "cell_type": "code",
   "execution_count": 3,
   "id": "db4ce8aa",
   "metadata": {},
   "outputs": [
    {
     "name": "stderr",
     "output_type": "stream",
     "text": [
      "  0%|          | 0/501 [00:00<?, ?it/s]/Users/badw/github-projects/arcs/arcs/setup_functions.py:255: RuntimeWarning: overflow encountered in exp\n",
      "  K = np.exp(\n",
      "100%|██████████| 501/501 [00:00<00:00, 3184.77it/s]\n"
     ]
    }
   ],
   "source": [
    "dft_data = loadfn('../tests/test_dft_data.json')\n",
    "rge = ReactionGibbsandEquilibrium(dft_data)\n",
    "\n",
    "applied_reactions = [] \n",
    "for reaction in tqdm.tqdm(dft_data['reactions'].values()):\n",
    "    g_k_dict = rge.get_reaction_gibbs_and_equilibrium(reaction=reaction,temperature=100,pressure=1)\n",
    "    g_k_dict['r'] = reaction\n",
    "    applied_reactions.append(g_k_dict)\n",
    "\n",
    "\n",
    "gg = GraphGenerator(applied_reactions = applied_reactions)\n",
    "graph = gg.generate_multidigraph(temperature=100)"
   ]
  },
  {
   "cell_type": "code",
   "execution_count": 12,
   "id": "65c3e979",
   "metadata": {},
   "outputs": [
    {
     "data": {
      "text/plain": [
       "{'H2S': 0,\n",
       " 'O2': 0,\n",
       " 'H2SO3': 0,\n",
       " 'H2O': 0,\n",
       " 'H2': 0,\n",
       " 'CO2': 9.209381237749511e-07,\n",
       " 'CH4': 0,\n",
       " 'CH3COOH': 0,\n",
       " 'CO': 0,\n",
       " 'CH3OH': 0,\n",
       " 'H2CO': 0,\n",
       " 'HNO2': 0,\n",
       " 'HNO3': 0,\n",
       " 'CH2O2': 0,\n",
       " 'S8': 0,\n",
       " 'SO2': 0,\n",
       " 'H2SO4': 0,\n",
       " 'CH3CHO': 0,\n",
       " 'CH3CH2OH': 0,\n",
       " 'N2': 0,\n",
       " 'NO': 0,\n",
       " 'NO2': 0,\n",
       " 'NOHSO4': 0,\n",
       " 'NH3': 0}"
      ]
     },
     "execution_count": 12,
     "metadata": {},
     "output_type": "execute_result"
    }
   ],
   "source": [
    "from arcs.setup_functions import GenerateInitialConcentrations\n",
    "\n",
    "gic = GenerateInitialConcentrations(graph)\n",
    "gic.specific_random(compounds=['CO2'])"
   ]
  },
  {
   "cell_type": "code",
   "execution_count": 13,
   "id": "15853133",
   "metadata": {},
   "outputs": [
    {
     "data": {
      "text/plain": [
       "{'H2S': 0,\n",
       " 'O2': 0,\n",
       " 'H2SO3': 0,\n",
       " 'H2O': 1e-06,\n",
       " 'H2': 0,\n",
       " 'CO2': 9.209381237749511e-07,\n",
       " 'CH4': 0,\n",
       " 'CH3COOH': 0,\n",
       " 'CO': 0,\n",
       " 'CH3OH': 0,\n",
       " 'H2CO': 0,\n",
       " 'HNO2': 0,\n",
       " 'HNO3': 0,\n",
       " 'CH2O2': 0,\n",
       " 'S8': 0,\n",
       " 'SO2': 0,\n",
       " 'H2SO4': 0,\n",
       " 'CH3CHO': 0,\n",
       " 'CH3CH2OH': 0,\n",
       " 'N2': 0,\n",
       " 'NO': 0,\n",
       " 'NO2': 0,\n",
       " 'NOHSO4': 0,\n",
       " 'NH3': 0}"
      ]
     },
     "execution_count": 13,
     "metadata": {},
     "output_type": "execute_result"
    }
   ],
   "source": [
    "gic.update_ic({'H2O':1e-6})"
   ]
  }
 ],
 "metadata": {
  "kernelspec": {
   "display_name": "py311",
   "language": "python",
   "name": "python3"
  },
  "language_info": {
   "codemirror_mode": {
    "name": "ipython",
    "version": 3
   },
   "file_extension": ".py",
   "mimetype": "text/x-python",
   "name": "python",
   "nbconvert_exporter": "python",
   "pygments_lexer": "ipython3",
   "version": "3.11.9"
  }
 },
 "nbformat": 4,
 "nbformat_minor": 5
}
