{
 "cells": [
  {
   "cell_type": "code",
   "execution_count": 1,
   "id": "c698284f",
   "metadata": {},
   "outputs": [],
   "source": [
    "%load_ext autoreload\n",
    "%autoreload 2"
   ]
  },
  {
   "cell_type": "code",
   "execution_count": 2,
   "id": "81c405ac",
   "metadata": {},
   "outputs": [
    {
     "name": "stderr",
     "output_type": "stream",
     "text": [
      "/Users/badw/github-projects/arcs/arcs/generate.py:255: RuntimeWarning: overflow encountered in exp\n",
      "  K = np.exp(\n"
     ]
    }
   ],
   "source": [
    "from arcs.generate import GraphGenerator\n",
    "\n",
    "graph = GraphGenerator().from_file(\n",
    "    filename='../app/data/scan_dft_data.json',\n",
    "    temperature=248,\n",
    "    pressure=20,\n",
    "    max_reaction_length=5\n",
    ")"
   ]
  },
  {
   "cell_type": "code",
   "execution_count": 3,
   "id": "82248824",
   "metadata": {},
   "outputs": [],
   "source": [
    "#import matplotlib.pyplot as plt\n",
    "#import networkx as nx \n",
    "#import numpy as np \n",
    "#G = graph #\n",
    "\n",
    "#node_colours= []\n",
    "#node_sizes = []\n",
    "#for node in list(G.nodes):\n",
    "#    if isinstance(node,int):\n",
    "#        node_colours.append('black')\n",
    "#        node_sizes.append(0)\n",
    "#    else:\n",
    "#        node_colours.append('white')\n",
    "#        node_sizes.append(100)#\n",
    "\n",
    "#edges,weights = zip(*nx.get_edge_attributes(G,'weight').items())\n",
    "#vmin = np.min(weights)\n",
    "#vmax = np.max(weights)\n",
    "#cmap = plt.cm.viridis#\n",
    "\n",
    "#nx.draw_random(G,node_color=node_colours,node_size=node_sizes,edgelist=edges,#edge_color=weights,width=0.1,edge_cmap=cmap,vmin=vmin,vmax=vmax)"
   ]
  },
  {
   "cell_type": "markdown",
   "id": "c34348ee",
   "metadata": {},
   "source": [
    "production run"
   ]
  },
  {
   "cell_type": "code",
   "execution_count": 4,
   "id": "27cdf512",
   "metadata": {},
   "outputs": [
    {
     "data": {
      "application/vnd.jupyter.widget-view+json": {
       "model_id": "274857ee74bf47c9bcaece21a14c1227",
       "version_major": 2,
       "version_minor": 0
      },
      "text/plain": [
       "  0%|          | 0/50 [00:00<?, ?it/s]"
      ]
     },
     "metadata": {},
     "output_type": "display_data"
    }
   ],
   "source": [
    "from arcs.traversal import Traversal\n",
    "from arcs.generate import GenerateInitialConcentrations\n",
    "\n",
    "gic = GenerateInitialConcentrations(graph=graph).update_ic(\n",
    "    {'H2O':30,'O2':10,'SO2':10,'H2S':10,'NO2':0}\n",
    "    #{'H2O':30,'O2':10,'SO2':10,'H2S':10,'NO2':10}\n",
    "    #{'H2O':30,'SO2':10}\n",
    "    )\n",
    "\n",
    "t = Traversal(graph=graph)\n",
    "t.rank_by_number_of_atoms = True\n",
    "\n",
    "data = t.sample(initial_concentrations=gic,ncpus=4,nsamples=50)"
   ]
  },
  {
   "cell_type": "code",
   "execution_count": 7,
   "id": "e59786da",
   "metadata": {},
   "outputs": [
    {
     "data": {
      "text/plain": [
       "1 H2O + 1 SO2 = 1 H2SO3           39\n",
       "1 H2 + 1 SO2 = 1 O2 + 1 H2S       33\n",
       "3 H2 + 1 SO2 = 2 H2O + 1 H2S      24\n",
       "1 H2 + 1 O2 + 1 SO2 = 1 H2SO4     13\n",
       "3 O2 + 2 H2S = 2 H2O + 2 SO2      13\n",
       "1 H2 + 1 H2SO4 = 2 H2O + 1 SO2     9\n",
       "2 H2 + 1 O2 = 2 H2O                8\n",
       "1 O2 + 2 H2O + 2 SO2 = 2 H2SO4     8\n",
       "2 H2 + 2 SO2 = 1 H2SO4 + 1 H2S     4\n",
       "2 O2 + 1 H2S = 1 H2SO4             4\n",
       "3 H2 + 1 H2SO3 = 3 H2O + 1 H2S     1\n",
       "dtype: int64"
      ]
     },
     "execution_count": 7,
     "metadata": {},
     "output_type": "execute_result"
    }
   ],
   "source": [
    "from arcs.analysis import AnalyseSampling\n",
    "import pandas as pd \n",
    "\n",
    "analysis = AnalyseSampling()\n",
    "stats = pd.Series(analysis.reaction_statistics(data)).sort_values(ascending=False)\n",
    "stats"
   ]
  },
  {
   "cell_type": "code",
   "execution_count": null,
   "id": "bca22c16",
   "metadata": {},
   "outputs": [
    {
     "data": {
      "text/plain": [
       "{'H2SO3': {'color': '#97c2fc',\n",
       "  'size': 10,\n",
       "  'id': 'H2SO3',\n",
       "  'label': 'H2SO3',\n",
       "  'shape': 'box',\n",
       "  'font': {'color': 'white'}},\n",
       " '0': {'color': '#67000d',\n",
       "  'size': 8,\n",
       "  'id': '0',\n",
       "  'label': None,\n",
       "  'shape': 'circle',\n",
       "  'font': {'color': 'white'},\n",
       "  'title': '1 H2O + 1 SO2 = 1 H2SO3'},\n",
       " '10': {'color': '#97c2fc',\n",
       "  'size': 8,\n",
       "  'id': '10',\n",
       "  'label': None,\n",
       "  'shape': 'circle',\n",
       "  'font': {'color': 'white'},\n",
       "  'title': '3 H2 + 1 H2SO3 = 3 H2O + 1 H2S'},\n",
       " 'H2O': {'color': '#97c2fc',\n",
       "  'size': 10,\n",
       "  'id': 'H2O',\n",
       "  'label': 'H2O',\n",
       "  'shape': 'box',\n",
       "  'font': {'color': 'white'}},\n",
       " 'SO2': {'color': '#97c2fc',\n",
       "  'size': 10,\n",
       "  'id': 'SO2',\n",
       "  'label': 'SO2',\n",
       "  'shape': 'box',\n",
       "  'font': {'color': 'white'}},\n",
       " '6': {'color': '#fee2d5',\n",
       "  'size': 8,\n",
       "  'id': '6',\n",
       "  'label': None,\n",
       "  'shape': 'circle',\n",
       "  'font': {'color': 'white'},\n",
       "  'title': '1 O2 + 2 H2O + 2 SO2 = 2 H2SO4'},\n",
       " '2': {'color': '#f44f39',\n",
       "  'size': 8,\n",
       "  'id': '2',\n",
       "  'label': None,\n",
       "  'shape': 'circle',\n",
       "  'font': {'color': 'white'},\n",
       "  'title': '1 H2 + 1 O2 + 1 SO2 = 1 H2SO4'},\n",
       " '5': {'color': '#fedbcc',\n",
       "  'size': 8,\n",
       "  'id': '5',\n",
       "  'label': None,\n",
       "  'shape': 'circle',\n",
       "  'font': {'color': 'white'},\n",
       "  'title': '2 H2 + 2 SO2 = 1 H2SO4 + 1 H2S'},\n",
       " '8': {'color': '#fff5f0',\n",
       "  'size': 8,\n",
       "  'id': '8',\n",
       "  'label': None,\n",
       "  'shape': 'circle',\n",
       "  'font': {'color': 'white'},\n",
       "  'title': '3 H2 + 1 SO2 = 2 H2O + 1 H2S'},\n",
       " 'O2': {'color': '#97c2fc',\n",
       "  'size': 10,\n",
       "  'id': 'O2',\n",
       "  'label': 'O2',\n",
       "  'shape': 'box',\n",
       "  'font': {'color': 'white'}},\n",
       " '1': {'color': '#b21218',\n",
       "  'size': 8,\n",
       "  'id': '1',\n",
       "  'label': None,\n",
       "  'shape': 'circle',\n",
       "  'font': {'color': 'white'},\n",
       "  'title': '1 H2 + 1 SO2 = 1 O2 + 1 H2S'},\n",
       " '3': {'color': '#fcb99f',\n",
       "  'size': 8,\n",
       "  'id': '3',\n",
       "  'label': None,\n",
       "  'shape': 'circle',\n",
       "  'font': {'color': 'white'},\n",
       "  'title': '2 H2 + 1 O2 = 2 H2O'},\n",
       " '7': {'color': '#fee2d5',\n",
       "  'size': 8,\n",
       "  'id': '7',\n",
       "  'label': None,\n",
       "  'shape': 'circle',\n",
       "  'font': {'color': 'white'},\n",
       "  'title': '2 O2 + 1 H2S = 1 H2SO4'},\n",
       " '9': {'color': '#fff5f0',\n",
       "  'size': 8,\n",
       "  'id': '9',\n",
       "  'label': None,\n",
       "  'shape': 'circle',\n",
       "  'font': {'color': 'white'},\n",
       "  'title': '3 O2 + 2 H2S = 2 H2O + 2 SO2'},\n",
       " 'H2': {'color': '#97c2fc',\n",
       "  'size': 10,\n",
       "  'id': 'H2',\n",
       "  'label': 'H2',\n",
       "  'shape': 'box',\n",
       "  'font': {'color': 'white'}},\n",
       " 'H2S': {'color': '#97c2fc',\n",
       "  'size': 10,\n",
       "  'id': 'H2S',\n",
       "  'label': 'H2S',\n",
       "  'shape': 'box',\n",
       "  'font': {'color': 'white'}},\n",
       " '4': {'color': '#fcb99f',\n",
       "  'size': 8,\n",
       "  'id': '4',\n",
       "  'label': None,\n",
       "  'shape': 'circle',\n",
       "  'font': {'color': 'white'},\n",
       "  'title': '1 H2 + 1 H2SO4 = 2 H2O + 1 SO2'},\n",
       " 'H2SO4': {'color': '#97c2fc',\n",
       "  'size': 10,\n",
       "  'id': 'H2SO4',\n",
       "  'label': 'H2SO4',\n",
       "  'shape': 'box',\n",
       "  'font': {'color': 'white'}}}"
      ]
     },
     "execution_count": 8,
     "metadata": {},
     "output_type": "execute_result"
    }
   ],
   "source": [
    "g = analysis.result_to_pyvis(data)\n"
   ]
  },
  {
   "cell_type": "code",
   "execution_count": 49,
   "id": "716d1ffd",
   "metadata": {},
   "outputs": [
    {
     "data": {
      "text/html": [
       "<div>\n",
       "<style scoped>\n",
       "    .dataframe tbody tr th:only-of-type {\n",
       "        vertical-align: middle;\n",
       "    }\n",
       "\n",
       "    .dataframe tbody tr th {\n",
       "        vertical-align: top;\n",
       "    }\n",
       "\n",
       "    .dataframe thead th {\n",
       "        text-align: right;\n",
       "    }\n",
       "</style>\n",
       "<table border=\"1\" class=\"dataframe\">\n",
       "  <thead>\n",
       "    <tr style=\"text-align: right;\">\n",
       "      <th></th>\n",
       "      <th>initial</th>\n",
       "      <th>mean</th>\n",
       "      <th>diff</th>\n",
       "      <th>std</th>\n",
       "      <th>var</th>\n",
       "    </tr>\n",
       "  </thead>\n",
       "  <tbody>\n",
       "    <tr>\n",
       "      <th>H2S</th>\n",
       "      <td>10.0</td>\n",
       "      <td>2.27</td>\n",
       "      <td>-7.73</td>\n",
       "      <td>3.82</td>\n",
       "      <td>14.59</td>\n",
       "    </tr>\n",
       "    <tr>\n",
       "      <th>O2</th>\n",
       "      <td>10.0</td>\n",
       "      <td>2.53</td>\n",
       "      <td>-7.47</td>\n",
       "      <td>5.11</td>\n",
       "      <td>26.15</td>\n",
       "    </tr>\n",
       "    <tr>\n",
       "      <th>H2SO3</th>\n",
       "      <td>0.0</td>\n",
       "      <td>0.00</td>\n",
       "      <td>0.00</td>\n",
       "      <td>0.00</td>\n",
       "      <td>0.00</td>\n",
       "    </tr>\n",
       "    <tr>\n",
       "      <th>S8</th>\n",
       "      <td>0.0</td>\n",
       "      <td>0.22</td>\n",
       "      <td>0.22</td>\n",
       "      <td>0.51</td>\n",
       "      <td>0.26</td>\n",
       "    </tr>\n",
       "    <tr>\n",
       "      <th>H2SO4</th>\n",
       "      <td>0.0</td>\n",
       "      <td>0.64</td>\n",
       "      <td>0.64</td>\n",
       "      <td>2.38</td>\n",
       "      <td>5.64</td>\n",
       "    </tr>\n",
       "    <tr>\n",
       "      <th>H2O</th>\n",
       "      <td>30.0</td>\n",
       "      <td>31.65</td>\n",
       "      <td>1.65</td>\n",
       "      <td>9.31</td>\n",
       "      <td>86.58</td>\n",
       "    </tr>\n",
       "    <tr>\n",
       "      <th>H2</th>\n",
       "      <td>0.0</td>\n",
       "      <td>2.75</td>\n",
       "      <td>2.75</td>\n",
       "      <td>4.48</td>\n",
       "      <td>20.06</td>\n",
       "    </tr>\n",
       "    <tr>\n",
       "      <th>SO2</th>\n",
       "      <td>10.0</td>\n",
       "      <td>14.10</td>\n",
       "      <td>4.10</td>\n",
       "      <td>6.14</td>\n",
       "      <td>37.64</td>\n",
       "    </tr>\n",
       "  </tbody>\n",
       "</table>\n",
       "</div>"
      ],
      "text/plain": [
       "       initial   mean  diff   std    var\n",
       "H2S       10.0   2.27 -7.73  3.82  14.59\n",
       "O2        10.0   2.53 -7.47  5.11  26.15\n",
       "H2SO3      0.0   0.00  0.00  0.00   0.00\n",
       "S8         0.0   0.22  0.22  0.51   0.26\n",
       "H2SO4      0.0   0.64  0.64  2.38   5.64\n",
       "H2O       30.0  31.65  1.65  9.31  86.58\n",
       "H2         0.0   2.75  2.75  4.48  20.06\n",
       "SO2       10.0  14.10  4.10  6.14  37.64"
      ]
     },
     "execution_count": 49,
     "metadata": {},
     "output_type": "execute_result"
    }
   ],
   "source": [
    "average_data = analysis.average_sampling(data)\n",
    "average_data = average_data.loc[~(average_data==0).all(axis=1)]\n",
    "average_data.round(5)\n",
    "average_data.sort_values(by='diff',inplace=True)\n",
    "average_data.round(2)"
   ]
  },
  {
   "cell_type": "code",
   "execution_count": 50,
   "id": "1c89114f",
   "metadata": {},
   "outputs": [
    {
     "data": {
      "text/plain": [
       "<Axes: >"
      ]
     },
     "execution_count": 50,
     "metadata": {},
     "output_type": "execute_result"
    },
    {
     "data": {
      "image/png": "[encoded data removed]",
      "text/plain": [
       "<Figure size 640x480 with 1 Axes>"
      ]
     },
     "metadata": {},
     "output_type": "display_data"
    }
   ],
   "source": [
    "import seaborn as sns \n",
    "import matplotlib.pyplot as plt\n",
    "import matplotlib.cm as cm\n",
    "import matplotlib.colors as colors\n",
    "\n",
    "sns.set_style('darkgrid')\n",
    "sns.set_palette('pastel')\n",
    "\n",
    "\n",
    "norm = colors.Normalize(vmin=average_data['diff'].min(), vmax=average_data['diff'].max())\n",
    "cmap = cm.RdBu  # or any other colormap\n",
    "\n",
    "bar_colors = [cmap(norm(value)) for value in average_data['diff']]\n",
    "\n",
    "average_data.plot.bar(y='diff',yerr='std',color=bar_colors)"
   ]
  },
  {
   "cell_type": "code",
   "execution_count": 51,
   "id": "b4f33349",
   "metadata": {},
   "outputs": [
    {
     "ename": "KeyError",
     "evalue": "0",
     "output_type": "error",
     "traceback": [
      "\u001b[31m---------------------------------------------------------------------------\u001b[39m",
      "\u001b[31mKeyError\u001b[39m                                  Traceback (most recent call last)",
      "\u001b[36mCell\u001b[39m\u001b[36m \u001b[39m\u001b[32mIn[51]\u001b[39m\u001b[32m, line 1\u001b[39m\n\u001b[32m----> \u001b[39m\u001b[32m1\u001b[39m \u001b[43manalysis\u001b[49m\u001b[43m.\u001b[49m\u001b[43mresult_to_pyvis\u001b[49m\u001b[43m(\u001b[49m\u001b[43mdata\u001b[49m\u001b[43m)\u001b[49m\n",
      "\u001b[36mFile \u001b[39m\u001b[32m<string>:37\u001b[39m, in \u001b[36mresult_to_pyvis\u001b[39m\u001b[34m(self, data, head, cmap, filename)\u001b[39m\n",
      "\u001b[31mKeyError\u001b[39m: 0"
     ]
    }
   ],
   "source": [
    "analysis.result_to_pyvis(data)"
   ]
  },
  {
   "cell_type": "code",
   "execution_count": 18,
   "id": "e2699116",
   "metadata": {},
   "outputs": [
    {
     "data": {
      "text/plain": [
       "({'reaction_string': '8 O2 + 1 S8 = 8 SO2',\n",
       "  'reactants': {'O2': 8, 'S8': 1},\n",
       "  'products': {'SO2': 8}},\n",
       " inf)"
      ]
     },
     "execution_count": 18,
     "metadata": {},
     "output_type": "execute_result"
    }
   ],
   "source": [
    "reaction,equilibrium_constant = data[1]['reaction_statistics'][1].values()\n",
    "reaction,equilibrium_constant"
   ]
  },
  {
   "cell_type": "code",
   "execution_count": 42,
   "id": "74acb89e",
   "metadata": {},
   "outputs": [
    {
     "data": {
      "text/plain": [
       "3 H2 + 1 SO2 = 2 H2O + 1 H2S      40\n",
       "1 H2O + 1 SO2 = 1 H2SO3           38\n",
       "1 H2 + 1 SO2 = 1 O2 + 1 H2S       35\n",
       "3 O2 + 2 H2S = 2 H2O + 2 SO2      20\n",
       "1 H2 + 1 H2SO4 = 2 H2O + 1 SO2    16\n",
       "2 H2 + 1 O2 = 2 H2O                9\n",
       "8 O2 + 1 S8 = 8 SO2                8\n",
       "2 O2 + 1 H2S = 1 H2SO4             4\n",
       "1 H2 + 1 O2 + 1 SO2 = 1 H2SO4      4\n",
       "4 O2 + 8 H2S = 8 H2O + 1 S8        4\n",
       "dtype: int64"
      ]
     },
     "execution_count": 42,
     "metadata": {},
     "output_type": "execute_result"
    }
   ],
   "source": [
    "reaction_statistics = pd.Series(\n",
    "    analysis.reaction_statistics(data)\n",
    "    ).head(10).sort_values(ascending=False).to_dict()\n",
    "\n",
    "pd.Series(reaction_statistics)"
   ]
  },
  {
   "cell_type": "code",
   "execution_count": 33,
   "id": "a6b3caef",
   "metadata": {},
   "outputs": [
    {
     "name": "stdout",
     "output_type": "stream",
     "text": [
      "1.9121656308651555e-58\n",
      "8.651565385080484e+34\n",
      "inf\n",
      "4.5244853507621374e+92\n",
      "5.768443325304716e+136\n",
      "1.1030219070241502e+79\n",
      "1.2374229615727168e+208\n",
      "3.8018398004920577e-06\n",
      "41018998099206.35\n",
      "0.0\n"
     ]
    }
   ],
   "source": [
    "for i,(reaction,reaction_dict) in enumerate(reaction_data.items()):\n",
    "    reaction,k = reaction_dict.values() \n",
    "    print(k)"
   ]
  },
  {
   "cell_type": "code",
   "execution_count": 26,
   "id": "f838ca46",
   "metadata": {},
   "outputs": [],
   "source": [
    "import networkx as nx \n",
    "from pyvis.network import Network \n",
    "import numpy as np \n",
    "\n",
    "\n",
    "reaction_statistics = pd.Series(\n",
    "    analysis.reaction_statistics(data)\n",
    "    ).head(10).sort_values(ascending=False).to_dict()\n",
    "\n",
    "rs = {}\n",
    "nodes = [graph.nodes()[x] for x in graph.nodes() if isinstance(x,int)]\n",
    "for i,node in enumerate(nodes):\n",
    "    if node['reaction']['reaction_string'] in list(reaction_statistics):\n",
    "        rs[i] = node['reaction'] \n",
    "        rs[i]['frequency'] = reaction_statistics[node['reaction']['reaction_string']]\n",
    "        rs[i]['equilibrium_constant'] = node['equilibrium_constant']\n",
    "        \n",
    "\n",
    "\n",
    "G = nx.MultiDiGraph(directed=True)\n",
    "\n",
    "for i,reaction in rs.items():\n",
    "    if reaction['equilibrium_constant'] < 1:\n",
    "\n",
    "        G.add_weighted_edges_from(\n",
    "                [compound,str(i),1] for compound in reaction['products']\n",
    "                ) #products -> reaction\n",
    "        G.add_weighted_edges_from(\n",
    "                [str(i),compound,1] for compound in reaction['reactants']\n",
    "                ) #reaction -> products\n",
    "    else:\n",
    "        G.add_weighted_edges_from(\n",
    "                [compound,str(i),1] for compound in reaction['reactants']\n",
    "                ) #products -> reaction\n",
    "        G.add_weighted_edges_from(\n",
    "                [str(i),compound,1] for compound in reaction['products']\n",
    "                ) #reaction -> products\n",
    "\n",
    "compound_nodes = []\n",
    "reaction_nodes = []\n",
    "for node in G.nodes():\n",
    "    try:\n",
    "        int(node)\n",
    "        reaction_nodes.append(node)\n",
    "    except Exception:\n",
    "        compound_nodes.append(node)\n",
    "\n",
    "\n",
    "            \n",
    "reaction_node_sizes = {str(i):8  for i,reaction in rs.items()} #reaction['frequency']\n",
    "nx.set_node_attributes(G,reaction_node_sizes,name='size')\n",
    "\n",
    "\n",
    "\n",
    "#set reaction node colour based on frequency\n",
    "import numpy as np\n",
    "import matplotlib as mpl\n",
    "\n",
    "frequency = pd.Series({str(i):reaction['frequency']  for i,reaction in rs.items()}) #\n",
    "cmap = mpl.colormaps['Reds']\n",
    "norm = mpl.colors.Normalize(vmin=frequency.min(),vmax=frequency.max())\n",
    "colours = {str(r):mpl.colors.rgb2hex(cmap(norm(freq))) for r,freq in frequency.items()}\n",
    "nx.set_node_attributes(G,colours,name='color')\n",
    "\n",
    "compound_node_colours = {node:'grey' for node in compound_nodes}\n",
    "nx.set_node_attributes(G,compound_node_colours,name='color')\n",
    "\n",
    "#set up pyvis graph\n",
    "g = Network(height='750%',width='100%',notebook=False,directed=True,font_color=\"white\",neighborhood_highlight=True)\n",
    "\n",
    "g.repulsion(\n",
    "    node_distance=100,\n",
    "    spring_length=50,\n",
    "    damping=0.01,\n",
    ")\n",
    "g.from_nx(G,edge_scaling=False)\n",
    "\n",
    "\n",
    "#assign reactions to tooltips \n",
    "\n",
    "for reaction in reaction_nodes:\n",
    "    g.node_map[reaction]['shape'] = 'circle'\n",
    "    g.node_map[reaction]['title'] = '{} ; frequency = {}'.format(\n",
    "        rs[int(reaction)]['reaction_string'],rs[int(reaction)]['frequency']\n",
    "    )\n",
    "    g.node_map[reaction]['label'] = None\n",
    "\n",
    "for compound in compound_nodes:\n",
    "    g.node_map[compound]['shape'] = 'box'\n",
    "\n",
    "g.barnes_hut()\n",
    "\n",
    "g.save_graph('graph.html')"
   ]
  },
  {
   "cell_type": "code",
   "execution_count": 294,
   "id": "f1a613a0",
   "metadata": {},
   "outputs": [
    {
     "data": {
      "text/plain": [
       "{'color': 'grey', 'size': 10, 'id': 'H2SO4', 'label': 'H2SO4', 'shape': 'dot'}"
      ]
     },
     "execution_count": 294,
     "metadata": {},
     "output_type": "execute_result"
    }
   ],
   "source": [
    "g.node_map['H2SO4']"
   ]
  },
  {
   "cell_type": "code",
   "execution_count": 290,
   "id": "7d852056",
   "metadata": {},
   "outputs": [
    {
     "name": "stdout",
     "output_type": "stream",
     "text": [
      "1\n",
      "2\n",
      "3\n"
     ]
    },
    {
     "data": {
      "text/plain": [
       "{1: {'color': '#00ff1e',\n",
       "  'value': 10,\n",
       "  'title': 'I am node 1',\n",
       "  'x': 21.4,\n",
       "  'y': 100.2,\n",
       "  'id': 1,\n",
       "  'label': 'NODE 1',\n",
       "  'shape': 'dot'},\n",
       " 2: {'color': '#162347',\n",
       "  'value': 100,\n",
       "  'title': 'node 2 here',\n",
       "  'x': 54.2,\n",
       "  'y': 23.54,\n",
       "  'id': 2,\n",
       "  'label': 'NODE 2',\n",
       "  'shape': 'dot'},\n",
       " 3: {'color': '#dd4b39',\n",
       "  'value': 400,\n",
       "  'title': 'and im node 3',\n",
       "  'x': 11.2,\n",
       "  'y': 32.1,\n",
       "  'id': 3,\n",
       "  'label': 'NODE 3',\n",
       "  'shape': 'dot'}}"
      ]
     },
     "execution_count": 290,
     "metadata": {},
     "output_type": "execute_result"
    }
   ],
   "source": [
    "net = Network()\n",
    "net.add_nodes([1,2,3], value=[10, 100, 400],\n",
    "                         title=['I am node 1', 'node 2 here', 'and im node 3'],\n",
    "                         x=[21.4, 54.2, 11.2],\n",
    "                         y=[100.2, 23.54, 32.1],\n",
    "                         label=['NODE 1', 'NODE 2', 'NODE 3'],\n",
    "                         color=['#00ff1e', '#162347', '#dd4b39'])\n",
    "\n",
    "for node in net.get_nodes():\n",
    "    print(node)\n",
    "\n",
    "net.node_map"
   ]
  },
  {
   "cell_type": "code",
   "execution_count": 237,
   "id": "2e35f4ec",
   "metadata": {},
   "outputs": [
    {
     "data": {
      "text/plain": [
       "{'width': 1, 'from': 'H2SO3', 'to': '438', 'arrows': 'to', 'color': 'grey'}"
      ]
     },
     "execution_count": 237,
     "metadata": {},
     "output_type": "execute_result"
    }
   ],
   "source": [
    "g.get_edges()[2]"
   ]
  },
  {
   "cell_type": "code",
   "execution_count": 161,
   "id": "ea19156f",
   "metadata": {},
   "outputs": [
    {
     "data": {
      "text/plain": [
       "{'size': 0, 'color': 'red'}"
      ]
     },
     "execution_count": 161,
     "metadata": {},
     "output_type": "execute_result"
    }
   ],
   "source": [
    "G.nodes['8']"
   ]
  },
  {
   "cell_type": "code",
   "execution_count": 157,
   "id": "851321fc",
   "metadata": {},
   "outputs": [
    {
     "data": {
      "text/plain": [
       "8       0.594315\n",
       "11      0.020672\n",
       "13      0.031008\n",
       "18      0.000000\n",
       "19      0.695090\n",
       "20      0.175711\n",
       "25      0.000000\n",
       "30      0.124031\n",
       "32      0.010336\n",
       "38      0.093023\n",
       "62      0.328165\n",
       "67      0.010336\n",
       "104     0.010336\n",
       "131     0.142119\n",
       "146     0.000000\n",
       "160     0.010336\n",
       "175     0.000000\n",
       "184     0.118863\n",
       "222     0.183463\n",
       "226     0.020672\n",
       "252     0.020672\n",
       "294     0.041344\n",
       "295     0.010336\n",
       "300     0.173127\n",
       "306     0.010336\n",
       "310     0.031008\n",
       "320     0.007752\n",
       "329     0.121447\n",
       "344     0.000000\n",
       "351     0.266150\n",
       "354     0.069767\n",
       "384     0.000000\n",
       "401     1.000000\n",
       "402     0.020672\n",
       "405     0.000000\n",
       "438     0.072351\n",
       "455     0.307494\n",
       "469     0.000000\n",
       "471     0.056848\n",
       "801     0.000000\n",
       "1390    0.000000\n",
       "1833    0.082687\n",
       "1860    0.142119\n",
       "2653    0.000000\n",
       "2682    0.020672\n",
       "2940    0.000000\n",
       "3162    0.155039\n",
       "3348    0.214470\n",
       "3511    0.000000\n",
       "3652    0.000000\n",
       "3679    0.000000\n",
       "4053    0.010336\n",
       "4102    0.062016\n",
       "4697    0.000000\n",
       "4710    0.000000\n",
       "4855    0.051680\n",
       "4858    0.051680\n",
       "4965    0.010336\n",
       "5097    0.041344\n",
       "dtype: float64"
      ]
     },
     "execution_count": 157,
     "metadata": {},
     "output_type": "execute_result"
    }
   ],
   "source": [
    "df = pd.Series(frequency)\n",
    "normalized_df=(df-df.min())/(df.max()-df.min())\n",
    "\n",
    "normalized_df"
   ]
  },
  {
   "cell_type": "code",
   "execution_count": 153,
   "id": "b62d2a0d",
   "metadata": {},
   "outputs": [
    {
     "data": {
      "text/plain": [
       "{'size': 234}"
      ]
     },
     "execution_count": 153,
     "metadata": {},
     "output_type": "execute_result"
    }
   ],
   "source": [
    "G.nodes()['8']"
   ]
  },
  {
   "cell_type": "markdown",
   "id": "b89b97ef",
   "metadata": {},
   "source": [
    "effect of adding NO2"
   ]
  },
  {
   "cell_type": "code",
   "execution_count": 111,
   "id": "12cf6c93",
   "metadata": {},
   "outputs": [],
   "source": [
    "from arcs.traversal import Traversal\n",
    "from arcs.generate import GenerateInitialConcentrations\n",
    "\n",
    "gic = GenerateInitialConcentrations(graph=graph).update_ic(\n",
    "    #{'H2O':30,'O2':10,'SO2':10,'H2S':10,'NO2':0}\n",
    "    {'H2O':30,'O2':10,'SO2':10,'H2S':10,'NO2':10}\n",
    "    #{'H2O':30,'SO2':10}\n",
    "    )\n",
    "\n",
    "t = Traversal(graph=graph)\n",
    "\n",
    "t.rank_by_number_of_atoms = True\n",
    "\n",
    "data = t.sample(initial_concentrations=gic,ncpus=4,nsamples=1000)#,tqdm_kws={'disable':True})"
   ]
  },
  {
   "cell_type": "code",
   "execution_count": 112,
   "id": "b44f483f",
   "metadata": {},
   "outputs": [
    {
     "name": "stdout",
     "output_type": "stream",
     "text": [
      "5    191\n",
      "4    228\n",
      "3    270\n",
      "2    242\n",
      "6     36\n",
      "1     32\n",
      "dtype: int64\n"
     ]
    },
    {
     "data": {
      "text/plain": [
       "1 H2 + 1 SO2 = 1 O2 + 1 H2S              391\n",
       "2 H2 + 1 O2 = 2 H2O                      273\n",
       "1 H2O + 1 SO2 = 1 H2SO3                  234\n",
       "1 H2O + 1 NO2 + 1 NO = 2 HNO2            131\n",
       "3 H2 + 1 SO2 = 2 H2O + 1 H2S             123\n",
       "3 O2 + 2 H2S = 2 H2O + 2 SO2             107\n",
       "1 H2 + 1 SO2 + 1 NO2 = 1 H2SO3 + 1 NO     87\n",
       "1 H2O + 2 NO2 = 1 HNO3 + 1 HNO2           75\n",
       "8 O2 + 1 S8 = 8 SO2                       72\n",
       "1 H2 + 1 H2SO4 = 2 H2O + 1 SO2            71\n",
       "dtype: int64"
      ]
     },
     "execution_count": 112,
     "metadata": {},
     "output_type": "execute_result"
    }
   ],
   "source": [
    "from arcs.analysis import AnalyseSampling\n",
    "import pandas as pd \n",
    "\n",
    "analysis = AnalyseSampling() #use_markdown=True,use_latex=True)\n",
    "print(pd.Series(analysis.count_path_length(data)))\n",
    "pd.Series(analysis.reaction_statistics(data)).sort_values(ascending=False).head(10)"
   ]
  },
  {
   "cell_type": "code",
   "execution_count": 113,
   "id": "a8104ae7",
   "metadata": {},
   "outputs": [
    {
     "data": {
      "text/html": [
       "<div>\n",
       "<style scoped>\n",
       "    .dataframe tbody tr th:only-of-type {\n",
       "        vertical-align: middle;\n",
       "    }\n",
       "\n",
       "    .dataframe tbody tr th {\n",
       "        vertical-align: top;\n",
       "    }\n",
       "\n",
       "    .dataframe thead th {\n",
       "        text-align: right;\n",
       "    }\n",
       "</style>\n",
       "<table border=\"1\" class=\"dataframe\">\n",
       "  <thead>\n",
       "    <tr style=\"text-align: right;\">\n",
       "      <th></th>\n",
       "      <th>initial</th>\n",
       "      <th>mean</th>\n",
       "      <th>diff</th>\n",
       "      <th>std</th>\n",
       "    </tr>\n",
       "  </thead>\n",
       "  <tbody>\n",
       "    <tr>\n",
       "      <th>H2S</th>\n",
       "      <td>10.0</td>\n",
       "      <td>4.8</td>\n",
       "      <td>-5.2</td>\n",
       "      <td>4.7</td>\n",
       "    </tr>\n",
       "    <tr>\n",
       "      <th>NO2</th>\n",
       "      <td>10.0</td>\n",
       "      <td>5.9</td>\n",
       "      <td>-4.1</td>\n",
       "      <td>4.9</td>\n",
       "    </tr>\n",
       "    <tr>\n",
       "      <th>O2</th>\n",
       "      <td>10.0</td>\n",
       "      <td>6.2</td>\n",
       "      <td>-3.8</td>\n",
       "      <td>6.0</td>\n",
       "    </tr>\n",
       "    <tr>\n",
       "      <th>H2O</th>\n",
       "      <td>30.0</td>\n",
       "      <td>29.2</td>\n",
       "      <td>-0.8</td>\n",
       "      <td>6.1</td>\n",
       "    </tr>\n",
       "    <tr>\n",
       "      <th>S8</th>\n",
       "      <td>0.0</td>\n",
       "      <td>0.1</td>\n",
       "      <td>0.1</td>\n",
       "      <td>0.3</td>\n",
       "    </tr>\n",
       "    <tr>\n",
       "      <th>NH3</th>\n",
       "      <td>0.0</td>\n",
       "      <td>0.1</td>\n",
       "      <td>0.1</td>\n",
       "      <td>0.8</td>\n",
       "    </tr>\n",
       "    <tr>\n",
       "      <th>H2SO3</th>\n",
       "      <td>0.0</td>\n",
       "      <td>0.3</td>\n",
       "      <td>0.3</td>\n",
       "      <td>1.6</td>\n",
       "    </tr>\n",
       "    <tr>\n",
       "      <th>NOHSO4</th>\n",
       "      <td>0.0</td>\n",
       "      <td>0.3</td>\n",
       "      <td>0.3</td>\n",
       "      <td>1.2</td>\n",
       "    </tr>\n",
       "    <tr>\n",
       "      <th>HNO3</th>\n",
       "      <td>0.0</td>\n",
       "      <td>0.5</td>\n",
       "      <td>0.5</td>\n",
       "      <td>1.6</td>\n",
       "    </tr>\n",
       "    <tr>\n",
       "      <th>HNO2</th>\n",
       "      <td>0.0</td>\n",
       "      <td>0.6</td>\n",
       "      <td>0.6</td>\n",
       "      <td>1.9</td>\n",
       "    </tr>\n",
       "    <tr>\n",
       "      <th>N2</th>\n",
       "      <td>0.0</td>\n",
       "      <td>0.7</td>\n",
       "      <td>0.7</td>\n",
       "      <td>1.7</td>\n",
       "    </tr>\n",
       "    <tr>\n",
       "      <th>NO</th>\n",
       "      <td>0.0</td>\n",
       "      <td>1.0</td>\n",
       "      <td>1.0</td>\n",
       "      <td>3.0</td>\n",
       "    </tr>\n",
       "    <tr>\n",
       "      <th>H2SO4</th>\n",
       "      <td>0.0</td>\n",
       "      <td>1.1</td>\n",
       "      <td>1.1</td>\n",
       "      <td>3.1</td>\n",
       "    </tr>\n",
       "    <tr>\n",
       "      <th>SO2</th>\n",
       "      <td>10.0</td>\n",
       "      <td>12.1</td>\n",
       "      <td>2.1</td>\n",
       "      <td>6.1</td>\n",
       "    </tr>\n",
       "    <tr>\n",
       "      <th>H2</th>\n",
       "      <td>0.0</td>\n",
       "      <td>2.6</td>\n",
       "      <td>2.6</td>\n",
       "      <td>4.3</td>\n",
       "    </tr>\n",
       "  </tbody>\n",
       "</table>\n",
       "</div>"
      ],
      "text/plain": [
       "        initial  mean  diff  std\n",
       "H2S        10.0   4.8  -5.2  4.7\n",
       "NO2        10.0   5.9  -4.1  4.9\n",
       "O2         10.0   6.2  -3.8  6.0\n",
       "H2O        30.0  29.2  -0.8  6.1\n",
       "S8          0.0   0.1   0.1  0.3\n",
       "NH3         0.0   0.1   0.1  0.8\n",
       "H2SO3       0.0   0.3   0.3  1.6\n",
       "NOHSO4      0.0   0.3   0.3  1.2\n",
       "HNO3        0.0   0.5   0.5  1.6\n",
       "HNO2        0.0   0.6   0.6  1.9\n",
       "N2          0.0   0.7   0.7  1.7\n",
       "NO          0.0   1.0   1.0  3.0\n",
       "H2SO4       0.0   1.1   1.1  3.1\n",
       "SO2        10.0  12.1   2.1  6.1\n",
       "H2          0.0   2.6   2.6  4.3"
      ]
     },
     "execution_count": 113,
     "metadata": {},
     "output_type": "execute_result"
    }
   ],
   "source": [
    "average_data = analysis.average_sampling(data)\n",
    "average_data = average_data.loc[~(average_data==0).all(axis=1)]\n",
    "average_data.round(2)\n",
    "average_data.sort_values(by='diff',inplace=True)\n",
    "average_data.round(1)"
   ]
  },
  {
   "cell_type": "code",
   "execution_count": 114,
   "id": "29e8b38e",
   "metadata": {},
   "outputs": [
    {
     "data": {
      "text/plain": [
       "<Axes: >"
      ]
     },
     "execution_count": 114,
     "metadata": {},
     "output_type": "execute_result"
    },
    {
     "data": {
      "image/png": "[encoded data removed]",
      "text/plain": [
       "<Figure size 640x480 with 1 Axes>"
      ]
     },
     "metadata": {},
     "output_type": "display_data"
    }
   ],
   "source": [
    "import seaborn as sns \n",
    "import matplotlib.pyplot as plt\n",
    "import matplotlib.cm as cm\n",
    "import matplotlib.colors as colors\n",
    "\n",
    "sns.set_style('darkgrid')\n",
    "sns.set_palette('pastel')\n",
    "\n",
    "\n",
    "norm = colors.Normalize(vmin=average_data['diff'].min(), vmax=average_data['diff'].max())\n",
    "cmap = cm.RdBu  # or any other colormap\n",
    "\n",
    "bar_colors = [cmap(norm(value)) for value in average_data['diff']]\n",
    "\n",
    "average_data.plot.bar(y='diff',yerr='std',color=bar_colors)"
   ]
  },
  {
   "cell_type": "markdown",
   "id": "6d3866ce",
   "metadata": {},
   "source": [
    "testing"
   ]
  },
  {
   "cell_type": "code",
   "execution_count": 107,
   "id": "a9b38a1a",
   "metadata": {},
   "outputs": [],
   "source": [
    "import networkx as nx \n",
    "from pyvis.network import Network \n",
    "\n",
    "\n",
    "reaction_statistics = analysis.reaction_statistics(data)\n",
    "\n",
    "rs = {}\n",
    "reactions = [graph.nodes()[x]['reaction'] for x in graph.nodes() if isinstance(x,int)]\n",
    "for i,reaction in enumerate(reactions):\n",
    "    if reaction['reaction_string'] in list(reaction_statistics):\n",
    "        rs[i] = reaction \n",
    "        rs[i]['frequency'] = reaction_statistics[reaction['reaction_string']]\n",
    "        \n",
    "\n",
    "G = nx.MultiDiGraph(directed=True)\n",
    "\n",
    "for i,reaction in rs.items():\n",
    "    G.add_weighted_edges_from(\n",
    "                [compound,str(i),1] for compound in reaction['reactants']\n",
    "                ) #reactants -> reaction\n",
    "    G.add_weighted_edges_from(\n",
    "                [str(i),compound,1] for compound in reaction['products']\n",
    "                ) #reaction -> products\n",
    "            \n",
    "frequency = {str(i):reaction['frequency'] for i,reaction in rs.items()}\n",
    "\n",
    "nx.set_node_attributes(G,frequency,name='frequency')\n",
    "\n",
    "g = Network(height=800,width=800,notebook=False,directed=True,neighborhood_highlight=True)\n",
    "g.from_nx(G,show_edge_weights=False)\n",
    "g.save_graph('graph.html')"
   ]
  },
  {
   "cell_type": "markdown",
   "id": "3f89fad6",
   "metadata": {},
   "source": [
    "### Speed Test "
   ]
  },
  {
   "cell_type": "code",
   "execution_count": null,
   "id": "d174e0d7",
   "metadata": {},
   "outputs": [],
   "source": [
    "from arcs.traversal import Traversal\n",
    "from arcs.generate import GenerateInitialConcentrations\n",
    "\n",
    "gic = GenerateInitialConcentrations(graph=graph).update_ic({'H2O':100,'H2':30,'O2':50,'H2S':100,'NO2':200,'N2':300})\n",
    "t = Traversal(graph=graph)"
   ]
  },
  {
   "cell_type": "code",
   "execution_count": null,
   "id": "6290efad",
   "metadata": {},
   "outputs": [],
   "source": [
    "data = t.sample(initial_concentrations=gic,ncpus=1)"
   ]
  },
  {
   "cell_type": "code",
   "execution_count": null,
   "id": "c8e131ea",
   "metadata": {},
   "outputs": [],
   "source": [
    "data = t.sample(initial_concentrations=gic,ncpus=2)"
   ]
  },
  {
   "cell_type": "code",
   "execution_count": null,
   "id": "f16ed613",
   "metadata": {},
   "outputs": [],
   "source": [
    "data = t.sample(initial_concentrations=gic,ncpus=4)"
   ]
  },
  {
   "cell_type": "code",
   "execution_count": null,
   "id": "ef8f7364",
   "metadata": {},
   "outputs": [],
   "source": [
    "data = t.sample(initial_concentrations=gic,ncpus=10)"
   ]
  },
  {
   "cell_type": "code",
   "execution_count": null,
   "id": "e6405b52",
   "metadata": {},
   "outputs": [],
   "source": [
    "t.random_walk(gic)"
   ]
  }
 ],
 "metadata": {
  "kernelspec": {
   "display_name": "py311",
   "language": "python",
   "name": "python3"
  },
  "language_info": {
   "codemirror_mode": {
    "name": "ipython",
    "version": 3
   },
   "file_extension": ".py",
   "mimetype": "text/x-python",
   "name": "python",
   "nbconvert_exporter": "python",
   "pygments_lexer": "ipython3",
   "version": "3.11.9"
  }
 },
 "nbformat": 4,
 "nbformat_minor": 5
}
