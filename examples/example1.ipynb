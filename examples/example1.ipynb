{
 "cells": [
  {
   "cell_type": "code",
   "execution_count": 1,
   "id": "c698284f",
   "metadata": {},
   "outputs": [],
   "source": [
    "%load_ext autoreload\n",
    "%autoreload 2"
   ]
  },
  {
   "cell_type": "code",
   "execution_count": null,
   "id": "3cec1cfd",
   "metadata": {},
   "outputs": [],
   "source": [
    "import numpy as np \n",
    "import tqdm\n",
    "from arcs.setup_functions import ReactionGibbsandEquilibrium\n",
    "from monty.serialization import loadfn\n",
    "from arcs.setup_functions import GraphGenerator"
   ]
  },
  {
   "cell_type": "code",
   "execution_count": 3,
   "id": "db4ce8aa",
   "metadata": {},
   "outputs": [
    {
     "name": "stderr",
     "output_type": "stream",
     "text": [
      "  0%|          | 0/501 [00:00<?, ?it/s]/Users/badw/github-projects/arcs/arcs/setup_functions.py:255: RuntimeWarning: overflow encountered in exp\n",
      "  K = np.exp(\n",
      "100%|██████████| 501/501 [00:00<00:00, 3184.77it/s]\n"
     ]
    }
   ],
   "source": [
    "dft_data = loadfn('../tests/test_dft_data.json')\n",
    "rge = ReactionGibbsandEquilibrium(dft_data)\n",
    "\n",
    "applied_reactions = [] \n",
    "for reaction in tqdm.tqdm(dft_data['reactions'].values()):\n",
    "    g_k_dict = rge.get_reaction_gibbs_and_equilibrium(reaction=reaction,temperature=100,pressure=1)\n",
    "    g_k_dict['r'] = reaction\n",
    "    applied_reactions.append(g_k_dict)\n",
    "\n",
    "\n",
    "gg = GraphGenerator(applied_reactions = applied_reactions)\n",
    "graph = gg.generate_multidigraph(temperature=100)"
   ]
  }
 ],
 "metadata": {
  "kernelspec": {
   "display_name": "py311",
   "language": "python",
   "name": "python3"
  },
  "language_info": {
   "codemirror_mode": {
    "name": "ipython",
    "version": 3
   },
   "file_extension": ".py",
   "mimetype": "text/x-python",
   "name": "python",
   "nbconvert_exporter": "python",
   "pygments_lexer": "ipython3",
   "version": "3.11.9"
  }
 },
 "nbformat": 4,
 "nbformat_minor": 5
}
