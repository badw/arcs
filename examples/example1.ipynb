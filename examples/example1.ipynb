{
 "cells": [
  {
   "cell_type": "code",
   "execution_count": 1,
   "id": "c698284f",
   "metadata": {},
   "outputs": [],
   "source": [
    "%load_ext autoreload\n",
    "%autoreload 2"
   ]
  },
  {
   "cell_type": "code",
   "execution_count": 2,
   "id": "81c405ac",
   "metadata": {},
   "outputs": [
    {
     "name": "stderr",
     "output_type": "stream",
     "text": [
      "/Users/badw/github-projects/arcs/arcs/generate.py:255: RuntimeWarning: overflow encountered in exp\n",
      "  K = np.exp(\n"
     ]
    }
   ],
   "source": [
    "from arcs.generate import GraphGenerator\n",
    "\n",
    "graph = GraphGenerator().from_file(\n",
    "    filename='../app/data/scan_dft_data.json',\n",
    "    temperature=248,\n",
    "    pressure=20,\n",
    "    max_reaction_length=5\n",
    ")"
   ]
  },
  {
   "cell_type": "code",
   "execution_count": 3,
   "id": "82248824",
   "metadata": {},
   "outputs": [],
   "source": [
    "#import matplotlib.pyplot as plt\n",
    "#import networkx as nx \n",
    "#import numpy as np \n",
    "#G = graph #\n",
    "\n",
    "#node_colours= []\n",
    "#node_sizes = []\n",
    "#for node in list(G.nodes):\n",
    "#    if isinstance(node,int):\n",
    "#        node_colours.append('black')\n",
    "#        node_sizes.append(0)\n",
    "#    else:\n",
    "#        node_colours.append('white')\n",
    "#        node_sizes.append(100)#\n",
    "\n",
    "#edges,weights = zip(*nx.get_edge_attributes(G,'weight').items())\n",
    "#vmin = np.min(weights)\n",
    "#vmax = np.max(weights)\n",
    "#cmap = plt.cm.viridis#\n",
    "\n",
    "#nx.draw_random(G,node_color=node_colours,node_size=node_sizes,edgelist=edges,#edge_color=weights,width=0.1,edge_cmap=cmap,vmin=vmin,vmax=vmax)"
   ]
  },
  {
   "cell_type": "markdown",
   "id": "c34348ee",
   "metadata": {},
   "source": [
    "production run"
   ]
  },
  {
   "cell_type": "code",
   "execution_count": 98,
   "id": "27cdf512",
   "metadata": {},
   "outputs": [
    {
     "data": {
      "application/vnd.jupyter.widget-view+json": {
       "model_id": "674936115c18424ab787ce2551a224d2",
       "version_major": 2,
       "version_minor": 0
      },
      "text/plain": [
       "  0%|          | 0/1000 [00:00<?, ?it/s]"
      ]
     },
     "metadata": {},
     "output_type": "display_data"
    }
   ],
   "source": [
    "from arcs.traversal import Traversal\n",
    "from arcs.generate import GenerateInitialConcentrations\n",
    "\n",
    "gic = GenerateInitialConcentrations(graph=graph).update_ic(\n",
    "    {'H2O':30,'O2':10,'SO2':10,'H2S':10,'NO2':0}\n",
    "    #{'H2O':30,'O2':10,'SO2':10,'H2S':10,'NO2':10}\n",
    "    #{'H2O':30,'SO2':10}\n",
    "    )\n",
    "\n",
    "t = Traversal(graph=graph)\n",
    "t.rank_by_number_of_atoms = True\n",
    "\n",
    "data = t.sample(initial_concentrations=gic,ncpus=4,nsamples=1000,progress_bar=True)"
   ]
  },
  {
   "cell_type": "code",
   "execution_count": 236,
   "id": "e59786da",
   "metadata": {},
   "outputs": [
    {
     "data": {
      "text/plain": [
       "1 H2 + 1 SO2 = 1 O2 + 1 H2S                 243\n",
       "1 H2O + 1 SO2 = 1 H2SO3                     190\n",
       "2 H2 + 1 O2 = 2 H2O                         142\n",
       "3 H2 + 1 SO2 = 2 H2O + 1 H2S                 83\n",
       "1 H2 + 1 SO2 + 1 NO2 = 1 H2SO3 + 1 NO        79\n",
       "1 H2O + 1 NO2 + 1 NO = 2 HNO2                68\n",
       "3 O2 + 2 H2S = 2 H2O + 2 SO2                 60\n",
       "1 H2 + 1 H2SO4 = 2 H2O + 1 SO2               51\n",
       "1 H2 + 1 NO2 = 1 H2O + 1 NO                  51\n",
       "1 H2O + 1 SO2 + 1 NO2 = 1 H2SO4 + 1 NO       48\n",
       "1 H2O + 2 NO2 = 1 HNO3 + 1 HNO2              47\n",
       "1 O2 + 2 H2O + 2 SO2 = 2 H2SO4               43\n",
       "2 O2 + 1 N2 = 2 NO2                          40\n",
       "2 H2S + 6 SO2 + 2 N2 = 1 S8 + 4 HNO3         36\n",
       "2 H2 + 2 SO2 + 1 N2 = 2 H2S + 2 NO2          36\n",
       "8 O2 + 1 S8 = 8 SO2                          32\n",
       "1 O2 + 2 NO = 2 NO2                          28\n",
       "3 H2 + 1 H2SO3 = 3 H2O + 1 H2S               24\n",
       "1 O2 + 1 H2S + 2 NO2 = 1 SO2 + 2 HNO2        24\n",
       "2 O2 + 1 H2S + 2 NO2 = 1 HNO3 + 1 NOHSO4     20\n",
       "1 H2SO4 + 1 N2 = 1 H2S + 2 NO2               20\n",
       "1 H2O + 3 NO2 = 2 HNO3 + 1 NO                18\n",
       "1 H2O + 1 H2S + 2 NO2 = 1 NH3 + 1 NOHSO4     16\n",
       "1 H2 + 1 SO2 + 2 NO = 1 H2S + 2 NO2          16\n",
       "2 H2 + 2 SO2 = 1 H2SO4 + 1 H2S               16\n",
       "1 H2 + 1 SO2 + 1 N2 = 1 H2S + 2 NO           12\n",
       "4 H2 + 1 H2SO4 = 4 H2O + 1 H2S               12\n",
       "1 SO2 + 1 HNO3 = 1 NOHSO4                    12\n",
       "1 H2S + 1 HNO2 = 1 SO2 + 1 NH3               12\n",
       "1 H2 + 1 SO2 + 2 NO2 = 1 H2SO4 + 2 NO         8\n",
       "1 H2 + 3 O2 + 1 N2 = 2 HNO3                   8\n",
       "1 H2 + 2 HNO3 = 2 H2O + 2 NO2                 8\n",
       "4 H2O + 4 SO2 = 3 H2SO4 + 1 H2S               8\n",
       "2 H2 + 1 H2S + 2 NO = 1 SO2 + 2 NH3           8\n",
       "1 S8 + 16 NO = 8 SO2 + 8 N2                   8\n",
       "2 H2O + 1 N2 = 1 NH3 + 1 HNO2                 8\n",
       "1 H2 + 1 HNO3 = 1 H2O + 1 HNO2                8\n",
       "16 H2O + 3 S8 = 16 H2S + 8 SO2                7\n",
       "4 O2 + 8 H2S = 8 H2O + 1 S8                   7\n",
       "2 NO2 + 1 N2 = 4 NO                           4\n",
       "2 H2O + 6 NO = 4 HNO2 + 1 N2                  4\n",
       "2 O2 + 1 H2S = 1 H2SO4                        4\n",
       "3 O2 + 2 H2S = 2 H2SO3                        4\n",
       "2 O2 + 1 NH3 = 1 H2O + 1 HNO3                 4\n",
       "3 H2 + 2 HNO2 = 4 H2O + 1 N2                  4\n",
       "2 O2 + 1 H2S + 1 HNO2 = 1 H2O + 1 NOHSO4      4\n",
       "2 O2 + 1 SO2 + 1 NH3 = 1 H2SO4 + 1 HNO2       4\n",
       "2 O2 + 1 H2S + 2 NO = 1 SO2 + 2 HNO2          4\n",
       "1 H2 + 1 SO2 + 2 NO = 1 H2SO4 + 1 N2          4\n",
       "1 H2 + 1 H2S + 1 HNO3 = 1 H2SO3 + 1 NH3       4\n",
       "3 O2 + 1 H2S + 1 N2 = 1 SO2 + 2 HNO2          4\n",
       "1 H2 + 1 O2 + 1 SO2 = 1 H2SO4                 4\n",
       "1 H2SO4 + 1 NO = 1 H2SO3 + 1 NO2              4\n",
       "1 H2O + 1 NOHSO4 = 1 H2SO4 + 1 HNO2           4\n",
       "4 H2 + 8 SO2 + 4 N2 = 1 S8 + 8 HNO2           4\n",
       "2 H2O + 1 SO2 + 1 N2 = 1 H2S + 2 HNO2         4\n",
       "2 O2 + 1 SO2 + 1 NH3 = 1 H2O + 1 NOHSO4       4\n",
       "dtype: int64"
      ]
     },
     "execution_count": 236,
     "metadata": {},
     "output_type": "execute_result"
    }
   ],
   "source": [
    "from arcs.analysis import AnalyseSampling\n",
    "import pandas as pd \n",
    "\n",
    "analysis = AnalyseSampling()\n",
    "new_data = analysis.reduce_data_by_minimum_path_length(data,4)\n",
    "pd.Series(analysis.reaction_statistics(new_data)).sort_values(ascending=False)"
   ]
  },
  {
   "cell_type": "code",
   "execution_count": 100,
   "id": "716d1ffd",
   "metadata": {},
   "outputs": [
    {
     "data": {
      "text/html": [
       "<div>\n",
       "<style scoped>\n",
       "    .dataframe tbody tr th:only-of-type {\n",
       "        vertical-align: middle;\n",
       "    }\n",
       "\n",
       "    .dataframe tbody tr th {\n",
       "        vertical-align: top;\n",
       "    }\n",
       "\n",
       "    .dataframe thead th {\n",
       "        text-align: right;\n",
       "    }\n",
       "</style>\n",
       "<table border=\"1\" class=\"dataframe\">\n",
       "  <thead>\n",
       "    <tr style=\"text-align: right;\">\n",
       "      <th></th>\n",
       "      <th>initial</th>\n",
       "      <th>mean</th>\n",
       "      <th>diff</th>\n",
       "      <th>std</th>\n",
       "    </tr>\n",
       "  </thead>\n",
       "  <tbody>\n",
       "    <tr>\n",
       "      <th>O2</th>\n",
       "      <td>10.0</td>\n",
       "      <td>2.61</td>\n",
       "      <td>-7.39</td>\n",
       "      <td>4.61</td>\n",
       "    </tr>\n",
       "    <tr>\n",
       "      <th>H2S</th>\n",
       "      <td>10.0</td>\n",
       "      <td>2.71</td>\n",
       "      <td>-7.29</td>\n",
       "      <td>4.11</td>\n",
       "    </tr>\n",
       "    <tr>\n",
       "      <th>H2SO3</th>\n",
       "      <td>0.0</td>\n",
       "      <td>0.06</td>\n",
       "      <td>0.06</td>\n",
       "      <td>0.72</td>\n",
       "    </tr>\n",
       "    <tr>\n",
       "      <th>S8</th>\n",
       "      <td>0.0</td>\n",
       "      <td>0.10</td>\n",
       "      <td>0.10</td>\n",
       "      <td>0.35</td>\n",
       "    </tr>\n",
       "    <tr>\n",
       "      <th>H2SO4</th>\n",
       "      <td>0.0</td>\n",
       "      <td>0.40</td>\n",
       "      <td>0.40</td>\n",
       "      <td>1.80</td>\n",
       "    </tr>\n",
       "    <tr>\n",
       "      <th>H2O</th>\n",
       "      <td>30.0</td>\n",
       "      <td>31.80</td>\n",
       "      <td>1.80</td>\n",
       "      <td>7.69</td>\n",
       "    </tr>\n",
       "    <tr>\n",
       "      <th>H2</th>\n",
       "      <td>0.0</td>\n",
       "      <td>3.43</td>\n",
       "      <td>3.43</td>\n",
       "      <td>4.74</td>\n",
       "    </tr>\n",
       "    <tr>\n",
       "      <th>SO2</th>\n",
       "      <td>10.0</td>\n",
       "      <td>14.98</td>\n",
       "      <td>4.98</td>\n",
       "      <td>5.12</td>\n",
       "    </tr>\n",
       "  </tbody>\n",
       "</table>\n",
       "</div>"
      ],
      "text/plain": [
       "       initial   mean  diff   std\n",
       "O2        10.0   2.61 -7.39  4.61\n",
       "H2S       10.0   2.71 -7.29  4.11\n",
       "H2SO3      0.0   0.06  0.06  0.72\n",
       "S8         0.0   0.10  0.10  0.35\n",
       "H2SO4      0.0   0.40  0.40  1.80\n",
       "H2O       30.0  31.80  1.80  7.69\n",
       "H2         0.0   3.43  3.43  4.74\n",
       "SO2       10.0  14.98  4.98  5.12"
      ]
     },
     "execution_count": 100,
     "metadata": {},
     "output_type": "execute_result"
    }
   ],
   "source": [
    "average_data = analysis.average_sampling(new_data)\n",
    "average_data = average_data.loc[~(average_data==0).all(axis=1)]\n",
    "average_data.round(5)\n",
    "average_data.sort_values(by='diff',inplace=True)\n",
    "average_data.round(2)"
   ]
  },
  {
   "cell_type": "code",
   "execution_count": 101,
   "id": "1c89114f",
   "metadata": {},
   "outputs": [
    {
     "data": {
      "text/plain": [
       "<Axes: >"
      ]
     },
     "execution_count": 101,
     "metadata": {},
     "output_type": "execute_result"
    },
    {
     "data": {
      "image/png": "[encoded data removed]",
      "text/plain": [
       "<Figure size 640x480 with 1 Axes>"
      ]
     },
     "metadata": {},
     "output_type": "display_data"
    }
   ],
   "source": [
    "import seaborn as sns \n",
    "import matplotlib.pyplot as plt\n",
    "import matplotlib.cm as cm\n",
    "import matplotlib.colors as colors\n",
    "\n",
    "sns.set_style('darkgrid')\n",
    "sns.set_palette('pastel')\n",
    "\n",
    "\n",
    "norm = colors.Normalize(vmin=average_data['diff'].min(), vmax=average_data['diff'].max())\n",
    "cmap = cm.RdBu  # or any other colormap\n",
    "\n",
    "bar_colors = [cmap(norm(value)) for value in average_data['diff']]\n",
    "\n",
    "average_data.plot.bar(y='diff',yerr='std',color=bar_colors)"
   ]
  },
  {
   "cell_type": "code",
   "execution_count": 235,
   "id": "39a5d128",
   "metadata": {},
   "outputs": [
    {
     "data": {
      "text/plain": [
       "401     391\n",
       "19      273\n",
       "8       234\n",
       "62      131\n",
       "455     123\n",
       "351     107\n",
       "3348     87\n",
       "222      75\n",
       "20       72\n",
       "300      71\n",
       "3162     64\n",
       "131      59\n",
       "1860     59\n",
       "30       52\n",
       "329      51\n",
       "184      50\n",
       "38       40\n",
       "1833     36\n",
       "438      32\n",
       "354      31\n",
       "4102     28\n",
       "471      26\n",
       "4858     24\n",
       "4855     24\n",
       "5097     20\n",
       "294      20\n",
       "310      16\n",
       "13       16\n",
       "252      12\n",
       "2682     12\n",
       "226      12\n",
       "402      12\n",
       "11       12\n",
       "295       8\n",
       "104       8\n",
       "32        8\n",
       "67        8\n",
       "4053      8\n",
       "4965      8\n",
       "306       8\n",
       "160       8\n",
       "320       7\n",
       "3679      4\n",
       "4697      4\n",
       "3652      4\n",
       "4710      4\n",
       "3511      4\n",
       "25        4\n",
       "2940      4\n",
       "2653      4\n",
       "1390      4\n",
       "801       4\n",
       "469       4\n",
       "405       4\n",
       "384       4\n",
       "344       4\n",
       "175       4\n",
       "146       4\n",
       "18        4\n",
       "dtype: int64"
      ]
     },
     "execution_count": 235,
     "metadata": {},
     "output_type": "execute_result"
    }
   ],
   "source": [
    "frequency.sort_values(ascending=False)"
   ]
  },
  {
   "cell_type": "code",
   "execution_count": null,
   "id": "886bddf4",
   "metadata": {},
   "outputs": [
    {
     "data": {
      "text/plain": [
       "['H2SO3',\n",
       " 'H2O',\n",
       " 'SO2',\n",
       " 'O2',\n",
       " 'H2S',\n",
       " 'H2SO4',\n",
       " 'HNO3',\n",
       " 'NOHSO4',\n",
       " 'H2',\n",
       " 'S8',\n",
       " 'NO',\n",
       " 'NO2',\n",
       " 'N2',\n",
       " 'HNO2',\n",
       " 'NH3']"
      ]
     },
     "execution_count": 250,
     "metadata": {},
     "output_type": "execute_result"
    }
   ],
   "source": []
  },
  {
   "cell_type": "code",
   "execution_count": 258,
   "id": "f838ca46",
   "metadata": {},
   "outputs": [],
   "source": [
    "import networkx as nx \n",
    "from pyvis.network import Network \n",
    "import numpy as np \n",
    "\n",
    "\n",
    "reaction_statistics = analysis.reaction_statistics(data)\n",
    "\n",
    "rs = {}\n",
    "nodes = [graph.nodes()[x] for x in graph.nodes() if isinstance(x,int)]\n",
    "for i,node in enumerate(nodes):\n",
    "    if node['reaction']['reaction_string'] in list(reaction_statistics):\n",
    "        rs[i] = node['reaction'] \n",
    "        rs[i]['frequency'] = reaction_statistics[node['reaction']['reaction_string']]\n",
    "        rs[i]['equilibrium_constant'] = node['equilibrium_constant']\n",
    "        \n",
    "        \n",
    "\n",
    "G = nx.MultiDiGraph(directed=True)\n",
    "\n",
    "for i,reaction in rs.items():\n",
    "    if reaction['equilibrium_constant'] < 1:\n",
    "\n",
    "        G.add_weighted_edges_from(\n",
    "                [compound,str(i),1] for compound in reaction['products']\n",
    "                ) #products -> reaction\n",
    "        G.add_weighted_edges_from(\n",
    "                [str(i),compound,1] for compound in reaction['reactants']\n",
    "                ) #reaction -> products\n",
    "    else:\n",
    "        G.add_weighted_edges_from(\n",
    "                [compound,str(i),1] for compound in reaction['reactants']\n",
    "                ) #products -> reaction\n",
    "        G.add_weighted_edges_from(\n",
    "                [str(i),compound,1] for compound in reaction['products']\n",
    "                ) #reaction -> products\n",
    "\n",
    "compound_nodes = []\n",
    "reaction_nodes = []\n",
    "for node in G.nodes():\n",
    "    try:\n",
    "        int(node)\n",
    "        reaction_nodes.append(node)\n",
    "    except Exception:\n",
    "        compound_nodes.append(node)\n",
    "\n",
    "\n",
    "            \n",
    "reaction_node_sizes = {str(i):8  for i,reaction in rs.items()} #reaction['frequency']\n",
    "nx.set_node_attributes(G,reaction_node_sizes,name='size')\n",
    "\n",
    "\n",
    "\n",
    "#set reaction node colour based on frequency\n",
    "import numpy as np\n",
    "import matplotlib as mpl\n",
    "\n",
    "frequency = pd.Series({str(i):reaction['frequency']  for i,reaction in rs.items()}) #\n",
    "cmap = mpl.colormaps['viridis']\n",
    "norm = mpl.colors.Normalize(vmin=frequency.min(),vmax=frequency.max())\n",
    "colours = {str(r):mpl.colors.rgb2hex(cmap(norm(freq))) for r,freq in frequency.items()}\n",
    "nx.set_node_attributes(G,colours,name='color')\n",
    "\n",
    "compound_node_colours = {node:'White' for node in compound_nodes}\n",
    "nx.set_node_attributes(G,compound_node_colours,name='color')\n",
    "\n",
    "#set up pyvis graph\n",
    "g = Network(height='750%',width='100%',bgcolor=\"#222222\",font_color=\"white\",notebook=False,directed=True,neighborhood_highlight=True,filter_menu=True)\n",
    "\n",
    "g.repulsion(\n",
    "    node_distance=100,\n",
    "    spring_length=50,\n",
    "    damping=0.01,\n",
    ")\n",
    "g.from_nx(G,edge_scaling=False)\n",
    "\n",
    "#edgecolors\n",
    "\n",
    "\n",
    "#for edge in g.get_edges():\n",
    "#   edge['color'] = 'white'\n",
    "#   edge['highlight_color'] = 'red'\n",
    "g.barnes_hut()\n",
    "\n",
    "g.save_graph('graph.html')"
   ]
  },
  {
   "cell_type": "code",
   "execution_count": 244,
   "id": "7d852056",
   "metadata": {},
   "outputs": [
    {
     "name": "stdout",
     "output_type": "stream",
     "text": [
      "\u001b[31mInit signature:\u001b[39m\n",
      "Network(\n",
      "    height=\u001b[33m'600px'\u001b[39m,\n",
      "    width=\u001b[33m'100%'\u001b[39m,\n",
      "    directed=\u001b[38;5;28;01mFalse\u001b[39;00m,\n",
      "    notebook=\u001b[38;5;28;01mFalse\u001b[39;00m,\n",
      "    neighborhood_highlight=\u001b[38;5;28;01mFalse\u001b[39;00m,\n",
      "    select_menu=\u001b[38;5;28;01mFalse\u001b[39;00m,\n",
      "    filter_menu=\u001b[38;5;28;01mFalse\u001b[39;00m,\n",
      "    bgcolor=\u001b[33m'#ffffff'\u001b[39m,\n",
      "    font_color=\u001b[38;5;28;01mFalse\u001b[39;00m,\n",
      "    layout=\u001b[38;5;28;01mNone\u001b[39;00m,\n",
      "    heading=\u001b[33m''\u001b[39m,\n",
      "    cdn_resources=\u001b[33m'local'\u001b[39m,\n",
      ")\n",
      "\u001b[31mDocstring:\u001b[39m     \n",
      "The Network class is the focus of this library. All viz functionality\n",
      "should be implemented off of a Network instance.\n",
      "\n",
      "To instantiate:\n",
      "\n",
      ">>> nt = Network()\n",
      "\u001b[31mInit docstring:\u001b[39m\n",
      ":param height: The height of the canvas\n",
      ":param width: The width of the canvas\n",
      ":param directed: Whether or not to use a directed graph. This is false\n",
      "                 by default.\n",
      ":param notebook: True if using jupyter notebook.\n",
      ":param select_menu: sets the option to highlight nodes and the neighborhood\n",
      ":param filter_menu: sets the option to filter nodes and edges based on attributes\n",
      ":param bgcolor: The background color of the canvas.\n",
      ":param cdn_resources: Where to pull resources for css and js files. Defaults to local.\n",
      "    Options ['local','in_line','remote'].\n",
      "    local: pull resources from local lib folder.\n",
      "    in_line: insert lib resources as inline script tags.\n",
      "    remote: pull resources from hash checked cdns.\n",
      ":font_color: The color of the node labels text\n",
      ":layout: Use hierarchical layout if this is set\n",
      "\n",
      ":type height: num or str\n",
      ":type width: num or str\n",
      ":type directed: bool\n",
      ":type notebook: bool\n",
      ":type select_menu: bool\n",
      ":type filter_menu: bool\n",
      ":type bgcolor: str\n",
      ":type font_color: str\n",
      ":type layout: bool\n",
      ":type cdn_resources: str\n",
      "\u001b[31mFile:\u001b[39m           ~/miniconda3/envs/py311/lib/python3.11/site-packages/pyvis/network.py\n",
      "\u001b[31mType:\u001b[39m           type\n",
      "\u001b[31mSubclasses:\u001b[39m     "
     ]
    }
   ],
   "source": [
    "Network?"
   ]
  },
  {
   "cell_type": "code",
   "execution_count": 237,
   "id": "2e35f4ec",
   "metadata": {},
   "outputs": [
    {
     "data": {
      "text/plain": [
       "{'width': 1, 'from': 'H2SO3', 'to': '438', 'arrows': 'to', 'color': 'grey'}"
      ]
     },
     "execution_count": 237,
     "metadata": {},
     "output_type": "execute_result"
    }
   ],
   "source": [
    "g.get_edges()[2]"
   ]
  },
  {
   "cell_type": "code",
   "execution_count": 161,
   "id": "ea19156f",
   "metadata": {},
   "outputs": [
    {
     "data": {
      "text/plain": [
       "{'size': 0, 'color': 'red'}"
      ]
     },
     "execution_count": 161,
     "metadata": {},
     "output_type": "execute_result"
    }
   ],
   "source": [
    "G.nodes['8']"
   ]
  },
  {
   "cell_type": "code",
   "execution_count": 157,
   "id": "851321fc",
   "metadata": {},
   "outputs": [
    {
     "data": {
      "text/plain": [
       "8       0.594315\n",
       "11      0.020672\n",
       "13      0.031008\n",
       "18      0.000000\n",
       "19      0.695090\n",
       "20      0.175711\n",
       "25      0.000000\n",
       "30      0.124031\n",
       "32      0.010336\n",
       "38      0.093023\n",
       "62      0.328165\n",
       "67      0.010336\n",
       "104     0.010336\n",
       "131     0.142119\n",
       "146     0.000000\n",
       "160     0.010336\n",
       "175     0.000000\n",
       "184     0.118863\n",
       "222     0.183463\n",
       "226     0.020672\n",
       "252     0.020672\n",
       "294     0.041344\n",
       "295     0.010336\n",
       "300     0.173127\n",
       "306     0.010336\n",
       "310     0.031008\n",
       "320     0.007752\n",
       "329     0.121447\n",
       "344     0.000000\n",
       "351     0.266150\n",
       "354     0.069767\n",
       "384     0.000000\n",
       "401     1.000000\n",
       "402     0.020672\n",
       "405     0.000000\n",
       "438     0.072351\n",
       "455     0.307494\n",
       "469     0.000000\n",
       "471     0.056848\n",
       "801     0.000000\n",
       "1390    0.000000\n",
       "1833    0.082687\n",
       "1860    0.142119\n",
       "2653    0.000000\n",
       "2682    0.020672\n",
       "2940    0.000000\n",
       "3162    0.155039\n",
       "3348    0.214470\n",
       "3511    0.000000\n",
       "3652    0.000000\n",
       "3679    0.000000\n",
       "4053    0.010336\n",
       "4102    0.062016\n",
       "4697    0.000000\n",
       "4710    0.000000\n",
       "4855    0.051680\n",
       "4858    0.051680\n",
       "4965    0.010336\n",
       "5097    0.041344\n",
       "dtype: float64"
      ]
     },
     "execution_count": 157,
     "metadata": {},
     "output_type": "execute_result"
    }
   ],
   "source": [
    "df = pd.Series(frequency)\n",
    "normalized_df=(df-df.min())/(df.max()-df.min())\n",
    "\n",
    "normalized_df"
   ]
  },
  {
   "cell_type": "code",
   "execution_count": 153,
   "id": "b62d2a0d",
   "metadata": {},
   "outputs": [
    {
     "data": {
      "text/plain": [
       "{'size': 234}"
      ]
     },
     "execution_count": 153,
     "metadata": {},
     "output_type": "execute_result"
    }
   ],
   "source": [
    "G.nodes()['8']"
   ]
  },
  {
   "cell_type": "markdown",
   "id": "b89b97ef",
   "metadata": {},
   "source": [
    "effect of adding NO2"
   ]
  },
  {
   "cell_type": "code",
   "execution_count": 111,
   "id": "12cf6c93",
   "metadata": {},
   "outputs": [],
   "source": [
    "from arcs.traversal import Traversal\n",
    "from arcs.generate import GenerateInitialConcentrations\n",
    "\n",
    "gic = GenerateInitialConcentrations(graph=graph).update_ic(\n",
    "    #{'H2O':30,'O2':10,'SO2':10,'H2S':10,'NO2':0}\n",
    "    {'H2O':30,'O2':10,'SO2':10,'H2S':10,'NO2':10}\n",
    "    #{'H2O':30,'SO2':10}\n",
    "    )\n",
    "\n",
    "t = Traversal(graph=graph)\n",
    "\n",
    "t.rank_by_number_of_atoms = True\n",
    "\n",
    "data = t.sample(initial_concentrations=gic,ncpus=4,nsamples=1000)#,tqdm_kws={'disable':True})"
   ]
  },
  {
   "cell_type": "code",
   "execution_count": 112,
   "id": "b44f483f",
   "metadata": {},
   "outputs": [
    {
     "name": "stdout",
     "output_type": "stream",
     "text": [
      "5    191\n",
      "4    228\n",
      "3    270\n",
      "2    242\n",
      "6     36\n",
      "1     32\n",
      "dtype: int64\n"
     ]
    },
    {
     "data": {
      "text/plain": [
       "1 H2 + 1 SO2 = 1 O2 + 1 H2S              391\n",
       "2 H2 + 1 O2 = 2 H2O                      273\n",
       "1 H2O + 1 SO2 = 1 H2SO3                  234\n",
       "1 H2O + 1 NO2 + 1 NO = 2 HNO2            131\n",
       "3 H2 + 1 SO2 = 2 H2O + 1 H2S             123\n",
       "3 O2 + 2 H2S = 2 H2O + 2 SO2             107\n",
       "1 H2 + 1 SO2 + 1 NO2 = 1 H2SO3 + 1 NO     87\n",
       "1 H2O + 2 NO2 = 1 HNO3 + 1 HNO2           75\n",
       "8 O2 + 1 S8 = 8 SO2                       72\n",
       "1 H2 + 1 H2SO4 = 2 H2O + 1 SO2            71\n",
       "dtype: int64"
      ]
     },
     "execution_count": 112,
     "metadata": {},
     "output_type": "execute_result"
    }
   ],
   "source": [
    "from arcs.analysis import AnalyseSampling\n",
    "import pandas as pd \n",
    "\n",
    "analysis = AnalyseSampling() #use_markdown=True,use_latex=True)\n",
    "print(pd.Series(analysis.count_path_length(data)))\n",
    "pd.Series(analysis.reaction_statistics(data)).sort_values(ascending=False).head(10)"
   ]
  },
  {
   "cell_type": "code",
   "execution_count": 113,
   "id": "a8104ae7",
   "metadata": {},
   "outputs": [
    {
     "data": {
      "text/html": [
       "<div>\n",
       "<style scoped>\n",
       "    .dataframe tbody tr th:only-of-type {\n",
       "        vertical-align: middle;\n",
       "    }\n",
       "\n",
       "    .dataframe tbody tr th {\n",
       "        vertical-align: top;\n",
       "    }\n",
       "\n",
       "    .dataframe thead th {\n",
       "        text-align: right;\n",
       "    }\n",
       "</style>\n",
       "<table border=\"1\" class=\"dataframe\">\n",
       "  <thead>\n",
       "    <tr style=\"text-align: right;\">\n",
       "      <th></th>\n",
       "      <th>initial</th>\n",
       "      <th>mean</th>\n",
       "      <th>diff</th>\n",
       "      <th>std</th>\n",
       "    </tr>\n",
       "  </thead>\n",
       "  <tbody>\n",
       "    <tr>\n",
       "      <th>H2S</th>\n",
       "      <td>10.0</td>\n",
       "      <td>4.8</td>\n",
       "      <td>-5.2</td>\n",
       "      <td>4.7</td>\n",
       "    </tr>\n",
       "    <tr>\n",
       "      <th>NO2</th>\n",
       "      <td>10.0</td>\n",
       "      <td>5.9</td>\n",
       "      <td>-4.1</td>\n",
       "      <td>4.9</td>\n",
       "    </tr>\n",
       "    <tr>\n",
       "      <th>O2</th>\n",
       "      <td>10.0</td>\n",
       "      <td>6.2</td>\n",
       "      <td>-3.8</td>\n",
       "      <td>6.0</td>\n",
       "    </tr>\n",
       "    <tr>\n",
       "      <th>H2O</th>\n",
       "      <td>30.0</td>\n",
       "      <td>29.2</td>\n",
       "      <td>-0.8</td>\n",
       "      <td>6.1</td>\n",
       "    </tr>\n",
       "    <tr>\n",
       "      <th>S8</th>\n",
       "      <td>0.0</td>\n",
       "      <td>0.1</td>\n",
       "      <td>0.1</td>\n",
       "      <td>0.3</td>\n",
       "    </tr>\n",
       "    <tr>\n",
       "      <th>NH3</th>\n",
       "      <td>0.0</td>\n",
       "      <td>0.1</td>\n",
       "      <td>0.1</td>\n",
       "      <td>0.8</td>\n",
       "    </tr>\n",
       "    <tr>\n",
       "      <th>H2SO3</th>\n",
       "      <td>0.0</td>\n",
       "      <td>0.3</td>\n",
       "      <td>0.3</td>\n",
       "      <td>1.6</td>\n",
       "    </tr>\n",
       "    <tr>\n",
       "      <th>NOHSO4</th>\n",
       "      <td>0.0</td>\n",
       "      <td>0.3</td>\n",
       "      <td>0.3</td>\n",
       "      <td>1.2</td>\n",
       "    </tr>\n",
       "    <tr>\n",
       "      <th>HNO3</th>\n",
       "      <td>0.0</td>\n",
       "      <td>0.5</td>\n",
       "      <td>0.5</td>\n",
       "      <td>1.6</td>\n",
       "    </tr>\n",
       "    <tr>\n",
       "      <th>HNO2</th>\n",
       "      <td>0.0</td>\n",
       "      <td>0.6</td>\n",
       "      <td>0.6</td>\n",
       "      <td>1.9</td>\n",
       "    </tr>\n",
       "    <tr>\n",
       "      <th>N2</th>\n",
       "      <td>0.0</td>\n",
       "      <td>0.7</td>\n",
       "      <td>0.7</td>\n",
       "      <td>1.7</td>\n",
       "    </tr>\n",
       "    <tr>\n",
       "      <th>NO</th>\n",
       "      <td>0.0</td>\n",
       "      <td>1.0</td>\n",
       "      <td>1.0</td>\n",
       "      <td>3.0</td>\n",
       "    </tr>\n",
       "    <tr>\n",
       "      <th>H2SO4</th>\n",
       "      <td>0.0</td>\n",
       "      <td>1.1</td>\n",
       "      <td>1.1</td>\n",
       "      <td>3.1</td>\n",
       "    </tr>\n",
       "    <tr>\n",
       "      <th>SO2</th>\n",
       "      <td>10.0</td>\n",
       "      <td>12.1</td>\n",
       "      <td>2.1</td>\n",
       "      <td>6.1</td>\n",
       "    </tr>\n",
       "    <tr>\n",
       "      <th>H2</th>\n",
       "      <td>0.0</td>\n",
       "      <td>2.6</td>\n",
       "      <td>2.6</td>\n",
       "      <td>4.3</td>\n",
       "    </tr>\n",
       "  </tbody>\n",
       "</table>\n",
       "</div>"
      ],
      "text/plain": [
       "        initial  mean  diff  std\n",
       "H2S        10.0   4.8  -5.2  4.7\n",
       "NO2        10.0   5.9  -4.1  4.9\n",
       "O2         10.0   6.2  -3.8  6.0\n",
       "H2O        30.0  29.2  -0.8  6.1\n",
       "S8          0.0   0.1   0.1  0.3\n",
       "NH3         0.0   0.1   0.1  0.8\n",
       "H2SO3       0.0   0.3   0.3  1.6\n",
       "NOHSO4      0.0   0.3   0.3  1.2\n",
       "HNO3        0.0   0.5   0.5  1.6\n",
       "HNO2        0.0   0.6   0.6  1.9\n",
       "N2          0.0   0.7   0.7  1.7\n",
       "NO          0.0   1.0   1.0  3.0\n",
       "H2SO4       0.0   1.1   1.1  3.1\n",
       "SO2        10.0  12.1   2.1  6.1\n",
       "H2          0.0   2.6   2.6  4.3"
      ]
     },
     "execution_count": 113,
     "metadata": {},
     "output_type": "execute_result"
    }
   ],
   "source": [
    "average_data = analysis.average_sampling(data)\n",
    "average_data = average_data.loc[~(average_data==0).all(axis=1)]\n",
    "average_data.round(2)\n",
    "average_data.sort_values(by='diff',inplace=True)\n",
    "average_data.round(1)"
   ]
  },
  {
   "cell_type": "code",
   "execution_count": 114,
   "id": "29e8b38e",
   "metadata": {},
   "outputs": [
    {
     "data": {
      "text/plain": [
       "<Axes: >"
      ]
     },
     "execution_count": 114,
     "metadata": {},
     "output_type": "execute_result"
    },
    {
     "data": {
      "image/png": "[encoded data removed]",
      "text/plain": [
       "<Figure size 640x480 with 1 Axes>"
      ]
     },
     "metadata": {},
     "output_type": "display_data"
    }
   ],
   "source": [
    "import seaborn as sns \n",
    "import matplotlib.pyplot as plt\n",
    "import matplotlib.cm as cm\n",
    "import matplotlib.colors as colors\n",
    "\n",
    "sns.set_style('darkgrid')\n",
    "sns.set_palette('pastel')\n",
    "\n",
    "\n",
    "norm = colors.Normalize(vmin=average_data['diff'].min(), vmax=average_data['diff'].max())\n",
    "cmap = cm.RdBu  # or any other colormap\n",
    "\n",
    "bar_colors = [cmap(norm(value)) for value in average_data['diff']]\n",
    "\n",
    "average_data.plot.bar(y='diff',yerr='std',color=bar_colors)"
   ]
  },
  {
   "cell_type": "markdown",
   "id": "6d3866ce",
   "metadata": {},
   "source": [
    "testing"
   ]
  },
  {
   "cell_type": "code",
   "execution_count": 107,
   "id": "a9b38a1a",
   "metadata": {},
   "outputs": [],
   "source": [
    "import networkx as nx \n",
    "from pyvis.network import Network \n",
    "\n",
    "\n",
    "reaction_statistics = analysis.reaction_statistics(data)\n",
    "\n",
    "rs = {}\n",
    "reactions = [graph.nodes()[x]['reaction'] for x in graph.nodes() if isinstance(x,int)]\n",
    "for i,reaction in enumerate(reactions):\n",
    "    if reaction['reaction_string'] in list(reaction_statistics):\n",
    "        rs[i] = reaction \n",
    "        rs[i]['frequency'] = reaction_statistics[reaction['reaction_string']]\n",
    "        \n",
    "\n",
    "G = nx.MultiDiGraph(directed=True)\n",
    "\n",
    "for i,reaction in rs.items():\n",
    "    G.add_weighted_edges_from(\n",
    "                [compound,str(i),1] for compound in reaction['reactants']\n",
    "                ) #reactants -> reaction\n",
    "    G.add_weighted_edges_from(\n",
    "                [str(i),compound,1] for compound in reaction['products']\n",
    "                ) #reaction -> products\n",
    "            \n",
    "frequency = {str(i):reaction['frequency'] for i,reaction in rs.items()}\n",
    "\n",
    "nx.set_node_attributes(G,frequency,name='frequency')\n",
    "\n",
    "g = Network(height=800,width=800,notebook=False,directed=True,neighborhood_highlight=True)\n",
    "g.from_nx(G,show_edge_weights=False)\n",
    "g.save_graph('graph.html')"
   ]
  },
  {
   "cell_type": "markdown",
   "id": "3f89fad6",
   "metadata": {},
   "source": [
    "### Speed Test "
   ]
  },
  {
   "cell_type": "code",
   "execution_count": null,
   "id": "d174e0d7",
   "metadata": {},
   "outputs": [],
   "source": [
    "from arcs.traversal import Traversal\n",
    "from arcs.generate import GenerateInitialConcentrations\n",
    "\n",
    "gic = GenerateInitialConcentrations(graph=graph).update_ic({'H2O':100,'H2':30,'O2':50,'H2S':100,'NO2':200,'N2':300})\n",
    "t = Traversal(graph=graph)"
   ]
  },
  {
   "cell_type": "code",
   "execution_count": null,
   "id": "6290efad",
   "metadata": {},
   "outputs": [],
   "source": [
    "data = t.sample(initial_concentrations=gic,ncpus=1)"
   ]
  },
  {
   "cell_type": "code",
   "execution_count": null,
   "id": "c8e131ea",
   "metadata": {},
   "outputs": [],
   "source": [
    "data = t.sample(initial_concentrations=gic,ncpus=2)"
   ]
  },
  {
   "cell_type": "code",
   "execution_count": null,
   "id": "f16ed613",
   "metadata": {},
   "outputs": [],
   "source": [
    "data = t.sample(initial_concentrations=gic,ncpus=4)"
   ]
  },
  {
   "cell_type": "code",
   "execution_count": null,
   "id": "ef8f7364",
   "metadata": {},
   "outputs": [],
   "source": [
    "data = t.sample(initial_concentrations=gic,ncpus=10)"
   ]
  },
  {
   "cell_type": "code",
   "execution_count": null,
   "id": "e6405b52",
   "metadata": {},
   "outputs": [],
   "source": [
    "t.random_walk(gic)"
   ]
  }
 ],
 "metadata": {
  "kernelspec": {
   "display_name": "py311",
   "language": "python",
   "name": "python3"
  },
  "language_info": {
   "codemirror_mode": {
    "name": "ipython",
    "version": 3
   },
   "file_extension": ".py",
   "mimetype": "text/x-python",
   "name": "python",
   "nbconvert_exporter": "python",
   "pygments_lexer": "ipython3",
   "version": "3.11.9"
  }
 },
 "nbformat": 4,
 "nbformat_minor": 5
}
