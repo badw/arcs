{
 "cells": [
  {
   "cell_type": "code",
   "execution_count": 1,
   "id": "c698284f",
   "metadata": {},
   "outputs": [],
   "source": [
    "%load_ext autoreload\n",
    "%autoreload 2"
   ]
  },
  {
   "cell_type": "code",
   "execution_count": 47,
   "id": "3cec1cfd",
   "metadata": {},
   "outputs": [],
   "source": [
    "from arcs.generate import GraphGenerator"
   ]
  },
  {
   "cell_type": "code",
   "execution_count": 48,
   "id": "81c405ac",
   "metadata": {},
   "outputs": [],
   "source": [
    "graph = GraphGenerator().from_file(filename='../tests/test_dft_data.json',temperature=100,pressure=1)"
   ]
  },
  {
   "cell_type": "code",
   "execution_count": 49,
   "id": "c1b988ad",
   "metadata": {},
   "outputs": [],
   "source": [
    "from monty.serialization import loadfn \n",
    "\n",
    "data = loadfn('../tests/test_dft_data.json')\n",
    "\n",
    "reactions = data['reactions']"
   ]
  },
  {
   "cell_type": "code",
   "execution_count": 53,
   "id": "7c649553",
   "metadata": {},
   "outputs": [
    {
     "data": {
      "text/plain": [
       "{'reaction_string': '1 H2O + 1 CH3CH2OH = 2 CH3OH',\n",
       " 'reactants': {'H2O': 1, 'CH3CH2OH': 1},\n",
       " 'products': {'CH3OH': 2}}"
      ]
     },
     "execution_count": 53,
     "metadata": {},
     "output_type": "execute_result"
    }
   ],
   "source": [
    "reactions['27']"
   ]
  },
  {
   "cell_type": "code",
   "execution_count": 55,
   "id": "6aab1850",
   "metadata": {},
   "outputs": [
    {
     "data": {
      "text/plain": [
       "{'reaction': {'reaction_string': '2 H2O = 1 O2 + 2 H2',\n",
       "  'reactants': {'H2O': 2},\n",
       "  'products': {'O2': 1, 'H2': 2}}}"
      ]
     },
     "execution_count": 55,
     "metadata": {},
     "output_type": "execute_result"
    }
   ],
   "source": [
    "graph.nodes[1]"
   ]
  },
  {
   "cell_type": "code",
   "execution_count": null,
   "id": "c39959ca",
   "metadata": {},
   "outputs": [
    {
     "data": {
      "text/plain": [
       "['H2O', 1, 'O2']"
      ]
     },
     "execution_count": 54,
     "metadata": {},
     "output_type": "execute_result"
    }
   ],
   "source": [
    "nx.shortest_path(graph,'H2','H2SO4')"
   ]
  },
  {
   "cell_type": "code",
   "execution_count": null,
   "id": "c32f28f6",
   "metadata": {},
   "outputs": [
    {
     "data": {
      "text/plain": [
       "{'reaction': {'reaction_string': '2 H2O + 1 CO = 1 O2 + 1 CH3OH',\n",
       "  'reactants': {'H2O': 2, 'CO': 1},\n",
       "  'products': {'O2': 1, 'CH3OH': 1}}}"
      ]
     },
     "execution_count": 31,
     "metadata": {},
     "output_type": "execute_result"
    }
   ],
   "source": [
    "graph.nodes[0]"
   ]
  },
  {
   "cell_type": "code",
   "execution_count": 27,
   "id": "5c996505",
   "metadata": {},
   "outputs": [
    {
     "name": "stderr",
     "output_type": "stream",
     "text": [
      "/Users/badw/miniconda3/envs/py311/lib/python3.11/site-packages/networkx/drawing/nx_pylab.py:457: UserWarning: No data for colormapping provided via 'c'. Parameters 'vmin', 'vmax' will be ignored\n",
      "  node_collection = ax.scatter(\n"
     ]
    },
    {
     "data": {
      "image/png": "[encoded data removed]",
      "text/plain": [
       "<Figure size 640x480 with 1 Axes>"
      ]
     },
     "metadata": {},
     "output_type": "display_data"
    }
   ],
   "source": [
    "import matplotlib.pyplot as plt\n",
    "import networkx as nx \n",
    "import numpy as np \n",
    "G = graph \n",
    "\n",
    "node_colours= []\n",
    "node_sizes = []\n",
    "for node in list(G.nodes):\n",
    "    if isinstance(node,int):\n",
    "        node_colours.append('black')\n",
    "        node_sizes.append(5)\n",
    "    else:\n",
    "        node_colours.append('white')\n",
    "        node_sizes.append(100)\n",
    "\n",
    "edges,weights = zip(*nx.get_edge_attributes(G,'weight').items())\n",
    "vmin = np.min(weights)\n",
    "vmax = np.max(weights)\n",
    "cmap = plt.cm.viridis\n",
    "\n",
    "nx.draw_random(G,node_color=node_colours,node_size=node_sizes,edgelist=edges,edge_color=weights,width=0.1,edge_cmap=cmap,vmin=vmin,vmax=vmax)"
   ]
  },
  {
   "cell_type": "code",
   "execution_count": null,
   "id": "61a72fce",
   "metadata": {},
   "outputs": [],
   "source": []
  }
 ],
 "metadata": {
  "kernelspec": {
   "display_name": "py311",
   "language": "python",
   "name": "python3"
  },
  "language_info": {
   "codemirror_mode": {
    "name": "ipython",
    "version": 3
   },
   "file_extension": ".py",
   "mimetype": "text/x-python",
   "name": "python",
   "nbconvert_exporter": "python",
   "pygments_lexer": "ipython3",
   "version": "3.11.9"
  }
 },
 "nbformat": 4,
 "nbformat_minor": 5
}
