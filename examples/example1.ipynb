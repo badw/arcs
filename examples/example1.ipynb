{
 "cells": [
  {
   "cell_type": "code",
   "execution_count": 5,
   "id": "c698284f",
   "metadata": {},
   "outputs": [],
   "source": [
    "%load_ext autoreload\n",
    "%autoreload 2"
   ]
  },
  {
   "cell_type": "code",
   "execution_count": 42,
   "id": "3cec1cfd",
   "metadata": {},
   "outputs": [],
   "source": [
    "import json \n",
    "import numpy as np \n",
    "from arcs.setup_functions import ReactionGibbsandEquilibrium\n",
    "from monty.serialization import loadfn"
   ]
  },
  {
   "cell_type": "code",
   "execution_count": 46,
   "id": "db4ce8aa",
   "metadata": {},
   "outputs": [
    {
     "ename": "TypeError",
     "evalue": "ReactionGibbsandEquilibrium.Gibbs() got multiple values for argument 'dft_dict'",
     "output_type": "error",
     "traceback": [
      "\u001b[31m---------------------------------------------------------------------------\u001b[39m",
      "\u001b[31mTypeError\u001b[39m                                 Traceback (most recent call last)",
      "\u001b[36mCell\u001b[39m\u001b[36m \u001b[39m\u001b[32mIn[46]\u001b[39m\u001b[32m, line 3\u001b[39m\n\u001b[32m      1\u001b[39m dft_data = loadfn(\u001b[33m'\u001b[39m\u001b[33m../app/data/hse06_dft_data.json\u001b[39m\u001b[33m'\u001b[39m)\n\u001b[32m      2\u001b[39m rge = ReactionGibbsandEquilibrium(dft_data)\n\u001b[32m----> \u001b[39m\u001b[32m3\u001b[39m gibbs_free_energy = \u001b[43mrge\u001b[49m\u001b[43m.\u001b[49m\u001b[43mGibbs\u001b[49m\u001b[43m(\u001b[49m\u001b[43mdft_dict\u001b[49m\u001b[43m=\u001b[49m\u001b[43mdft_data\u001b[49m\u001b[43m[\u001b[49m\u001b[33;43m'\u001b[39;49m\u001b[33;43mCO2\u001b[39;49m\u001b[33;43m'\u001b[39;49m\u001b[43m]\u001b[49m\u001b[43m,\u001b[49m\u001b[43mtemperature\u001b[49m\u001b[43m=\u001b[49m\u001b[32;43m100\u001b[39;49m\u001b[43m,\u001b[49m\u001b[43mpressure\u001b[49m\u001b[43m=\u001b[49m\u001b[32;43m1\u001b[39;49m\u001b[43m)\u001b[49m\n\u001b[32m      4\u001b[39m gibbs_free_energy\n",
      "\u001b[31mTypeError\u001b[39m: ReactionGibbsandEquilibrium.Gibbs() got multiple values for argument 'dft_dict'"
     ]
    }
   ],
   "source": [
    "dft_data = loadfn('../app/data/hse06_dft_data.json')\n",
    "rge = ReactionGibbsandEquilibrium(dft_data)\n",
    "gibbs_free_energy = rge.Gibbs(dft_dict=dft_data['CO2'],temperature=100,pressure=1)\n",
    "gibbs_free_energy\n"
   ]
  },
  {
   "cell_type": "code",
   "execution_count": 41,
   "id": "153a2874",
   "metadata": {},
   "outputs": [
    {
     "data": {
      "text/plain": [
       "-0.6184489112909475"
      ]
     },
     "execution_count": 41,
     "metadata": {},
     "output_type": "execute_result"
    }
   ],
   "source": [
    "reaction = 'CO + H2O = H2 + CO2'\n",
    "from chempy import Equilibrium \n",
    "eq = Equilibrium.from_string(reaction)\n",
    "rge.reaction_gibbs(reaction=eq,\n",
    "                   pressure=1,\n",
    "                   temperature=100)"
   ]
  },
  {
   "cell_type": "code",
   "execution_count": null,
   "id": "af4a3a89",
   "metadata": {},
   "outputs": [],
   "source": []
  }
 ],
 "metadata": {
  "kernelspec": {
   "display_name": "py311",
   "language": "python",
   "name": "python3"
  },
  "language_info": {
   "codemirror_mode": {
    "name": "ipython",
    "version": 3
   },
   "file_extension": ".py",
   "mimetype": "text/x-python",
   "name": "python",
   "nbconvert_exporter": "python",
   "pygments_lexer": "ipython3",
   "version": "3.11.9"
  }
 },
 "nbformat": 4,
 "nbformat_minor": 5
}
