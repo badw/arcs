{
 "cells": [
  {
   "cell_type": "code",
   "execution_count": 3,
   "id": "c698284f",
   "metadata": {},
   "outputs": [],
   "source": [
    "%load_ext autoreload\n",
    "%autoreload 2"
   ]
  },
  {
   "cell_type": "code",
   "execution_count": 4,
   "id": "81c405ac",
   "metadata": {},
   "outputs": [
    {
     "name": "stderr",
     "output_type": "stream",
     "text": [
      "/Users/badw/github-projects/arcs/arcs/generate.py:255: RuntimeWarning: overflow encountered in exp\n",
      "  K = np.exp(\n"
     ]
    }
   ],
   "source": [
    "from arcs.generate import GraphGenerator\n",
    "\n",
    "graph = GraphGenerator().from_file(\n",
    "    filename='../app/data/scan_dft_data.json',\n",
    "    temperature=248,\n",
    "    pressure=20,\n",
    "    max_reaction_length=5\n",
    ")"
   ]
  },
  {
   "cell_type": "code",
   "execution_count": null,
   "id": "82248824",
   "metadata": {},
   "outputs": [],
   "source": [
    "import matplotlib.pyplot as plt\n",
    "import networkx as nx \n",
    "import numpy as np \n",
    "G = graph \n",
    "\n",
    "node_colours= []\n",
    "node_sizes = []\n",
    "for node in list(G.nodes):\n",
    "    if isinstance(node,int):\n",
    "        node_colours.append('black')\n",
    "        node_sizes.append(5)\n",
    "    else:\n",
    "        node_colours.append('white')\n",
    "        node_sizes.append(100)\n",
    "\n",
    "edges,weights = zip(*nx.get_edge_attributes(G,'weight').items())\n",
    "vmin = np.min(weights)\n",
    "vmax = np.max(weights)\n",
    "cmap = plt.cm.viridis\n",
    "\n",
    "nx.draw_random(G,node_color=node_colours,node_size=node_sizes,edgelist=edges,edge_color=weights,width=0.1,edge_cmap=cmap,vmin=vmin,vmax=vmax)"
   ]
  },
  {
   "cell_type": "code",
   "execution_count": null,
   "id": "88e5f8f3",
   "metadata": {},
   "outputs": [
    {
     "name": "stdout",
     "output_type": "stream",
     "text": [
      "['H2O', 'SO2', 'H2S', 'NO2']\n",
      "2 O2 + 1 H2S + 1 SO2 + 2 NO2 = 2 NOHSO4\n",
      "5 H2S + 2 NO2 + 2 NOHSO4 = 7 SO2 + 4 NH3\n",
      "4 H2S + 4 SO2 + 8 NO2 = 1 S8 + 8 HNO3\n",
      "1 H2S + 2 H2SO3 + 6 NO2 = 3 SO2 + 6 HNO2\n",
      "1 H2S + 1 SO2 + 4 NO2 = 1 N2 + 2 NOHSO4\n",
      "2 H2 + 2 SO2 + 1 N2 = 2 H2S + 2 NO2\n",
      "1 O2 + 3 H2S + 2 NO2 = 3 SO2 + 2 NH3\n",
      "4 H2S + 12 SO2 + 8 NO2 = 1 S8 + 8 NOHSO4\n",
      "2 H2 + 1 SO2 + 2 NO2 = 1 H2S + 2 HNO3\n",
      "6 H2S + 6 NO2 = 6 SO2 + 4 NH3 + 1 N2\n",
      "1 H2S + 4 NO2 = 1 SO2 + 2 HNO2 + 2 NO\n",
      "2 H2 + 3 SO2 + 2 NO2 = 1 H2S + 2 NOHSO4\n",
      "2 O2 + 1 H2S + 2 NO2 = 1 SO2 + 2 HNO3\n",
      "1 H2 + 2 H2S + 2 NO2 = 2 SO2 + 2 NH3\n",
      "1 H2S + 6 NOHSO4 = 3 SO2 + 4 H2SO3 + 6 NO2\n",
      "1 H2S + 3 SO2 + 6 HNO3 = 4 H2SO3 + 6 NO2\n",
      "1 H2S + 4 NO2 = 1 SO2 + 2 HNO3 + 1 N2\n",
      "7 H2S + 2 H2SO3 + 6 NO2 = 9 SO2 + 6 NH3\n",
      "2 H2S + 6 NO2 = 2 SO2 + 4 HNO2 + 1 N2\n",
      "24 H2S + 16 NO2 = 1 S8 + 16 SO2 + 16 NH3\n"
     ]
    }
   ],
   "source": [
    "from arcs.traversal import Traversal\n",
    "from arcs.generate import GenerateInitialConcentrations\n",
    "import pandas as pd #\n",
    "gic = GenerateInitialConcentrations(graph=graph).update_ic(\n",
    "    {'H2O':30,'O2':10,'SO2':10,'H2S':10,'NO2':10}\n",
    "    )#\n",
    "t = Traversal(graph=graph)#\n",
    "t.rank_small_reactions_higher = {'option':True,'by_coefficients':False}\n",
    "random_compounds = t.get_weighted_random_compounds(gic)\n",
    "print(random_compounds)\n",
    "random_reactions = t.get_weighted_reaction_rankings(random_compounds)\n",
    "random_reactions \n",
    "for k in random_reactions:\n",
    "    print(graph.nodes()[k]['reaction']['reaction_string'])"
   ]
  },
  {
   "cell_type": "code",
   "execution_count": null,
   "id": "27cdf512",
   "metadata": {},
   "outputs": [
    {
     "name": "stdout",
     "output_type": "stream",
     "text": [
      "{'option': True, 'by_coefficients': False}\n"
     ]
    },
    {
     "data": {
      "application/vnd.jupyter.widget-view+json": {
       "model_id": "3da412341b364f3c99472649b1e6650c",
       "version_major": 2,
       "version_minor": 0
      },
      "text/plain": [
       "  0%|          | 0/100 [00:00<?, ?it/s]"
      ]
     },
     "metadata": {},
     "output_type": "display_data"
    }
   ],
   "source": [
    "from arcs.traversal import Traversal\n",
    "from arcs.generate import GenerateInitialConcentrations\n",
    "\n",
    "gic = GenerateInitialConcentrations(graph=graph).update_ic(\n",
    "    {'H2O':30,'O2':10,'SO2':10,'H2S':10,'NO2':0}\n",
    "    #{'H2O':30,'O2':10,'SO2':10,'H2S':10,'NO2':10}\n",
    "    #{'H2O':30,'SO2':10}\n",
    "    )\n",
    "\n",
    "t = Traversal(graph=graph)\n",
    "\n",
    "t.rank_small_reactions_higher = {'option':True,'by_coefficients':False}\n",
    "\n",
    "data = t.sample(initial_concentrations=gic,ncpus=10,nsamples=100,progress_bar=True)"
   ]
  },
  {
   "cell_type": "code",
   "execution_count": null,
   "id": "325d0b82",
   "metadata": {},
   "outputs": [],
   "source": [
    "from arcs.analysis import AnalyseSampling\n",
    "import pandas as pd \n",
    "\n",
    "analysis = AnalyseSampling() #use_markdown=True,use_latex=True)\n",
    "pd.Series(analysis.reaction_statistics(data)).sort_values(ascending=False)"
   ]
  },
  {
   "cell_type": "code",
   "execution_count": null,
   "id": "716d1ffd",
   "metadata": {},
   "outputs": [],
   "source": [
    "average_data = analysis.average_sampling(data)\n",
    "average_data = average_data.loc[~(average_data==0).all(axis=1)]\n",
    "average_data.round(2)"
   ]
  },
  {
   "cell_type": "code",
   "execution_count": null,
   "id": "1c89114f",
   "metadata": {},
   "outputs": [],
   "source": [
    "import seaborn as sns \n",
    "import matplotlib.pyplot as plt\n",
    "import matplotlib.cm as cm\n",
    "import matplotlib.colors as colors\n",
    "\n",
    "sns.set_style('darkgrid')\n",
    "sns.set_palette('pastel')\n",
    "\n",
    "\n",
    "norm = colors.Normalize(vmin=average_data['diff'].min(), vmax=average_data['diff'].max())\n",
    "cmap = cm.RdBu  # or any other colormap\n",
    "\n",
    "bar_colors = [cmap(norm(value)) for value in average_data['diff']]\n",
    "\n",
    "average_data.plot.bar(y='diff',yerr='std',color=bar_colors)"
   ]
  },
  {
   "cell_type": "markdown",
   "id": "b89b97ef",
   "metadata": {},
   "source": [
    "effect of adding NO2"
   ]
  },
  {
   "cell_type": "code",
   "execution_count": null,
   "id": "12cf6c93",
   "metadata": {},
   "outputs": [],
   "source": [
    "from arcs.traversal import Traversal\n",
    "from arcs.generate import GenerateInitialConcentrations\n",
    "\n",
    "gic = GenerateInitialConcentrations(graph=graph).update_ic(\n",
    "    #{'H2O':30,'O2':10,'SO2':10,'H2S':10,'NO2':0}\n",
    "    {'H2O':30,'O2':10,'SO2':10,'H2S':10,'NO2':10}\n",
    "    #{'H2O':30,'SO2':10}\n",
    "    )\n",
    "\n",
    "t = Traversal(graph=graph)\n",
    "\n",
    "t.rank_small_reactions_higher = {'option':True,'by_coefficients':True}\n",
    "print(t.rank_small_reactions_higher)\n",
    "\n",
    "data = t.sample(initial_concentrations=gic,ncpus=10,nsamples=1000,progress_bar=True)"
   ]
  },
  {
   "cell_type": "code",
   "execution_count": null,
   "id": "b44f483f",
   "metadata": {},
   "outputs": [],
   "source": [
    "from arcs.analysis import AnalyseSampling\n",
    "import pandas as pd \n",
    "\n",
    "analysis = AnalyseSampling() #use_markdown=True,use_latex=True)\n",
    "pd.Series(analysis.reaction_statistics(data)).sort_values(ascending=False)"
   ]
  },
  {
   "cell_type": "code",
   "execution_count": null,
   "id": "a8104ae7",
   "metadata": {},
   "outputs": [],
   "source": [
    "average_data = analysis.average_sampling(data)\n",
    "average_data = average_data.loc[~(average_data==0).all(axis=1)]\n",
    "average_data.round(5)\n",
    "average_data.sort_values(by='diff',inplace=True)"
   ]
  },
  {
   "cell_type": "code",
   "execution_count": null,
   "id": "29e8b38e",
   "metadata": {},
   "outputs": [],
   "source": [
    "import seaborn as sns \n",
    "import matplotlib.pyplot as plt\n",
    "import matplotlib.cm as cm\n",
    "import matplotlib.colors as colors\n",
    "\n",
    "sns.set_style('darkgrid')\n",
    "sns.set_palette('pastel')\n",
    "\n",
    "\n",
    "norm = colors.Normalize(vmin=average_data['diff'].min(), vmax=average_data['diff'].max())\n",
    "cmap = cm.RdBu  # or any other colormap\n",
    "\n",
    "bar_colors = [cmap(norm(value)) for value in average_data['diff']]\n",
    "\n",
    "average_data.plot.bar(y='diff',yerr='std',color=bar_colors)"
   ]
  },
  {
   "cell_type": "markdown",
   "id": "6d3866ce",
   "metadata": {},
   "source": [
    "testing"
   ]
  },
  {
   "cell_type": "code",
   "execution_count": null,
   "id": "4b042cd3",
   "metadata": {},
   "outputs": [],
   "source": [
    "reaction_statistics = analysis.reaction_statistics(data)\n",
    "\n",
    "rs = {}\n",
    "reactions = [graph.nodes()[x]['reaction'] for x in graph.nodes() if isinstance(x,int)]\n",
    "for i,reaction in enumerate(reactions):\n",
    "    if reaction['reaction_string'] in list(reaction_statistics):\n",
    "        rs[i] = reaction \n",
    "        rs[i]['frequency'] = reaction_statistics[reaction['reaction_string']]"
   ]
  },
  {
   "cell_type": "code",
   "execution_count": null,
   "id": "af1eda6d",
   "metadata": {},
   "outputs": [],
   "source": [
    "import networkx as nx \n",
    "\n",
    "G = nx.MultiDiGraph(directed=True)\n",
    "\n",
    "for i,reaction in rs.items():\n",
    "    G.add_weighted_edges_from(\n",
    "                [compound,str(i),1] for compound in reaction['reactants']\n",
    "                ) #reactants -> reaction\n",
    "    G.add_weighted_edges_from(\n",
    "                [str(i),compound,1] for compound in reaction['products']\n",
    "                ) #reaction -> products\n",
    "            \n",
    "frequency = {str(i):reaction['frequency'] for i,reaction in rs.items()}\n",
    "\n",
    "nx.set_node_attributes(G,frequency,name='frequency')"
   ]
  },
  {
   "cell_type": "code",
   "execution_count": null,
   "id": "2428d791",
   "metadata": {},
   "outputs": [],
   "source": [
    "import matplotlib.pyplot as plt\n",
    "import networkx as nx \n",
    "import numpy as np \n",
    "import seaborn as sns \n",
    "sns.set_palette('pastel')\n",
    "\n",
    "node_colours= []\n",
    "node_sizes = []\n",
    "for node in list(G.nodes):\n",
    "    try:\n",
    "        int(node)\n",
    "        node_colours.append('Tab:Red')\n",
    "        try:\n",
    "            node_sizes.append(G.nodes()[node]['frequency'])\n",
    "        except Exception as e :\n",
    "            print(e)\n",
    "    except Exception as e:\n",
    "        node_colours.append('Tab:Blue')\n",
    "        node_sizes.append(1000)\n",
    "\n",
    "nx.draw_circular(G,node_color=node_colours,node_size=node_sizes,with_labels=True)"
   ]
  },
  {
   "cell_type": "code",
   "execution_count": null,
   "id": "9e4fe461",
   "metadata": {},
   "outputs": [],
   "source": [
    "\n",
    "\n",
    "def node_size_transform(node):\n",
    "    node_sizes = {}\n",
    "    for x,v in dict(G.adjacency()).items():\n",
    "        try:\n",
    "            int(x)\n",
    "            node_sizes[x]= 1\n",
    "        except Exception:\n",
    "            node_sizes[x] = len(v)\n",
    "    return(node_sizes[str(node)])\n"
   ]
  },
  {
   "cell_type": "code",
   "execution_count": null,
   "id": "a9b38a1a",
   "metadata": {},
   "outputs": [],
   "source": [
    "from pyvis.network import Network \n",
    "import networkx as nx \n",
    "g = Network(height=800,width=800,notebook=False,directed=True,neighborhood_highlight=True)\n",
    "g.from_nx(G,show_edge_weights=False,node_size_transf=node_size_transform)\n",
    "g.save_graph('graph.html')"
   ]
  },
  {
   "cell_type": "code",
   "execution_count": null,
   "id": "ba1f5d12",
   "metadata": {},
   "outputs": [],
   "source": [
    "g.from_nx?"
   ]
  },
  {
   "cell_type": "code",
   "execution_count": null,
   "id": "65ebc151",
   "metadata": {},
   "outputs": [],
   "source": [
    "t.generate_chempy_eqsystem(146)"
   ]
  },
  {
   "cell_type": "markdown",
   "id": "3f89fad6",
   "metadata": {},
   "source": [
    "### Speed Test "
   ]
  },
  {
   "cell_type": "code",
   "execution_count": null,
   "id": "d174e0d7",
   "metadata": {},
   "outputs": [],
   "source": [
    "from arcs.traversal import Traversal\n",
    "from arcs.generate import GenerateInitialConcentrations\n",
    "\n",
    "gic = GenerateInitialConcentrations(graph=graph).update_ic({'H2O':100,'H2':30,'O2':50,'H2S':100,'NO2':200,'N2':300})\n",
    "t = Traversal(graph=graph)"
   ]
  },
  {
   "cell_type": "code",
   "execution_count": null,
   "id": "6290efad",
   "metadata": {},
   "outputs": [],
   "source": [
    "data = t.sample(initial_concentrations=gic,ncpus=1)"
   ]
  },
  {
   "cell_type": "code",
   "execution_count": null,
   "id": "c8e131ea",
   "metadata": {},
   "outputs": [],
   "source": [
    "data = t.sample(initial_concentrations=gic,ncpus=2)"
   ]
  },
  {
   "cell_type": "code",
   "execution_count": null,
   "id": "f16ed613",
   "metadata": {},
   "outputs": [],
   "source": [
    "data = t.sample(initial_concentrations=gic,ncpus=4)"
   ]
  },
  {
   "cell_type": "code",
   "execution_count": null,
   "id": "ef8f7364",
   "metadata": {},
   "outputs": [],
   "source": [
    "data = t.sample(initial_concentrations=gic,ncpus=10)"
   ]
  },
  {
   "cell_type": "code",
   "execution_count": null,
   "id": "e6405b52",
   "metadata": {},
   "outputs": [],
   "source": [
    "t.random_walk(gic)"
   ]
  }
 ],
 "metadata": {
  "kernelspec": {
   "display_name": "py311",
   "language": "python",
   "name": "python3"
  },
  "language_info": {
   "codemirror_mode": {
    "name": "ipython",
    "version": 3
   },
   "file_extension": ".py",
   "mimetype": "text/x-python",
   "name": "python",
   "nbconvert_exporter": "python",
   "pygments_lexer": "ipython3",
   "version": "3.11.9"
  }
 },
 "nbformat": 4,
 "nbformat_minor": 5
}
