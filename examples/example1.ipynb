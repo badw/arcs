{
 "cells": [
  {
   "cell_type": "code",
   "execution_count": 1,
   "id": "c698284f",
   "metadata": {},
   "outputs": [],
   "source": [
    "%load_ext autoreload\n",
    "%autoreload 2"
   ]
  },
  {
   "cell_type": "markdown",
   "id": "c4c4ef5c",
   "metadata": {},
   "source": [
    "#### 1. Set up the reaction graph from DFT data "
   ]
  },
  {
   "cell_type": "code",
   "execution_count": 2,
   "id": "81c405ac",
   "metadata": {},
   "outputs": [
    {
     "name": "stderr",
     "output_type": "stream",
     "text": [
      "/Users/badw/github-projects/arcs/arcs/generate.py:255: RuntimeWarning: overflow encountered in exp\n",
      "  K = np.exp(\n"
     ]
    }
   ],
   "source": [
    "from arcs.generate import GraphGenerator\n",
    "\n",
    "graph = GraphGenerator().from_file(\n",
    "    filename='../app/data/hse06_dft_data.json',\n",
    "    temperature=248,\n",
    "    pressure=20,\n",
    "    max_reaction_length=5\n",
    ")"
   ]
  },
  {
   "cell_type": "markdown",
   "id": "589e7cfd",
   "metadata": {},
   "source": [
    "#### 2. Sample the `graph`"
   ]
  },
  {
   "cell_type": "code",
   "execution_count": 3,
   "id": "27cdf512",
   "metadata": {},
   "outputs": [
    {
     "data": {
      "application/vnd.jupyter.widget-view+json": {
       "model_id": "58c81f9e50314a19995b67f5d940f704",
       "version_major": 2,
       "version_minor": 0
      },
      "text/plain": [
       "  0%|          | 0/1000 [00:00<?, ?it/s]"
      ]
     },
     "metadata": {},
     "output_type": "display_data"
    }
   ],
   "source": [
    "from arcs.traversal import Traversal\n",
    "from arcs.generate import GenerateInitialConcentrations\n",
    "\n",
    "gic = GenerateInitialConcentrations(graph=graph).update_ic(\n",
    "    {'H2O':30,'O2':10,'SO2':10,'H2S':10,'NO2':10}\n",
    "    #{'H2O':30,'O2':10,'SO2':10,'H2S':10,'NO2':10}\n",
    "    #{'H2O':30,'SO2':10}\n",
    "    )\n",
    "\n",
    "t = Traversal(graph=graph)\n",
    "\n",
    "data = t.sample(initial_concentrations=gic,ncpus=4,nsamples=1000)"
   ]
  },
  {
   "cell_type": "markdown",
   "id": "dbcd453f",
   "metadata": {},
   "source": [
    "#### 3. generate reaction statistics"
   ]
  },
  {
   "cell_type": "code",
   "execution_count": 18,
   "id": "e59786da",
   "metadata": {},
   "outputs": [
    {
     "data": {
      "text/plain": [
       "1 H2S + 2 NO2 = 1 H2SO4 + 1 N2    397\n",
       "1 H2O + 1 SO2 = 1 H2SO3           274\n",
       "2 H2O = 1 O2 + 2 H2               259\n",
       "1 H2O + 1 NO = 1 NO2 + 1 H2       159\n",
       "1 H2S + 1 O2 = 1 H2 + 1 SO2       143\n",
       "2 H2O + 2 SO2 = 2 H2S + 3 O2      141\n",
       "2 H2O + 1 H2S = 3 H2 + 1 SO2      104\n",
       "3 H2O + 1 H2S = 3 H2 + 1 H2SO3    100\n",
       "2 H2O + 1 SO2 = 1 H2 + 1 H2SO4     93\n",
       "1 H2O + 1 NO2 + 1 NO = 2 HNO2      71\n",
       "dtype: int64"
      ]
     },
     "execution_count": 18,
     "metadata": {},
     "output_type": "execute_result"
    }
   ],
   "source": [
    "from arcs.analysis import AnalyseSampling\n",
    "import pandas as pd \n",
    "\n",
    "analysis = AnalyseSampling()\n",
    "stats = pd.Series(analysis.reaction_statistics(data)).sort_values(ascending=False)\n",
    "stats.head(10)"
   ]
  },
  {
   "cell_type": "markdown",
   "id": "4c28b538",
   "metadata": {},
   "source": [
    "#### 4. generate mean concentrations and differences"
   ]
  },
  {
   "cell_type": "code",
   "execution_count": 19,
   "id": "716d1ffd",
   "metadata": {},
   "outputs": [
    {
     "data": {
      "text/html": [
       "<div>\n",
       "<style scoped>\n",
       "    .dataframe tbody tr th:only-of-type {\n",
       "        vertical-align: middle;\n",
       "    }\n",
       "\n",
       "    .dataframe tbody tr th {\n",
       "        vertical-align: top;\n",
       "    }\n",
       "\n",
       "    .dataframe thead th {\n",
       "        text-align: right;\n",
       "    }\n",
       "</style>\n",
       "<table border=\"1\" class=\"dataframe\">\n",
       "  <thead>\n",
       "    <tr style=\"text-align: right;\">\n",
       "      <th></th>\n",
       "      <th>initial</th>\n",
       "      <th>mean</th>\n",
       "      <th>diff</th>\n",
       "      <th>std</th>\n",
       "      <th>var</th>\n",
       "    </tr>\n",
       "  </thead>\n",
       "  <tbody>\n",
       "    <tr>\n",
       "      <th>NO2</th>\n",
       "      <td>10.0</td>\n",
       "      <td>4.95</td>\n",
       "      <td>-5.05</td>\n",
       "      <td>4.94</td>\n",
       "      <td>24.36</td>\n",
       "    </tr>\n",
       "    <tr>\n",
       "      <th>SO2</th>\n",
       "      <td>10.0</td>\n",
       "      <td>6.49</td>\n",
       "      <td>-3.51</td>\n",
       "      <td>5.33</td>\n",
       "      <td>28.40</td>\n",
       "    </tr>\n",
       "    <tr>\n",
       "      <th>H2O</th>\n",
       "      <td>30.0</td>\n",
       "      <td>26.50</td>\n",
       "      <td>-3.50</td>\n",
       "      <td>6.25</td>\n",
       "      <td>39.09</td>\n",
       "    </tr>\n",
       "    <tr>\n",
       "      <th>H2S</th>\n",
       "      <td>10.0</td>\n",
       "      <td>6.94</td>\n",
       "      <td>-3.06</td>\n",
       "      <td>3.44</td>\n",
       "      <td>11.83</td>\n",
       "    </tr>\n",
       "    <tr>\n",
       "      <th>O2</th>\n",
       "      <td>10.0</td>\n",
       "      <td>8.89</td>\n",
       "      <td>-1.11</td>\n",
       "      <td>5.32</td>\n",
       "      <td>28.27</td>\n",
       "    </tr>\n",
       "    <tr>\n",
       "      <th>NH3</th>\n",
       "      <td>0.0</td>\n",
       "      <td>0.04</td>\n",
       "      <td>0.04</td>\n",
       "      <td>0.49</td>\n",
       "      <td>0.24</td>\n",
       "    </tr>\n",
       "    <tr>\n",
       "      <th>S8</th>\n",
       "      <td>0.0</td>\n",
       "      <td>0.09</td>\n",
       "      <td>0.09</td>\n",
       "      <td>0.29</td>\n",
       "      <td>0.08</td>\n",
       "    </tr>\n",
       "    <tr>\n",
       "      <th>HNO2</th>\n",
       "      <td>0.0</td>\n",
       "      <td>0.23</td>\n",
       "      <td>0.23</td>\n",
       "      <td>1.06</td>\n",
       "      <td>1.12</td>\n",
       "    </tr>\n",
       "    <tr>\n",
       "      <th>NO</th>\n",
       "      <td>0.0</td>\n",
       "      <td>0.32</td>\n",
       "      <td>0.32</td>\n",
       "      <td>1.69</td>\n",
       "      <td>2.87</td>\n",
       "    </tr>\n",
       "    <tr>\n",
       "      <th>NOHSO4</th>\n",
       "      <td>0.0</td>\n",
       "      <td>0.34</td>\n",
       "      <td>0.34</td>\n",
       "      <td>1.39</td>\n",
       "      <td>1.94</td>\n",
       "    </tr>\n",
       "    <tr>\n",
       "      <th>HNO3</th>\n",
       "      <td>0.0</td>\n",
       "      <td>0.51</td>\n",
       "      <td>0.51</td>\n",
       "      <td>1.76</td>\n",
       "      <td>3.09</td>\n",
       "    </tr>\n",
       "    <tr>\n",
       "      <th>H2</th>\n",
       "      <td>0.0</td>\n",
       "      <td>0.52</td>\n",
       "      <td>0.52</td>\n",
       "      <td>2.23</td>\n",
       "      <td>4.98</td>\n",
       "    </tr>\n",
       "    <tr>\n",
       "      <th>N2</th>\n",
       "      <td>0.0</td>\n",
       "      <td>1.81</td>\n",
       "      <td>1.81</td>\n",
       "      <td>2.36</td>\n",
       "      <td>5.58</td>\n",
       "    </tr>\n",
       "    <tr>\n",
       "      <th>H2SO3</th>\n",
       "      <td>0.0</td>\n",
       "      <td>2.26</td>\n",
       "      <td>2.26</td>\n",
       "      <td>4.31</td>\n",
       "      <td>18.56</td>\n",
       "    </tr>\n",
       "    <tr>\n",
       "      <th>H2SO4</th>\n",
       "      <td>0.0</td>\n",
       "      <td>3.04</td>\n",
       "      <td>3.04</td>\n",
       "      <td>4.21</td>\n",
       "      <td>17.70</td>\n",
       "    </tr>\n",
       "  </tbody>\n",
       "</table>\n",
       "</div>"
      ],
      "text/plain": [
       "        initial   mean  diff   std    var\n",
       "NO2        10.0   4.95 -5.05  4.94  24.36\n",
       "SO2        10.0   6.49 -3.51  5.33  28.40\n",
       "H2O        30.0  26.50 -3.50  6.25  39.09\n",
       "H2S        10.0   6.94 -3.06  3.44  11.83\n",
       "O2         10.0   8.89 -1.11  5.32  28.27\n",
       "NH3         0.0   0.04  0.04  0.49   0.24\n",
       "S8          0.0   0.09  0.09  0.29   0.08\n",
       "HNO2        0.0   0.23  0.23  1.06   1.12\n",
       "NO          0.0   0.32  0.32  1.69   2.87\n",
       "NOHSO4      0.0   0.34  0.34  1.39   1.94\n",
       "HNO3        0.0   0.51  0.51  1.76   3.09\n",
       "H2          0.0   0.52  0.52  2.23   4.98\n",
       "N2          0.0   1.81  1.81  2.36   5.58\n",
       "H2SO3       0.0   2.26  2.26  4.31  18.56\n",
       "H2SO4       0.0   3.04  3.04  4.21  17.70"
      ]
     },
     "execution_count": 19,
     "metadata": {},
     "output_type": "execute_result"
    }
   ],
   "source": [
    "average_data = analysis.average_sampling(data)\n",
    "average_data = average_data.loc[~(average_data==0).all(axis=1)]\n",
    "average_data.round(5)\n",
    "average_data.sort_values(by='diff',inplace=True)\n",
    "average_data.round(2)"
   ]
  },
  {
   "cell_type": "markdown",
   "id": "24164700",
   "metadata": {},
   "source": [
    "#### 5. Plot "
   ]
  },
  {
   "cell_type": "code",
   "execution_count": 20,
   "id": "1c89114f",
   "metadata": {},
   "outputs": [
    {
     "data": {
      "text/plain": [
       "<Axes: >"
      ]
     },
     "execution_count": 20,
     "metadata": {},
     "output_type": "execute_result"
    },
    {
     "data": {
      "image/png": "[encoded data removed]",
      "text/plain": [
       "<Figure size 640x480 with 1 Axes>"
      ]
     },
     "metadata": {},
     "output_type": "display_data"
    }
   ],
   "source": [
    "import seaborn as sns \n",
    "import matplotlib.pyplot as plt\n",
    "import matplotlib.cm as cm\n",
    "import matplotlib.colors as colors\n",
    "\n",
    "sns.set_style('darkgrid')\n",
    "sns.set_palette('pastel')\n",
    "\n",
    "\n",
    "norm = colors.Normalize(vmin=average_data['diff'].min(), vmax=average_data['diff'].max())\n",
    "cmap = cm.RdBu  # or any other colormap\n",
    "\n",
    "bar_colors = [cmap(norm(value)) for value in average_data['diff']]\n",
    "\n",
    "average_data.plot.bar(y='diff',yerr='std',color=bar_colors)"
   ]
  },
  {
   "cell_type": "markdown",
   "id": "0a5717ac",
   "metadata": {},
   "source": [
    "#### 5. generate a `pyvis` graph "
   ]
  },
  {
   "cell_type": "code",
   "execution_count": null,
   "id": "7e3dbf29",
   "metadata": {},
   "outputs": [],
   "source": [
    "g = analysis.result_to_pyvis(data,head=5,filename='example_pyvis_graph.html')"
   ]
  },
  {
   "cell_type": "code",
   "execution_count": null,
   "id": "452b015d",
   "metadata": {},
   "outputs": [],
   "source": []
  }
 ],
 "metadata": {
  "kernelspec": {
   "display_name": "py311",
   "language": "python",
   "name": "python3"
  },
  "language_info": {
   "codemirror_mode": {
    "name": "ipython",
    "version": 3
   },
   "file_extension": ".py",
   "mimetype": "text/x-python",
   "name": "python",
   "nbconvert_exporter": "python",
   "pygments_lexer": "ipython3",
   "version": "3.11.9"
  }
 },
 "nbformat": 4,
 "nbformat_minor": 5
}
