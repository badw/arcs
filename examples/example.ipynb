{
 "cells": [
  {
   "cell_type": "code",
   "execution_count": 9,
   "id": "c698284f",
   "metadata": {},
   "outputs": [],
   "source": [
    "%load_ext autoreload\n",
    "%autoreload 2"
   ]
  },
  {
   "cell_type": "markdown",
   "id": "c4c4ef5c",
   "metadata": {},
   "source": [
    "#### 1. Set up the reaction graph from DFT data "
   ]
  },
  {
   "cell_type": "code",
   "execution_count": 10,
   "id": "81c405ac",
   "metadata": {},
   "outputs": [
    {
     "name": "stderr",
     "output_type": "stream",
     "text": [
      "/Users/badw/github-projects/arcs/src/arcs/generate.py:255: RuntimeWarning: overflow encountered in exp\n",
      "  K = np.exp(\n"
     ]
    }
   ],
   "source": [
    "from arcs.generate import GraphGenerator\n",
    "\n",
    "graph = GraphGenerator().from_file(\n",
    "    filename='../app/data/dft_data.json',\n",
    "    temperature=248,\n",
    "    pressure=20,\n",
    "    max_reaction_length=5\n",
    ")"
   ]
  },
  {
   "cell_type": "markdown",
   "id": "589e7cfd",
   "metadata": {},
   "source": [
    "#### 2. Sample the `graph`"
   ]
  },
  {
   "cell_type": "code",
   "execution_count": 11,
   "id": "27cdf512",
   "metadata": {},
   "outputs": [
    {
     "name": "stderr",
     "output_type": "stream",
     "text": [
      "/Users/badw/miniconda3/envs/test/lib/python3.11/site-packages/tqdm/auto.py:21: TqdmWarning: IProgress not found. Please update jupyter and ipywidgets. See https://ipywidgets.readthedocs.io/en/stable/user_install.html\n",
      "  from .autonotebook import tqdm as notebook_tqdm\n",
      "1008it [00:50, 19.81it/s]                         \n"
     ]
    }
   ],
   "source": [
    "from arcs.traversal import Traversal\n",
    "from arcs.generate import GenerateInitialConcentrations\n",
    "\n",
    "gic = GenerateInitialConcentrations(graph=graph).update_ic(\n",
    "    {'H2O':30,'O2':10,'SO2':10,'H2S':10,'NO2':10}\n",
    "    )\n",
    "\n",
    "t = Traversal(graph=graph)\n",
    "\n",
    "data = t.sample(initial_concentrations=gic,ncpus=4,nsamples=1000)"
   ]
  },
  {
   "cell_type": "markdown",
   "id": "dbcd453f",
   "metadata": {},
   "source": [
    "#### 3. generate reaction statistics"
   ]
  },
  {
   "cell_type": "code",
   "execution_count": 12,
   "id": "e59786da",
   "metadata": {},
   "outputs": [
    {
     "data": {
      "text/plain": [
       "1 H2 + 1 SO2 = 1 O2 + 1 H2S              345\n",
       "1 H2O + 1 SO2 = 1 H2SO3                  335\n",
       "2 H2 + 1 O2 = 2 H2O                      266\n",
       "3 H2 + 1 SO2 = 2 H2O + 1 H2S             164\n",
       "3 O2 + 2 H2S = 2 H2O + 2 SO2             139\n",
       "1 H2 + 1 SO2 + 1 NO2 = 1 H2SO3 + 1 NO    119\n",
       "1 H2 + 1 NO2 = 1 H2O + 1 NO              116\n",
       "1 H2O + 1 NO2 + 1 NO = 2 HNO2            112\n",
       "1 H2 + 1 H2SO4 = 2 H2O + 1 SO2            84\n",
       "2 H2 + 2 SO2 + 1 N2 = 2 H2S + 2 NO2       75\n",
       "dtype: int64"
      ]
     },
     "execution_count": 12,
     "metadata": {},
     "output_type": "execute_result"
    }
   ],
   "source": [
    "from arcs.analysis import AnalyseSampling\n",
    "import pandas as pd \n",
    "\n",
    "analysis = AnalyseSampling()\n",
    "stats = pd.Series(analysis.reaction_statistics(data)).sort_values(ascending=False)\n",
    "stats.head(10)"
   ]
  },
  {
   "cell_type": "markdown",
   "id": "4c28b538",
   "metadata": {},
   "source": [
    "#### 4. generate mean concentrations and differences"
   ]
  },
  {
   "cell_type": "code",
   "execution_count": 14,
   "id": "716d1ffd",
   "metadata": {},
   "outputs": [
    {
     "name": "stdout",
     "output_type": "stream",
     "text": [
      "        initial   mean  diff   sem   std    var\n",
      "H2S        10.0   4.88 -5.12  0.10  4.75  22.53\n",
      "NO2        10.0   6.19 -3.81  0.10  4.85  23.48\n",
      "O2         10.0   6.24 -3.76  0.12  5.76  33.18\n",
      "S8          0.0   0.07  0.07  0.01  0.26   0.07\n",
      "NH3         0.0   0.12  0.12  0.02  0.85   0.73\n",
      "NOHSO4      0.0   0.17  0.17  0.02  0.94   0.89\n",
      "HNO3        0.0   0.45  0.45  0.03  1.52   2.30\n",
      "HNO2        0.0   0.48  0.48  0.04  1.78   3.17\n",
      "H2O        30.0  30.48  0.48  0.11  5.51  30.31\n",
      "H2SO3       0.0   0.51  0.51  0.04  2.17   4.71\n",
      "N2          0.0   0.54  0.54  0.03  1.53   2.33\n",
      "H2SO4       0.0   0.65  0.65  0.05  2.47   6.08\n",
      "NO          0.0   1.45  1.45  0.07  3.45  11.89\n",
      "H2          0.0   2.19  2.19  0.08  4.04  16.32\n",
      "SO2        10.0  12.65  2.65  0.11  5.55  30.82\n"
     ]
    }
   ],
   "source": [
    "average_data = pd.DataFrame(analysis.average_sampling(data))\n",
    "average_data = average_data.loc[~(average_data==0).all(axis=1)]\n",
    "average_data.sort_values(by='diff',inplace=True)\n",
    "print(average_data.round(2).to_string())"
   ]
  },
  {
   "cell_type": "markdown",
   "id": "24164700",
   "metadata": {},
   "source": [
    "#### 5. Plot "
   ]
  },
  {
   "cell_type": "code",
   "execution_count": 22,
   "id": "1c89114f",
   "metadata": {},
   "outputs": [
    {
     "name": "stderr",
     "output_type": "stream",
     "text": [
      "/var/folders/40/xmstzxyn7377k__pn0yxn6w80000gn/T/ipykernel_68929/949321809.py:11: MatplotlibDeprecationWarning:\n",
      "\n",
      "The get_cmap function was deprecated in Matplotlib 3.7 and will be removed in 3.11. Use ``matplotlib.colormaps[name]`` or ``matplotlib.colormaps.get_cmap()`` or ``pyplot.get_cmap()`` instead.\n",
      "\n"
     ]
    },
    {
     "data": {
      "text/plain": [
       "<Axes: >"
      ]
     },
     "execution_count": 22,
     "metadata": {},
     "output_type": "execute_result"
    },
    {
     "data": {
      "image/png": "[encoded data removed]",
      "text/plain": [
       "<Figure size 640x480 with 1 Axes>"
      ]
     },
     "metadata": {},
     "output_type": "display_data"
    }
   ],
   "source": [
    "import seaborn as sns \n",
    "from matplotlib.cm import get_cmap\n",
    "import matplotlib.colors as colors\n",
    "sns.set_style('darkgrid')\n",
    "sns.set_palette('pastel')\n",
    "\n",
    "\n",
    "norm = colors.Normalize(\n",
    "    vmin=average_data['diff'].min(), vmax=average_data['diff'].max()\n",
    "    )\n",
    "cmap = get_cmap(name='RdBu')  # or any other colormap\n",
    "\n",
    "bar_colors = [cmap(norm(value)) for value in average_data['diff']]\n",
    "\n",
    "average_data.plot.bar(y='diff',yerr='sem',color=bar_colors)"
   ]
  },
  {
   "cell_type": "markdown",
   "id": "0a5717ac",
   "metadata": {},
   "source": [
    "#### 5. generate a `pyvis` graph "
   ]
  },
  {
   "cell_type": "code",
   "execution_count": null,
   "id": "7e3dbf29",
   "metadata": {},
   "outputs": [],
   "source": [
    "pyvis_kwargs = {'width':'50%','notebook':False,\"font_color\":'white'}\n",
    "g = analysis.result_to_pyvis(data,head=10)\n",
    "g.save_graph(name=\"example_pyvis_graph.html\")"
   ]
  }
 ],
 "metadata": {
  "kernelspec": {
   "display_name": "test",
   "language": "python",
   "name": "python3"
  },
  "language_info": {
   "codemirror_mode": {
    "name": "ipython",
    "version": 3
   },
   "file_extension": ".py",
   "mimetype": "text/x-python",
   "name": "python",
   "nbconvert_exporter": "python",
   "pygments_lexer": "ipython3",
   "version": "3.11.11"
  }
 },
 "nbformat": 4,
 "nbformat_minor": 5
}
