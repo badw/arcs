{
 "cells": [
  {
   "cell_type": "code",
   "execution_count": 7,
   "id": "c698284f",
   "metadata": {},
   "outputs": [],
   "source": [
    "%load_ext autoreload\n",
    "%autoreload 2"
   ]
  },
  {
   "cell_type": "markdown",
   "id": "c4c4ef5c",
   "metadata": {},
   "source": [
    "#### 1. Set up the reaction graph from DFT data "
   ]
  },
  {
   "cell_type": "code",
   "execution_count": 8,
   "id": "81c405ac",
   "metadata": {},
   "outputs": [
    {
     "name": "stderr",
     "output_type": "stream",
     "text": [
      "/Users/badw/github-projects/arcs/src/arcs/generate.py:255: RuntimeWarning: overflow encountered in exp\n",
      "  K = np.exp(\n"
     ]
    }
   ],
   "source": [
    "from arcs.generate import GraphGenerator\n",
    "\n",
    "graph = GraphGenerator().from_file(\n",
    "    filename='../app/data/dft_data.json',\n",
    "    temperature=248,\n",
    "    pressure=20,\n",
    "    max_reaction_length=5\n",
    ")"
   ]
  },
  {
   "cell_type": "markdown",
   "id": "589e7cfd",
   "metadata": {},
   "source": [
    "#### 2. Sample the `graph`"
   ]
  },
  {
   "cell_type": "code",
   "execution_count": 9,
   "id": "27cdf512",
   "metadata": {},
   "outputs": [
    {
     "name": "stderr",
     "output_type": "stream",
     "text": [
      "/Users/badw/miniconda3/envs/test/lib/python3.11/site-packages/tqdm/auto.py:21: TqdmWarning: IProgress not found. Please update jupyter and ipywidgets. See https://ipywidgets.readthedocs.io/en/stable/user_install.html\n",
      "  from .autonotebook import tqdm as notebook_tqdm\n",
      "1008it [00:48, 20.77it/s]                         \n"
     ]
    }
   ],
   "source": [
    "from arcs.traversal import Traversal\n",
    "from arcs.generate import GenerateInitialConcentrations\n",
    "\n",
    "gic = GenerateInitialConcentrations(graph=graph).update_ic(\n",
    "    {'H2O':30,'O2':10,'SO2':10,'H2S':10,'NO2':10}\n",
    "    )\n",
    "\n",
    "t = Traversal(graph=graph)\n",
    "\n",
    "data = t.sample(initial_concentrations=gic,ncpus=4,nsamples=1000)"
   ]
  },
  {
   "cell_type": "markdown",
   "id": "dbcd453f",
   "metadata": {},
   "source": [
    "#### 3. generate reaction statistics"
   ]
  },
  {
   "cell_type": "code",
   "execution_count": 10,
   "id": "e59786da",
   "metadata": {},
   "outputs": [
    {
     "data": {
      "text/plain": [
       "1 H2 + 1 SO2 = 1 O2 + 1 H2S              325\n",
       "2 H2 + 1 O2 = 2 H2O                      291\n",
       "1 H2O + 1 SO2 = 1 H2SO3                  266\n",
       "3 H2 + 1 SO2 = 2 H2O + 1 H2S             192\n",
       "3 O2 + 2 H2S = 2 H2O + 2 SO2             146\n",
       "1 H2O + 1 NO2 + 1 NO = 2 HNO2            116\n",
       "1 H2 + 1 SO2 + 1 NO2 = 1 H2SO3 + 1 NO     92\n",
       "1 H2 + 1 NO2 = 1 H2O + 1 NO               91\n",
       "1 H2 + 1 H2SO4 = 2 H2O + 1 SO2            72\n",
       "2 H2 + 2 SO2 + 1 N2 = 2 H2S + 2 NO2       68\n",
       "dtype: int64"
      ]
     },
     "execution_count": 10,
     "metadata": {},
     "output_type": "execute_result"
    }
   ],
   "source": [
    "from arcs.analysis import AnalyseSampling\n",
    "import pandas as pd \n",
    "\n",
    "analysis = AnalyseSampling()\n",
    "stats = pd.Series(analysis.reaction_statistics(data)).sort_values(ascending=False)\n",
    "stats.head(10)"
   ]
  },
  {
   "cell_type": "markdown",
   "id": "4c28b538",
   "metadata": {},
   "source": [
    "#### 4. generate mean concentrations and differences"
   ]
  },
  {
   "cell_type": "code",
   "execution_count": 11,
   "id": "716d1ffd",
   "metadata": {},
   "outputs": [
    {
     "data": {
      "text/html": [
       "<div>\n",
       "<style scoped>\n",
       "    .dataframe tbody tr th:only-of-type {\n",
       "        vertical-align: middle;\n",
       "    }\n",
       "\n",
       "    .dataframe tbody tr th {\n",
       "        vertical-align: top;\n",
       "    }\n",
       "\n",
       "    .dataframe thead th {\n",
       "        text-align: right;\n",
       "    }\n",
       "</style>\n",
       "<table border=\"1\" class=\"dataframe\">\n",
       "  <thead>\n",
       "    <tr style=\"text-align: right;\">\n",
       "      <th></th>\n",
       "      <th>initial</th>\n",
       "      <th>mean</th>\n",
       "      <th>diff</th>\n",
       "      <th>std</th>\n",
       "      <th>var</th>\n",
       "    </tr>\n",
       "  </thead>\n",
       "  <tbody>\n",
       "    <tr>\n",
       "      <th>H2S</th>\n",
       "      <td>10.0</td>\n",
       "      <td>4.83</td>\n",
       "      <td>-5.17</td>\n",
       "      <td>4.76</td>\n",
       "      <td>22.64</td>\n",
       "    </tr>\n",
       "    <tr>\n",
       "      <th>O2</th>\n",
       "      <td>10.0</td>\n",
       "      <td>5.84</td>\n",
       "      <td>-4.16</td>\n",
       "      <td>5.53</td>\n",
       "      <td>30.54</td>\n",
       "    </tr>\n",
       "    <tr>\n",
       "      <th>NO2</th>\n",
       "      <td>10.0</td>\n",
       "      <td>6.59</td>\n",
       "      <td>-3.41</td>\n",
       "      <td>4.73</td>\n",
       "      <td>22.34</td>\n",
       "    </tr>\n",
       "    <tr>\n",
       "      <th>S8</th>\n",
       "      <td>0.0</td>\n",
       "      <td>0.07</td>\n",
       "      <td>0.07</td>\n",
       "      <td>0.27</td>\n",
       "      <td>0.07</td>\n",
       "    </tr>\n",
       "    <tr>\n",
       "      <th>NH3</th>\n",
       "      <td>0.0</td>\n",
       "      <td>0.08</td>\n",
       "      <td>0.08</td>\n",
       "      <td>0.73</td>\n",
       "      <td>0.54</td>\n",
       "    </tr>\n",
       "    <tr>\n",
       "      <th>H2O</th>\n",
       "      <td>30.0</td>\n",
       "      <td>30.13</td>\n",
       "      <td>0.13</td>\n",
       "      <td>5.92</td>\n",
       "      <td>35.04</td>\n",
       "    </tr>\n",
       "    <tr>\n",
       "      <th>NOHSO4</th>\n",
       "      <td>0.0</td>\n",
       "      <td>0.14</td>\n",
       "      <td>0.14</td>\n",
       "      <td>0.84</td>\n",
       "      <td>0.70</td>\n",
       "    </tr>\n",
       "    <tr>\n",
       "      <th>H2SO3</th>\n",
       "      <td>0.0</td>\n",
       "      <td>0.37</td>\n",
       "      <td>0.37</td>\n",
       "      <td>1.84</td>\n",
       "      <td>3.39</td>\n",
       "    </tr>\n",
       "    <tr>\n",
       "      <th>HNO3</th>\n",
       "      <td>0.0</td>\n",
       "      <td>0.40</td>\n",
       "      <td>0.40</td>\n",
       "      <td>1.43</td>\n",
       "      <td>2.04</td>\n",
       "    </tr>\n",
       "    <tr>\n",
       "      <th>N2</th>\n",
       "      <td>0.0</td>\n",
       "      <td>0.44</td>\n",
       "      <td>0.44</td>\n",
       "      <td>1.37</td>\n",
       "      <td>1.89</td>\n",
       "    </tr>\n",
       "    <tr>\n",
       "      <th>HNO2</th>\n",
       "      <td>0.0</td>\n",
       "      <td>0.44</td>\n",
       "      <td>0.44</td>\n",
       "      <td>1.77</td>\n",
       "      <td>3.15</td>\n",
       "    </tr>\n",
       "    <tr>\n",
       "      <th>H2SO4</th>\n",
       "      <td>0.0</td>\n",
       "      <td>0.79</td>\n",
       "      <td>0.79</td>\n",
       "      <td>2.60</td>\n",
       "      <td>6.77</td>\n",
       "    </tr>\n",
       "    <tr>\n",
       "      <th>NO</th>\n",
       "      <td>0.0</td>\n",
       "      <td>1.43</td>\n",
       "      <td>1.43</td>\n",
       "      <td>3.33</td>\n",
       "      <td>11.11</td>\n",
       "    </tr>\n",
       "    <tr>\n",
       "      <th>H2</th>\n",
       "      <td>0.0</td>\n",
       "      <td>2.41</td>\n",
       "      <td>2.41</td>\n",
       "      <td>4.15</td>\n",
       "      <td>17.25</td>\n",
       "    </tr>\n",
       "    <tr>\n",
       "      <th>SO2</th>\n",
       "      <td>10.0</td>\n",
       "      <td>12.61</td>\n",
       "      <td>2.61</td>\n",
       "      <td>5.52</td>\n",
       "      <td>30.47</td>\n",
       "    </tr>\n",
       "  </tbody>\n",
       "</table>\n",
       "</div>"
      ],
      "text/plain": [
       "        initial   mean  diff   std    var\n",
       "H2S        10.0   4.83 -5.17  4.76  22.64\n",
       "O2         10.0   5.84 -4.16  5.53  30.54\n",
       "NO2        10.0   6.59 -3.41  4.73  22.34\n",
       "S8          0.0   0.07  0.07  0.27   0.07\n",
       "NH3         0.0   0.08  0.08  0.73   0.54\n",
       "H2O        30.0  30.13  0.13  5.92  35.04\n",
       "NOHSO4      0.0   0.14  0.14  0.84   0.70\n",
       "H2SO3       0.0   0.37  0.37  1.84   3.39\n",
       "HNO3        0.0   0.40  0.40  1.43   2.04\n",
       "N2          0.0   0.44  0.44  1.37   1.89\n",
       "HNO2        0.0   0.44  0.44  1.77   3.15\n",
       "H2SO4       0.0   0.79  0.79  2.60   6.77\n",
       "NO          0.0   1.43  1.43  3.33  11.11\n",
       "H2          0.0   2.41  2.41  4.15  17.25\n",
       "SO2        10.0  12.61  2.61  5.52  30.47"
      ]
     },
     "execution_count": 11,
     "metadata": {},
     "output_type": "execute_result"
    }
   ],
   "source": [
    "average_data = analysis.average_sampling(data)\n",
    "average_data = average_data.loc[~(average_data==0).all(axis=1)]\n",
    "average_data.round(5)\n",
    "average_data.sort_values(by='diff',inplace=True)\n",
    "average_data.round(2)"
   ]
  },
  {
   "cell_type": "markdown",
   "id": "24164700",
   "metadata": {},
   "source": [
    "#### 5. Plot "
   ]
  },
  {
   "cell_type": "code",
   "execution_count": 12,
   "id": "1c89114f",
   "metadata": {},
   "outputs": [
    {
     "data": {
      "text/plain": [
       "<Axes: >"
      ]
     },
     "execution_count": 12,
     "metadata": {},
     "output_type": "execute_result"
    },
    {
     "data": {
      "image/png": "[encoded data removed]",
      "text/plain": [
       "<Figure size 640x480 with 1 Axes>"
      ]
     },
     "metadata": {},
     "output_type": "display_data"
    }
   ],
   "source": [
    "import seaborn as sns \n",
    "import matplotlib.pyplot as plt\n",
    "import matplotlib.cm as cm\n",
    "import matplotlib.colors as colors\n",
    "sns.set_style('darkgrid')\n",
    "sns.set_palette('pastel')\n",
    "\n",
    "\n",
    "norm = colors.Normalize(vmin=average_data['diff'].min(), vmax=average_data['diff'].max())\n",
    "cmap = cm.RdBu  # or any other colormap\n",
    "\n",
    "bar_colors = [cmap(norm(value)) for value in average_data['diff']]\n",
    "\n",
    "average_data.plot.bar(y='diff',yerr='std',color=bar_colors)"
   ]
  },
  {
   "cell_type": "markdown",
   "id": "0a5717ac",
   "metadata": {},
   "source": [
    "#### 5. generate a `pyvis` graph "
   ]
  },
  {
   "cell_type": "code",
   "execution_count": 13,
   "id": "7e3dbf29",
   "metadata": {},
   "outputs": [],
   "source": [
    "g = analysis.result_to_pyvis(data,head=10,filename='example_pyvis_graph.html')"
   ]
  }
 ],
 "metadata": {
  "kernelspec": {
   "display_name": "test",
   "language": "python",
   "name": "python3"
  },
  "language_info": {
   "codemirror_mode": {
    "name": "ipython",
    "version": 3
   },
   "file_extension": ".py",
   "mimetype": "text/x-python",
   "name": "python",
   "nbconvert_exporter": "python",
   "pygments_lexer": "ipython3",
   "version": "3.11.11"
  }
 },
 "nbformat": 4,
 "nbformat_minor": 5
}
