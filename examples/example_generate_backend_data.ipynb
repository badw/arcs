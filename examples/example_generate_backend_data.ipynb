{
 "cells": [
  {
   "cell_type": "code",
   "execution_count": 1,
   "id": "9c287993",
   "metadata": {},
   "outputs": [],
   "source": [
    "%load_ext autoreload\n",
    "%autoreload 2"
   ]
  },
  {
   "cell_type": "code",
   "execution_count": null,
   "id": "abd70197",
   "metadata": {},
   "outputs": [],
   "source": [
    "#pip install git@github.com:badw/SMILESBOX.git\n",
    "#pip install git@github.com:badw/reactit.git\n",
    "#pip install mace-torch"
   ]
  },
  {
   "cell_type": "code",
   "execution_count": 1,
   "id": "f134ee28",
   "metadata": {},
   "outputs": [
    {
     "name": "stderr",
     "output_type": "stream",
     "text": [
      "/Users/badw/miniconda3/envs/py312/lib/python3.12/site-packages/e3nn/o3/_wigner.py:10: UserWarning: Environment variable TORCH_FORCE_NO_WEIGHTS_ONLY_LOAD detected, since the`weights_only` argument was not explicitly passed to `torch.load`, forcing weights_only=False.\n",
      "  _Jd, _W3j_flat, _W3j_indices = torch.load(os.path.join(os.path.dirname(__file__), 'constants.pt'))\n"
     ]
    },
    {
     "name": "stdout",
     "output_type": "stream",
     "text": [
      "cuequivariance or cuequivariance_torch is not available. Cuequivariance acceleration will be disabled.\n"
     ]
    }
   ],
   "source": [
    "from ase.optimize import QuasiNewton\n",
    "from ase.vibrations import Vibrations\n",
    "from smilesbox.smilesbox import SMILESbox\n",
    "from arcs.generate import GetEnergyandVibrationsAseCalc,GetEnergyandVibrationsVASP\n",
    "import shutil\n",
    "from mace.calculators import MACECalculator \n",
    "from mace.calculators import mace_off"
   ]
  },
  {
   "cell_type": "markdown",
   "id": "286ef68a",
   "metadata": {},
   "source": [
    "we can set up a reaction graph between the following reagents:\n",
    "\n",
    "1. H2,\n",
    "2. O2,\n",
    "3. H2O\n",
    "4. H2O2"
   ]
  },
  {
   "cell_type": "code",
   "execution_count": 2,
   "id": "cae5bdee",
   "metadata": {},
   "outputs": [
    {
     "data": {
      "application/vnd.jupyter.widget-view+json": {
       "model_id": "edf7fa7197a64397996641b0781e2a08",
       "version_major": 2,
       "version_minor": 0
      },
      "text/plain": [
       "  0%|          | 0/11 [00:00<?, ?it/s]"
      ]
     },
     "metadata": {},
     "output_type": "display_data"
    },
    {
     "data": {
      "text/plain": [
       "['1 H2 + 1 O2 = 1 H2O2',\n",
       " '1 H2 + 1 H2O2 = 2 H2O',\n",
       " '2 H2 + 1 O2 = 2 H2O',\n",
       " '1 O2 + 2 H2O = 2 H2O2']"
      ]
     },
     "execution_count": 2,
     "metadata": {},
     "output_type": "execute_result"
    }
   ],
   "source": [
    "reagents = {'H2':'[HH]','O2':'O=O','H2O':'O','H2O2':'OO'}\n",
    "\n",
    "from reactit.reactit import ReactionGenerator\n",
    "\n",
    "rg = ReactionGenerator(compounds=list(reagents))\n",
    "\n",
    "reactions = rg.iterate()\n",
    "reactions"
   ]
  },
  {
   "cell_type": "markdown",
   "id": "5d1afa49",
   "metadata": {},
   "source": [
    "## 1. using MACE"
   ]
  },
  {
   "cell_type": "code",
   "execution_count": 7,
   "id": "3605dfa6",
   "metadata": {},
   "outputs": [
    {
     "name": "stdout",
     "output_type": "stream",
     "text": [
      "Using MACE-OFF23 MODEL for MACECalculator with /Users/badw/.cache/mace/MACE-OFF23_large.model\n",
      "Using float64 for MACECalculator, which is slower but more accurate. Recommended for geometry optimization.\n",
      "Using head Default out of ['Default']\n",
      "H2\n"
     ]
    },
    {
     "name": "stderr",
     "output_type": "stream",
     "text": [
      "/Users/badw/miniconda3/envs/py312/lib/python3.12/site-packages/mace/calculators/mace.py:143: UserWarning: Environment variable TORCH_FORCE_NO_WEIGHTS_ONLY_LOAD detected, since the`weights_only` argument was not explicitly passed to `torch.load`, forcing weights_only=False.\n",
      "  torch.load(f=model_path, map_location=device)\n"
     ]
    },
    {
     "name": "stdout",
     "output_type": "stream",
     "text": [
      "                Step[ FC]     Time          Energy          fmax\n",
      "BFGSLineSearch:    0[  0] 09:57:09      -31.719627       1.7048\n",
      "BFGSLineSearch:    1[  2] 09:57:10      -31.855335       0.6992\n",
      "BFGSLineSearch:    2[  4] 09:57:10      -31.867356       0.0068\n",
      "BFGSLineSearch:    3[  5] 09:57:10      -31.867357       0.0005\n",
      "O2\n",
      "                Step[ FC]     Time          Energy          fmax\n",
      "BFGSLineSearch:    0[  0] 09:57:11    -4091.031980       0.8976\n",
      "BFGSLineSearch:    1[  1] 09:57:11    -4091.136515       0.2940\n",
      "BFGSLineSearch:    2[  3] 09:57:11    -4091.137748       0.0000\n",
      "H2O\n",
      "                Step[ FC]     Time          Energy          fmax\n",
      "BFGSLineSearch:    0[  0] 09:57:12    -2081.116613       0.6752\n",
      "BFGSLineSearch:    1[  2] 09:57:12    -2081.122018       0.0583\n",
      "BFGSLineSearch:    2[  3] 09:57:12    -2081.122063       0.0104\n",
      "BFGSLineSearch:    3[  4] 09:57:12    -2081.122072       0.0021\n",
      "BFGSLineSearch:    4[  5] 09:57:12    -2081.122072       0.0003\n",
      "H2O2\n",
      "                Step[ FC]     Time          Energy          fmax\n",
      "BFGSLineSearch:    0[  0] 09:57:14    -4126.507501       1.2906\n",
      "BFGSLineSearch:    1[  2] 09:57:15    -4126.530383       0.3388\n",
      "BFGSLineSearch:    2[  4] 09:57:15    -4126.538719       0.3313\n",
      "BFGSLineSearch:    3[  6] 09:57:15    -4126.541087       0.0856\n",
      "BFGSLineSearch:    4[  7] 09:57:15    -4126.541201       0.0055\n",
      "BFGSLineSearch:    5[  8] 09:57:15    -4126.541201       0.0000\n"
     ]
    }
   ],
   "source": [
    "calc = mace_off(model='large')\n",
    "\n",
    "dft_dict = {}\n",
    "for reagent in reagents:\n",
    "    print(reagent)\n",
    "    try:\n",
    "        shutil.rmtree('./vib/')\n",
    "    except FileNotFoundError:\n",
    "        pass\n",
    "    sm = SMILESbox()\n",
    "    sm.smiles_to_atoms(reagents[reagent])\n",
    "\n",
    "\n",
    "    atoms = sm.atoms\n",
    "    atoms.calc = calc\n",
    "\n",
    "    QuasiNewton(atoms).run(fmax=0.001)\n",
    "\n",
    "    vib = Vibrations(atoms,nfree=4) # nfree = 2 or 4 but not sure which is more accurate\n",
    "\n",
    "    vib.run()\n",
    "\n",
    "    gevac = GetEnergyandVibrationsAseCalc(aseatomscalc=atoms,asevibrationscalc=vib)\n",
    "\n",
    "    dft_dict[reagent] = gevac.as_dict()\n",
    "\n"
   ]
  },
  {
   "cell_type": "code",
   "execution_count": 8,
   "id": "11fb9818",
   "metadata": {},
   "outputs": [
    {
     "name": "stderr",
     "output_type": "stream",
     "text": [
      "/Users/badw/miniconda3/envs/py312/lib/python3.12/site-packages/ase/thermochemistry.py:823: UserWarning: 1 imag modes removed\n",
      "  warn(f\"{n_imag} imag modes removed\", UserWarning)\n"
     ]
    }
   ],
   "source": [
    "from arcs.generate import GraphGenerator\n",
    "dft_dict['reactions'] = rg.as_dict() # add to the dft_dict\n",
    "graph = GraphGenerator().from_dict(dft_dict=dft_dict,temperature=298.15,pressure=1.0)"
   ]
  },
  {
   "cell_type": "code",
   "execution_count": 9,
   "id": "338e7531",
   "metadata": {},
   "outputs": [
    {
     "data": {
      "application/vnd.jupyter.widget-view+json": {
       "model_id": "81076aeaafd24ce9963480cb9e9604b0",
       "version_major": 2,
       "version_minor": 0
      },
      "text/plain": [
       "  0%|          | 0/1000 [00:00<?, ?it/s]"
      ]
     },
     "metadata": {},
     "output_type": "display_data"
    }
   ],
   "source": [
    "from arcs.traversal import Traversal\n",
    "from arcs.generate import GenerateInitialConcentrations\n",
    "\n",
    "gic = GenerateInitialConcentrations(graph=graph).update_ic(\n",
    "    {'H2':10,'O2':10}\n",
    "    )\n",
    "\n",
    "t = Traversal(graph=graph)\n",
    "\n",
    "data = t.sample(initial_concentrations=gic,ncpus=4,nsamples=1000)"
   ]
  },
  {
   "cell_type": "code",
   "execution_count": 10,
   "id": "226f8901",
   "metadata": {},
   "outputs": [
    {
     "data": {
      "text/plain": [
       "2 H2 + 1 O2 = 2 H2O      1630\n",
       "1 H2 + 1 O2 = 1 H2O2      641\n",
       "1 O2 + 2 H2O = 2 H2O2     373\n",
       "1 H2 + 1 H2O2 = 2 H2O     140\n",
       "dtype: int64"
      ]
     },
     "execution_count": 10,
     "metadata": {},
     "output_type": "execute_result"
    }
   ],
   "source": [
    "from arcs.analysis import AnalyseSampling\n",
    "import pandas as pd \n",
    "\n",
    "analysis = AnalyseSampling()\n",
    "stats = pd.Series(analysis.reaction_statistics(data)).sort_values(ascending=False)\n",
    "stats.head(10)"
   ]
  },
  {
   "cell_type": "code",
   "execution_count": 11,
   "id": "02b33a4a",
   "metadata": {},
   "outputs": [
    {
     "name": "stdout",
     "output_type": "stream",
     "text": [
      "      initial  mean   diff   sem  std    var\n",
      "H2       10.0  0.00 -10.00  0.00  0.0   0.00\n",
      "O2       10.0  3.70  -6.30  0.04  1.9   3.60\n",
      "H2O2      0.0  2.59   2.59  0.07  3.8  14.41\n",
      "H2O       0.0  7.41   7.41  0.07  3.8  14.41\n"
     ]
    }
   ],
   "source": [
    "average_data = pd.DataFrame(analysis.average_sampling(data))\n",
    "average_data = average_data.loc[~(average_data==0).all(axis=1)]\n",
    "average_data.sort_values(by='diff',inplace=True)\n",
    "print(average_data.round(2).to_string())"
   ]
  },
  {
   "cell_type": "markdown",
   "id": "a38ff430",
   "metadata": {},
   "source": [
    "## 2. DFT within VASP"
   ]
  },
  {
   "cell_type": "code",
   "execution_count": 56,
   "id": "26b01067",
   "metadata": {},
   "outputs": [
    {
     "name": "stdout",
     "output_type": "stream",
     "text": [
      "H2\n",
      "O2\n"
     ]
    },
    {
     "name": "stderr",
     "output_type": "stream",
     "text": [
      "/Users/badw/miniconda3/envs/py312/lib/python3.12/site-packages/ase/calculators/vasp/vasp.py:1004: UserWarning: Magnetic moment data not written in OUTCAR (LORBIT<10), setting magnetic_moments to zero.\n",
      "Set LORBIT>=10 to get information on magnetic moments\n",
      "  warn('Magnetic moment data not written in OUTCAR (LORBIT<10),'\n"
     ]
    },
    {
     "name": "stdout",
     "output_type": "stream",
     "text": [
      "H2O\n",
      "H2O2\n"
     ]
    }
   ],
   "source": [
    "from ase.calculators.vasp import Vasp \n",
    "import os \n",
    "os.environ['VASP_PP_PATH'] = '/Users/badw/Documents/misc/VASP/'\n",
    "calc = Vasp(\n",
    "    command='mpirun -np 4 /Users/badw/Documents/misc/VASP/source/vasp.6.4.2/bin/vasp_gam',\n",
    "            directory='./vasp_calculations/relax/',\n",
    "            kpts=(1, 1, 1),\n",
    "            xc='PBE',\n",
    "            encut=500,\n",
    "            ediff=1e-6,\n",
    "            ediffg=-1e-4,\n",
    "            ibrion=1,\n",
    "            isym=2,\n",
    "            symprec=0.01,\n",
    "            isif=2,\n",
    "            nsw=100,\n",
    "            lreal=False,\n",
    "            lwave=False,\n",
    "            lcharg=False,\n",
    "            algo='All',\n",
    "            potim=0.1,\n",
    "            ncore=4,\n",
    "            prec='accurate',\n",
    "            addgrid=True,\n",
    "            gamma=True\n",
    ")\n",
    "\n",
    "vibcalc = Vasp(\n",
    "    command='mpirun -np 4 /Users/badw/Documents/misc/VASP/source/vasp.6.4.2/bin/vasp_gam',\n",
    "            directory='./vasp_calculations/vibrations/',\n",
    "            kpts=(1, 1, 1),\n",
    "            xc='PBE',\n",
    "            encut=500,\n",
    "            ediff=1e-6,\n",
    "            ediffg=-1e-4,\n",
    "            ibrion=6,\n",
    "            isym=2,\n",
    "            symprec=0.01,\n",
    "            isif=2,\n",
    "            nsw=10,\n",
    "            lreal=False,\n",
    "            lwave=False,\n",
    "            lcharg=False,\n",
    "            algo='All',\n",
    "            potim=0.1,\n",
    "            ncore=4,\n",
    "            prec='accurate',\n",
    "            addgrid=True,\n",
    "            gamma=True\n",
    ")\n",
    "\n",
    "dft_dict = {}\n",
    "for reagent in reagents:\n",
    "\n",
    "    if reagent == 'O2':\n",
    "        calc.set(**{'ispin':2,'nupdown':2}) # triplet oxygen \n",
    "        vibcalc.set(**{'ispin':2,'nupdown':2})\n",
    "    else:\n",
    "        calc.set(**{'ispin':1,'nupdown':0})\n",
    "        vibcalc.set(**{'ispin':1,'nupdown':0})\n",
    "    \n",
    "    print(reagent)\n",
    "    try:\n",
    "        shutil.rmtree('./vib/')\n",
    "        shutil.rmtree('./vasp_calculations/')\n",
    "    except FileNotFoundError:\n",
    "        pass\n",
    "\n",
    "    sm = SMILESbox()\n",
    "    sm.smiles_to_atoms(reagents[reagent])\n",
    "    sm.add_box([5,5,5]) #should be 10,10,10 but this is a test \n",
    "    atoms = sm.atoms\n",
    "    \n",
    "    atoms.calc = calc\n",
    "\n",
    "    atoms.get_potential_energy()\n",
    "    try:\n",
    "        vibcalc.calculate(atoms)\n",
    "    except AttributeError:\n",
    "        pass \n",
    "\n",
    "    gevac = GetEnergyandVibrationsVASP(relax_directory='./vasp_calculations/relax/',vibrations_directory='./vasp_calculations/vibrations/')\n",
    "\n",
    "    dft_dict[reagent] = gevac.as_dict()"
   ]
  },
  {
   "cell_type": "code",
   "execution_count": 62,
   "id": "4b96043d",
   "metadata": {},
   "outputs": [
    {
     "name": "stderr",
     "output_type": "stream",
     "text": [
      "/Users/badw/miniconda3/envs/py312/lib/python3.12/site-packages/ase/thermochemistry.py:823: UserWarning: 1 imag modes removed\n",
      "  warn(f\"{n_imag} imag modes removed\", UserWarning)\n"
     ]
    }
   ],
   "source": [
    "from arcs.generate import GraphGenerator\n",
    "dft_dict['reactions'] = rg.as_dict()\n",
    "graph = GraphGenerator().from_dict(dft_dict=dft_dict,temperature=298.15,pressure=1.0)"
   ]
  },
  {
   "cell_type": "code",
   "execution_count": 63,
   "id": "3588fb64",
   "metadata": {},
   "outputs": [
    {
     "name": "stderr",
     "output_type": "stream",
     "text": [
      "1008it [00:05, 180.71it/s]                         \n"
     ]
    }
   ],
   "source": [
    "from arcs.traversal import Traversal\n",
    "from arcs.generate import GenerateInitialConcentrations\n",
    "\n",
    "gic = GenerateInitialConcentrations(graph=graph).update_ic(\n",
    "    {'H2':10,'O2':10}\n",
    "    )\n",
    "\n",
    "t = Traversal(graph=graph)\n",
    "\n",
    "data = t.sample(initial_concentrations=gic,ncpus=4,nsamples=1000)"
   ]
  },
  {
   "cell_type": "code",
   "execution_count": 64,
   "id": "cd14de16",
   "metadata": {},
   "outputs": [
    {
     "data": {
      "text/plain": [
       "2 H2 + 1 O2 = 2 H2O      2342\n",
       "1 H2 + 1 O2 = 1 H2O2     1380\n",
       "1 O2 + 2 H2O = 2 H2O2     716\n",
       "1 H2 + 1 H2O2 = 2 H2O     514\n",
       "dtype: int64"
      ]
     },
     "execution_count": 64,
     "metadata": {},
     "output_type": "execute_result"
    }
   ],
   "source": [
    "from arcs.analysis import AnalyseSampling\n",
    "import pandas as pd \n",
    "\n",
    "analysis = AnalyseSampling()\n",
    "stats = pd.Series(analysis.reaction_statistics(data)).sort_values(ascending=False)\n",
    "stats.head(10)"
   ]
  },
  {
   "cell_type": "code",
   "execution_count": 65,
   "id": "43532bfa",
   "metadata": {},
   "outputs": [
    {
     "name": "stdout",
     "output_type": "stream",
     "text": [
      "      initial  mean  diff   sem   std    var\n",
      "H2       10.0  0.02 -9.98  0.00  0.03   0.00\n",
      "O2       10.0  2.76 -7.24  0.03  2.45   5.99\n",
      "H2O2      0.0  4.51  4.51  0.07  4.92  24.16\n",
      "H2O       0.0  5.47  5.47  0.07  4.93  24.35\n"
     ]
    }
   ],
   "source": [
    "average_data = pd.DataFrame(analysis.average_sampling(data))\n",
    "average_data = average_data.loc[~(average_data==0).all(axis=1)]\n",
    "average_data.sort_values(by='diff',inplace=True)\n",
    "print(average_data.round(2).to_string())"
   ]
  },
  {
   "cell_type": "markdown",
   "id": "8e68d468",
   "metadata": {},
   "source": [
    "## 3. with PSI4"
   ]
  },
  {
   "cell_type": "code",
   "execution_count": 4,
   "id": "25c3ba9a",
   "metadata": {},
   "outputs": [
    {
     "name": "stdout",
     "output_type": "stream",
     "text": [
      "H2\n"
     ]
    },
    {
     "ename": "RuntimeError",
     "evalue": "\nFatal Error: Timer HF: Form core H is already on.\nError occurred in file: /Users/runner/miniforge3/conda-bld/psi4_1746393110470/work/psi4/src/psi4/libqt/timer.cc on line: 280\nThe most recent 5 function calls were:\n\n",
     "output_type": "error",
     "traceback": [
      "\u001b[31m---------------------------------------------------------------------------\u001b[39m",
      "\u001b[31mRuntimeError\u001b[39m                              Traceback (most recent call last)",
      "\u001b[36mCell\u001b[39m\u001b[36m \u001b[39m\u001b[32mIn[4]\u001b[39m\u001b[32m, line 31\u001b[39m\n\u001b[32m     29\u001b[39m calc.psi4.core.set_global_option(\u001b[33m'\u001b[39m\u001b[33mcachelevel\u001b[39m\u001b[33m'\u001b[39m,\u001b[32m0\u001b[39m)     \n\u001b[32m     30\u001b[39m atoms.calc = calc    \n\u001b[32m---> \u001b[39m\u001b[32m31\u001b[39m \u001b[43matoms\u001b[49m\u001b[43m.\u001b[49m\u001b[43mget_potential_energy\u001b[49m\u001b[43m(\u001b[49m\u001b[43m)\u001b[49m\n\u001b[32m     33\u001b[39m \u001b[38;5;28;01mtry\u001b[39;00m:\n\u001b[32m     34\u001b[39m     calc.psi4.core.set_global_option(\u001b[33m'\u001b[39m\u001b[33mREFERENCE\u001b[39m\u001b[33m'\u001b[39m, \u001b[33m'\u001b[39m\u001b[33mRHF\u001b[39m\u001b[33m'\u001b[39m)\n",
      "\u001b[36mFile \u001b[39m\u001b[32m~/miniconda3/envs/py312/lib/python3.12/site-packages/ase/atoms.py:772\u001b[39m, in \u001b[36mAtoms.get_potential_energy\u001b[39m\u001b[34m(self, force_consistent, apply_constraint)\u001b[39m\n\u001b[32m    769\u001b[39m     energy = \u001b[38;5;28mself\u001b[39m._calc.get_potential_energy(\n\u001b[32m    770\u001b[39m         \u001b[38;5;28mself\u001b[39m, force_consistent=force_consistent)\n\u001b[32m    771\u001b[39m \u001b[38;5;28;01melse\u001b[39;00m:\n\u001b[32m--> \u001b[39m\u001b[32m772\u001b[39m     energy = \u001b[38;5;28;43mself\u001b[39;49m\u001b[43m.\u001b[49m\u001b[43m_calc\u001b[49m\u001b[43m.\u001b[49m\u001b[43mget_potential_energy\u001b[49m\u001b[43m(\u001b[49m\u001b[38;5;28;43mself\u001b[39;49m\u001b[43m)\u001b[49m\n\u001b[32m    773\u001b[39m \u001b[38;5;28;01mif\u001b[39;00m apply_constraint:\n\u001b[32m    774\u001b[39m     \u001b[38;5;28;01mfor\u001b[39;00m constraint \u001b[38;5;129;01min\u001b[39;00m \u001b[38;5;28mself\u001b[39m.constraints:\n",
      "\u001b[36mFile \u001b[39m\u001b[32m~/miniconda3/envs/py312/lib/python3.12/site-packages/ase/calculators/abc.py:26\u001b[39m, in \u001b[36mGetPropertiesMixin.get_potential_energy\u001b[39m\u001b[34m(self, atoms, force_consistent)\u001b[39m\n\u001b[32m     24\u001b[39m \u001b[38;5;28;01melse\u001b[39;00m:\n\u001b[32m     25\u001b[39m     name = \u001b[33m'\u001b[39m\u001b[33menergy\u001b[39m\u001b[33m'\u001b[39m\n\u001b[32m---> \u001b[39m\u001b[32m26\u001b[39m \u001b[38;5;28;01mreturn\u001b[39;00m \u001b[38;5;28;43mself\u001b[39;49m\u001b[43m.\u001b[49m\u001b[43mget_property\u001b[49m\u001b[43m(\u001b[49m\u001b[43mname\u001b[49m\u001b[43m,\u001b[49m\u001b[43m \u001b[49m\u001b[43matoms\u001b[49m\u001b[43m)\u001b[49m\n",
      "\u001b[36mFile \u001b[39m\u001b[32m~/miniconda3/envs/py312/lib/python3.12/site-packages/ase/calculators/calculator.py:515\u001b[39m, in \u001b[36mBaseCalculator.get_property\u001b[39m\u001b[34m(self, name, atoms, allow_calculation)\u001b[39m\n\u001b[32m    512\u001b[39m     \u001b[38;5;28;01mif\u001b[39;00m \u001b[38;5;28mself\u001b[39m.use_cache:\n\u001b[32m    513\u001b[39m         \u001b[38;5;28mself\u001b[39m.atoms = atoms.copy()\n\u001b[32m--> \u001b[39m\u001b[32m515\u001b[39m     \u001b[38;5;28;43mself\u001b[39;49m\u001b[43m.\u001b[49m\u001b[43mcalculate\u001b[49m\u001b[43m(\u001b[49m\u001b[43matoms\u001b[49m\u001b[43m,\u001b[49m\u001b[43m \u001b[49m\u001b[43m[\u001b[49m\u001b[43mname\u001b[49m\u001b[43m]\u001b[49m\u001b[43m,\u001b[49m\u001b[43m \u001b[49m\u001b[43msystem_changes\u001b[49m\u001b[43m)\u001b[49m\n\u001b[32m    517\u001b[39m \u001b[38;5;28;01mif\u001b[39;00m name \u001b[38;5;129;01mnot\u001b[39;00m \u001b[38;5;129;01min\u001b[39;00m \u001b[38;5;28mself\u001b[39m.results:\n\u001b[32m    518\u001b[39m     \u001b[38;5;66;03m# For some reason the calculator was not able to do what we want,\u001b[39;00m\n\u001b[32m    519\u001b[39m     \u001b[38;5;66;03m# and that is OK.\u001b[39;00m\n\u001b[32m    520\u001b[39m     \u001b[38;5;28;01mraise\u001b[39;00m PropertyNotImplementedError(\n\u001b[32m    521\u001b[39m         \u001b[33m'\u001b[39m\u001b[38;5;132;01m{}\u001b[39;00m\u001b[33m not present in this \u001b[39m\u001b[33m'\u001b[39m \u001b[33m'\u001b[39m\u001b[33mcalculation\u001b[39m\u001b[33m'\u001b[39m.format(name)\n\u001b[32m    522\u001b[39m     )\n",
      "\u001b[36mFile \u001b[39m\u001b[32m~/miniconda3/envs/py312/lib/python3.12/site-packages/ase/calculators/psi4.py:199\u001b[39m, in \u001b[36mPsi4.calculate\u001b[39m\u001b[34m(self, atoms, properties, system_changes, symmetry)\u001b[39m\n\u001b[32m    197\u001b[39m     \u001b[38;5;28mself\u001b[39m.results[\u001b[33m'\u001b[39m\u001b[33mforces\u001b[39m\u001b[33m'\u001b[39m] = -\u001b[32m1\u001b[39m * np.array(grad) * Hartree / Bohr\n\u001b[32m    198\u001b[39m \u001b[38;5;28;01melif\u001b[39;00m \u001b[33m'\u001b[39m\u001b[33menergy\u001b[39m\u001b[33m'\u001b[39m \u001b[38;5;129;01min\u001b[39;00m properties:\n\u001b[32m--> \u001b[39m\u001b[32m199\u001b[39m     energy = \u001b[38;5;28;43mself\u001b[39;49m\u001b[43m.\u001b[49m\u001b[43mpsi4\u001b[49m\u001b[43m.\u001b[49m\u001b[43menergy\u001b[49m\u001b[43m(\u001b[49m\u001b[33;43mf\u001b[39;49m\u001b[33;43m'\u001b[39;49m\u001b[38;5;132;43;01m{\u001b[39;49;00m\u001b[43mmethod\u001b[49m\u001b[38;5;132;43;01m}\u001b[39;49;00m\u001b[33;43m/\u001b[39;49m\u001b[38;5;132;43;01m{\u001b[39;49;00m\u001b[43mbasis\u001b[49m\u001b[38;5;132;43;01m}\u001b[39;49;00m\u001b[33;43m'\u001b[39;49m\u001b[43m,\u001b[49m\n\u001b[32m    200\u001b[39m \u001b[43m                              \u001b[49m\u001b[43mmolecule\u001b[49m\u001b[43m=\u001b[49m\u001b[38;5;28;43mself\u001b[39;49m\u001b[43m.\u001b[49m\u001b[43mmolecule\u001b[49m\u001b[43m)\u001b[49m\n\u001b[32m    201\u001b[39m     \u001b[38;5;66;03m# convert to eV\u001b[39;00m\n\u001b[32m    202\u001b[39m     \u001b[38;5;28mself\u001b[39m.results[\u001b[33m'\u001b[39m\u001b[33menergy\u001b[39m\u001b[33m'\u001b[39m] = energy * Hartree\n",
      "\u001b[36mFile \u001b[39m\u001b[32m~/miniconda3/envs/py312/lib/python3.12/site-packages/psi4/driver/driver.py:525\u001b[39m, in \u001b[36menergy\u001b[39m\u001b[34m(name, **kwargs)\u001b[39m\n\u001b[32m    523\u001b[39m logger.info(\u001b[33mf\u001b[39m\u001b[33m\"\u001b[39m\u001b[33mCompute energy(): method=\u001b[39m\u001b[38;5;132;01m{\u001b[39;00mlowername\u001b[38;5;132;01m}\u001b[39;00m\u001b[33m, basis=\u001b[39m\u001b[38;5;132;01m{\u001b[39;00mcore.get_global_option(\u001b[33m'\u001b[39m\u001b[33mBASIS\u001b[39m\u001b[33m'\u001b[39m).lower()\u001b[38;5;132;01m}\u001b[39;00m\u001b[33m, molecule=\u001b[39m\u001b[38;5;132;01m{\u001b[39;00mmolecule.name()\u001b[38;5;132;01m}\u001b[39;00m\u001b[33m, nre=\u001b[39m\u001b[38;5;132;01m{\u001b[39;00m\u001b[33m'\u001b[39m\u001b[33mw/EFP\u001b[39m\u001b[33m'\u001b[39m\u001b[38;5;250m \u001b[39m\u001b[38;5;28;01mif\u001b[39;00m\u001b[38;5;250m \u001b[39m\u001b[38;5;28mhasattr\u001b[39m(molecule,\u001b[38;5;250m \u001b[39m\u001b[33m'\u001b[39m\u001b[33mEFP\u001b[39m\u001b[33m'\u001b[39m)\u001b[38;5;250m \u001b[39m\u001b[38;5;28;01melse\u001b[39;00m\u001b[38;5;250m \u001b[39mmolecule.nuclear_repulsion_energy()\u001b[38;5;132;01m}\u001b[39;00m\u001b[33m\"\u001b[39m)\n\u001b[32m    524\u001b[39m logger.debug(\u001b[33m\"\u001b[39m\u001b[33mw/EFP\u001b[39m\u001b[33m\"\u001b[39m \u001b[38;5;28;01mif\u001b[39;00m \u001b[38;5;28mhasattr\u001b[39m(molecule, \u001b[33m\"\u001b[39m\u001b[33mEFP\u001b[39m\u001b[33m\"\u001b[39m) \u001b[38;5;28;01melse\u001b[39;00m pp.pformat(molecule.to_dict()))\n\u001b[32m--> \u001b[39m\u001b[32m525\u001b[39m wfn = \u001b[43mprocedures\u001b[49m\u001b[43m[\u001b[49m\u001b[33;43m'\u001b[39;49m\u001b[33;43menergy\u001b[39;49m\u001b[33;43m'\u001b[39;49m\u001b[43m]\u001b[49m\u001b[43m[\u001b[49m\u001b[43mlowername\u001b[49m\u001b[43m]\u001b[49m\u001b[43m(\u001b[49m\u001b[43mlowername\u001b[49m\u001b[43m,\u001b[49m\u001b[43m \u001b[49m\u001b[43mmolecule\u001b[49m\u001b[43m=\u001b[49m\u001b[43mmolecule\u001b[49m\u001b[43m,\u001b[49m\u001b[43m \u001b[49m\u001b[43m*\u001b[49m\u001b[43m*\u001b[49m\u001b[43mkwargs\u001b[49m\u001b[43m)\u001b[49m\n\u001b[32m    526\u001b[39m logger.info(\u001b[33mf\u001b[39m\u001b[33m\"\u001b[39m\u001b[33mReturn energy(): \u001b[39m\u001b[38;5;132;01m{\u001b[39;00mcore.variable(\u001b[33m'\u001b[39m\u001b[33mCURRENT ENERGY\u001b[39m\u001b[33m'\u001b[39m)\u001b[38;5;132;01m}\u001b[39;00m\u001b[33m\"\u001b[39m)\n\u001b[32m    528\u001b[39m \u001b[38;5;28;01mfor\u001b[39;00m postcallback \u001b[38;5;129;01min\u001b[39;00m hooks[\u001b[33m'\u001b[39m\u001b[33menergy\u001b[39m\u001b[33m'\u001b[39m][\u001b[33m'\u001b[39m\u001b[33mpost\u001b[39m\u001b[33m'\u001b[39m]:\n",
      "\u001b[36mFile \u001b[39m\u001b[32m~/miniconda3/envs/py312/lib/python3.12/site-packages/psi4/driver/procrouting/proc.py:167\u001b[39m, in \u001b[36mselect_mp2\u001b[39m\u001b[34m(name, **kwargs)\u001b[39m\n\u001b[32m    165\u001b[39m     \u001b[38;5;28;01mreturn\u001b[39;00m\n\u001b[32m    166\u001b[39m \u001b[38;5;28;01melse\u001b[39;00m:\n\u001b[32m--> \u001b[39m\u001b[32m167\u001b[39m     \u001b[38;5;28;01mreturn\u001b[39;00m \u001b[43mfunc\u001b[49m\u001b[43m(\u001b[49m\u001b[43mname\u001b[49m\u001b[43m,\u001b[49m\u001b[43m \u001b[49m\u001b[43m*\u001b[49m\u001b[43m*\u001b[49m\u001b[43mkwargs\u001b[49m\u001b[43m)\u001b[49m\n",
      "\u001b[36mFile \u001b[39m\u001b[32m~/miniconda3/envs/py312/lib/python3.12/site-packages/psi4/driver/procrouting/proc.py:4194\u001b[39m, in \u001b[36mrun_dfmp2\u001b[39m\u001b[34m(name, **kwargs)\u001b[39m\n\u001b[32m   4192\u001b[39m ref_wfn = kwargs.get(\u001b[33m'\u001b[39m\u001b[33mref_wfn\u001b[39m\u001b[33m'\u001b[39m, \u001b[38;5;28;01mNone\u001b[39;00m)\n\u001b[32m   4193\u001b[39m \u001b[38;5;28;01mif\u001b[39;00m ref_wfn \u001b[38;5;129;01mis\u001b[39;00m \u001b[38;5;28;01mNone\u001b[39;00m:\n\u001b[32m-> \u001b[39m\u001b[32m4194\u001b[39m     ref_wfn = \u001b[43mscf_helper\u001b[49m\u001b[43m(\u001b[49m\u001b[43mname\u001b[49m\u001b[43m,\u001b[49m\u001b[43m \u001b[49m\u001b[43m*\u001b[49m\u001b[43m*\u001b[49m\u001b[43mkwargs\u001b[49m\u001b[43m)\u001b[49m  \u001b[38;5;66;03m# C1 certified\u001b[39;00m\n\u001b[32m   4196\u001b[39m core.tstart()\n\u001b[32m   4197\u001b[39m core.print_out(\u001b[33m'\u001b[39m\u001b[38;5;130;01m\\n\u001b[39;00m\u001b[33m'\u001b[39m)\n",
      "\u001b[36mFile \u001b[39m\u001b[32m~/miniconda3/envs/py312/lib/python3.12/site-packages/psi4/driver/procrouting/proc.py:1887\u001b[39m, in \u001b[36mscf_helper\u001b[39m\u001b[34m(name, post_scf, **kwargs)\u001b[39m\n\u001b[32m   1879\u001b[39m     core.print_out(\u001b[33mf\u001b[39m\u001b[33m\"\"\"\u001b[39m\u001b[33m Using potential file\u001b[39m\n\u001b[32m   1880\u001b[39m \u001b[33m                   \u001b[39m\u001b[38;5;132;01m{\u001b[39;00mpol_embed_options[\u001b[33m\"\u001b[39m\u001b[33mpotfile\u001b[39m\u001b[33m\"\u001b[39m]\u001b[38;5;132;01m}\u001b[39;00m\n\u001b[32m   1881\u001b[39m \u001b[33m                   for Polarizable Embedding calculation.\u001b[39m\u001b[38;5;130;01m\\n\u001b[39;00m\u001b[33m\"\"\"\u001b[39m)\n\u001b[32m   1882\u001b[39m     scf_wfn.pe_state = solvent.pol_embed.CppeInterface(\n\u001b[32m   1883\u001b[39m         molecule=scf_molecule, options=pol_embed_options,\n\u001b[32m   1884\u001b[39m         basisset=scf_wfn.basisset()\n\u001b[32m   1885\u001b[39m     )\n\u001b[32m-> \u001b[39m\u001b[32m1887\u001b[39m e_scf = \u001b[43mscf_wfn\u001b[49m\u001b[43m.\u001b[49m\u001b[43mcompute_energy\u001b[49m\u001b[43m(\u001b[49m\u001b[43m)\u001b[49m\n\u001b[32m   1888\u001b[39m \u001b[38;5;28;01mfor\u001b[39;00m obj \u001b[38;5;129;01min\u001b[39;00m [core, scf_wfn]:\n\u001b[32m   1889\u001b[39m     \u001b[38;5;66;03m# set_variable(\"SCF TOTAL ENERGY\")  # P::e SCF\u001b[39;00m\n\u001b[32m   1890\u001b[39m     \u001b[38;5;28;01mfor\u001b[39;00m pv \u001b[38;5;129;01min\u001b[39;00m [\u001b[33m\"\u001b[39m\u001b[33mSCF TOTAL ENERGY\u001b[39m\u001b[33m\"\u001b[39m, \u001b[33m\"\u001b[39m\u001b[33mCURRENT ENERGY\u001b[39m\u001b[33m\"\u001b[39m, \u001b[33m\"\u001b[39m\u001b[33mCURRENT REFERENCE ENERGY\u001b[39m\u001b[33m\"\u001b[39m]:\n",
      "\u001b[36mFile \u001b[39m\u001b[32m~/miniconda3/envs/py312/lib/python3.12/site-packages/psi4/driver/procrouting/scf_proc/scf_iterator.py:82\u001b[39m, in \u001b[36mscf_compute_energy\u001b[39m\u001b[34m(self)\u001b[39m\n\u001b[32m     80\u001b[39m     \u001b[38;5;28mself\u001b[39m.initialize_jk(\u001b[38;5;28mself\u001b[39m.memory_jk_)\n\u001b[32m     81\u001b[39m \u001b[38;5;28;01melse\u001b[39;00m:\n\u001b[32m---> \u001b[39m\u001b[32m82\u001b[39m     \u001b[38;5;28;43mself\u001b[39;49m\u001b[43m.\u001b[49m\u001b[43minitialize\u001b[49m\u001b[43m(\u001b[49m\u001b[43m)\u001b[49m\n\u001b[32m     83\u001b[39m \u001b[38;5;28mself\u001b[39m.iteration_energies = []\n\u001b[32m     85\u001b[39m \u001b[38;5;28;01mtry\u001b[39;00m:\n",
      "\u001b[36mFile \u001b[39m\u001b[32m~/miniconda3/envs/py312/lib/python3.12/site-packages/psi4/driver/procrouting/scf_proc/scf_iterator.py:196\u001b[39m, in \u001b[36mscf_initialize\u001b[39m\u001b[34m(self)\u001b[39m\n\u001b[32m    194\u001b[39m \u001b[38;5;28;01mif\u001b[39;00m \u001b[38;5;28mself\u001b[39m.V_potential():\n\u001b[32m    195\u001b[39m     \u001b[38;5;28mself\u001b[39m.V_potential().build_collocation_cache(\u001b[38;5;28mself\u001b[39m.memory_collocation_)\n\u001b[32m--> \u001b[39m\u001b[32m196\u001b[39m \u001b[43mcore\u001b[49m\u001b[43m.\u001b[49m\u001b[43mtimer_on\u001b[49m\u001b[43m(\u001b[49m\u001b[33;43m\"\u001b[39;49m\u001b[33;43mHF: Form core H\u001b[39;49m\u001b[33;43m\"\u001b[39;49m\u001b[43m)\u001b[49m\n\u001b[32m    197\u001b[39m \u001b[38;5;28mself\u001b[39m.form_H()\n\u001b[32m    198\u001b[39m core.timer_off(\u001b[33m\"\u001b[39m\u001b[33mHF: Form core H\u001b[39m\u001b[33m\"\u001b[39m)\n",
      "\u001b[31mRuntimeError\u001b[39m: \nFatal Error: Timer HF: Form core H is already on.\nError occurred in file: /Users/runner/miniforge3/conda-bld/psi4_1746393110470/work/psi4/src/psi4/libqt/timer.cc on line: 280\nThe most recent 5 function calls were:\n\n"
     ]
    }
   ],
   "source": [
    "from ase.calculators.psi4 import Psi4\n",
    "from ase.build import molecule\n",
    "import numpy as np\n",
    "import os\n",
    "\n",
    "\n",
    "inversecmtoev = 1.23981e-4\n",
    "\n",
    "#os.environ['KMP_DUPLICATE_LIB_OK']='True'\n",
    "\n",
    "basis = 'sto-3g'\n",
    "method = 'mp2'\n",
    "\n",
    "dft_dict = {}\n",
    "for reagent,smiles in reagents.items():\n",
    "    print(reagent)\n",
    "    sm = SMILESbox()\n",
    "    sm.smiles_to_atoms(reagents[reagent])        \n",
    "    atoms = sm.atoms\n",
    "    calc = Psi4(\n",
    "            method = method,\n",
    "            memory = '1 GB', # this is the default, be aware!\n",
    "            basis = basis,\n",
    "            directory='psi4_calculation',\n",
    "            ignore_bad_restart=True,\n",
    "            )    \n",
    "    calc.psi4.set_num_threads(4)\n",
    "    calc.psi4.core.set_global_option('REFERENCE', 'RHF')\n",
    "    calc.psi4.core.set_global_option('cachelevel',0)     \n",
    "    atoms.calc = calc    \n",
    "    atoms.get_potential_energy()\n",
    "\n",
    "    try:\n",
    "        calc.psi4.core.set_global_option('REFERENCE', 'RHF')\n",
    "        QuasiNewton(atoms).run(fmax=0.001)   \n",
    "\n",
    "        vib = Vibrations(atoms,nfree=4) # nfree = 2 or 4 but not sure which is more accurate\n",
    "\n",
    "        vib.run()\n",
    "    \n",
    "        e,w = calc.psi4.frequencies(method+'/'+basis,molecule=calc.molecule,return_wfn=True)\n",
    "        print(e)\n",
    "    except Exception:\n",
    "        calc.psi4.core.set_global_option('REFERENCE', 'UHF')\n",
    "        QuasiNewton(atoms).run(fmax=0.001)   \n",
    "\n",
    "        vib = Vibrations(atoms,nfree=4) # nfree = 2 or 4 but not sure which is more accurate\n",
    "\n",
    "        vib.run()\n",
    "    \n",
    "        e,w = calc.psi4.frequencies(method+'/'+basis,molecule=calc.molecule,return_wfn=True)\n",
    "        print(e)\n",
    "    \n",
    "    gevac = GetEnergyandVibrationsAseCalc(aseatomscalc=atoms,asevibrationscalc=w.frequency_analysis['omega'].data*inversecmtoev)    \n",
    "\n",
    "    _dict = gevac.as_dict()\n",
    "    _dict['energy'] = e\n",
    "    dft_dict[reagent] = _dict"
   ]
  },
  {
   "cell_type": "code",
   "execution_count": 36,
   "id": "428ebfac",
   "metadata": {},
   "outputs": [],
   "source": [
    "from arcs.generate import GraphGenerator\n",
    "dft_dict['reactions'] = rg.as_dict()\n",
    "graph = GraphGenerator().from_dict(dft_dict=dft_dict,temperature=298.15,pressure=1.0)"
   ]
  },
  {
   "cell_type": "code",
   "execution_count": 40,
   "id": "7ba7ae8c",
   "metadata": {},
   "outputs": [
    {
     "data": {
      "application/vnd.jupyter.widget-view+json": {
       "model_id": "b5d03f2988324babb66ea06a0a2c7a0f",
       "version_major": 2,
       "version_minor": 0
      },
      "text/plain": [
       "  0%|          | 0/1000 [00:00<?, ?it/s]"
      ]
     },
     "metadata": {},
     "output_type": "display_data"
    }
   ],
   "source": [
    "from arcs.traversal import Traversal\n",
    "from arcs.generate import GenerateInitialConcentrations\n",
    "\n",
    "gic = GenerateInitialConcentrations(graph=graph).update_ic(\n",
    "    {'H2':10,'O2':10}\n",
    "    )\n",
    "\n",
    "t = Traversal(graph=graph)\n",
    "\n",
    "data = t.sample(initial_concentrations=gic,ncpus=4,nsamples=1000)"
   ]
  },
  {
   "cell_type": "code",
   "execution_count": 42,
   "id": "9d74aec7",
   "metadata": {},
   "outputs": [
    {
     "data": {
      "text/plain": [
       "1 H2 + 1 O2 = 1 H2O2     2967\n",
       "2 H2 + 1 O2 = 2 H2O      1457\n",
       "1 H2 + 1 H2O2 = 2 H2O     388\n",
       "1 O2 + 2 H2O = 2 H2O2     188\n",
       "dtype: int64"
      ]
     },
     "execution_count": 42,
     "metadata": {},
     "output_type": "execute_result"
    }
   ],
   "source": [
    "from arcs.analysis import AnalyseSampling\n",
    "import pandas as pd \n",
    "\n",
    "analysis = AnalyseSampling()\n",
    "stats = pd.Series(analysis.reaction_statistics(data)).sort_values(ascending=False)\n",
    "stats.head(10)"
   ]
  },
  {
   "cell_type": "code",
   "execution_count": 43,
   "id": "8e36e9e4",
   "metadata": {},
   "outputs": [
    {
     "name": "stdout",
     "output_type": "stream",
     "text": [
      "      initial  mean  diff   sem   std   var\n",
      "H2       10.0  7.50 -2.50  0.02  1.34  1.81\n",
      "O2       10.0  8.37 -1.63  0.01  0.67  0.45\n",
      "H2O2      0.0  0.77  0.77  0.01  0.37  0.13\n",
      "H2O       0.0  1.72  1.72  0.02  1.44  2.08\n"
     ]
    }
   ],
   "source": [
    "average_data = pd.DataFrame(analysis.average_sampling(data))\n",
    "average_data = average_data.loc[~(average_data==0).all(axis=1)]\n",
    "average_data.sort_values(by='diff',inplace=True)\n",
    "print(average_data.round(2).to_string())"
   ]
  },
  {
   "cell_type": "markdown",
   "id": "2e31db6e",
   "metadata": {},
   "source": [
    "plot an interactive graph "
   ]
  },
  {
   "cell_type": "code",
   "execution_count": 66,
   "id": "942b9a7c",
   "metadata": {},
   "outputs": [],
   "source": [
    "pyvis_kwargs = {'width':'50%','notebook':False,\"font_color\":'white','directed':True}\n",
    "g = analysis.result_to_pyvis(data,head=20,**pyvis_kwargs)\n",
    "g.save_graph(name=\"example_pyvis_graph.html\")"
   ]
  },
  {
   "cell_type": "code",
   "execution_count": 67,
   "id": "d436fa0b",
   "metadata": {},
   "outputs": [],
   "source": [
    "! open example_pyvis_graph.html "
   ]
  }
 ],
 "metadata": {
  "kernelspec": {
   "display_name": "py312",
   "language": "python",
   "name": "python3"
  },
  "language_info": {
   "codemirror_mode": {
    "name": "ipython",
    "version": 3
   },
   "file_extension": ".py",
   "mimetype": "text/x-python",
   "name": "python",
   "nbconvert_exporter": "python",
   "pygments_lexer": "ipython3",
   "version": "3.12.2"
  }
 },
 "nbformat": 4,
 "nbformat_minor": 5
}
