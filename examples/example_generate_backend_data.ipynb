{
 "cells": [
  {
   "cell_type": "code",
   "execution_count": 1,
   "id": "9c287993",
   "metadata": {},
   "outputs": [],
   "source": [
    "%load_ext autoreload\n",
    "%autoreload 2"
   ]
  },
  {
   "cell_type": "code",
   "execution_count": null,
   "id": "abd70197",
   "metadata": {},
   "outputs": [],
   "source": [
    "#pip install git@github.com:badw/SMILESBOX.git\n",
    "#pip install git@github.com:badw/reactit.git\n",
    "#pip install mace-torch"
   ]
  },
  {
   "cell_type": "code",
   "execution_count": null,
   "id": "f134ee28",
   "metadata": {},
   "outputs": [],
   "source": [
    "from ase.optimize import QuasiNewton\n",
    "from ase.vibrations import Vibrations\n",
    "from smilesbox.smilesbox import SMILESbox\n",
    "from arcs.generate import GetEnergyandVibrationsAseCalc\n",
    "import shutil\n",
    "from mace.calculators import MACECalculator \n",
    "from mace.calculators import mace_off"
   ]
  },
  {
   "cell_type": "markdown",
   "id": "5d1afa49",
   "metadata": {},
   "source": [
    "For generating ARCS data using GNNs or ML Models (Compatible with ASE)"
   ]
  },
  {
   "cell_type": "markdown",
   "id": "b0e1047e",
   "metadata": {},
   "source": [
    "\n",
    "we can set up a reaction graph between the following reagents:\n",
    "\n",
    "1. H2,\n",
    "2. O2,\n",
    "3. H2O\n",
    "4. H2O2"
   ]
  },
  {
   "cell_type": "code",
   "execution_count": 33,
   "id": "a1bc654d",
   "metadata": {},
   "outputs": [],
   "source": [
    "reagents = {'H2':'[HH]','O2':'O=O','H2O':'O','H2O2':'OO'}"
   ]
  },
  {
   "cell_type": "code",
   "execution_count": 34,
   "id": "3605dfa6",
   "metadata": {},
   "outputs": [
    {
     "name": "stdout",
     "output_type": "stream",
     "text": [
      "Using MACE-OFF23 MODEL for MACECalculator with /Users/badw/.cache/mace/MACE-OFF23_large.model\n",
      "Using float64 for MACECalculator, which is slower but more accurate. Recommended for geometry optimization.\n",
      "Using head Default out of ['Default']\n",
      "H2\n",
      "                Step[ FC]     Time          Energy          fmax\n",
      "BFGSLineSearch:    0[  0] 14:11:44      -31.719627       1.7048\n"
     ]
    },
    {
     "name": "stderr",
     "output_type": "stream",
     "text": [
      "/Users/badw/miniconda3/envs/py312/lib/python3.12/site-packages/mace/calculators/mace.py:143: UserWarning: Environment variable TORCH_FORCE_NO_WEIGHTS_ONLY_LOAD detected, since the`weights_only` argument was not explicitly passed to `torch.load`, forcing weights_only=False.\n",
      "  torch.load(f=model_path, map_location=device)\n"
     ]
    },
    {
     "name": "stdout",
     "output_type": "stream",
     "text": [
      "BFGSLineSearch:    1[  2] 14:11:44      -31.855335       0.6992\n",
      "BFGSLineSearch:    2[  4] 14:11:44      -31.867356       0.0068\n",
      "BFGSLineSearch:    3[  5] 14:11:44      -31.867357       0.0005\n",
      "O2\n",
      "                Step[ FC]     Time          Energy          fmax\n",
      "BFGSLineSearch:    0[  0] 14:11:45    -4091.031980       0.8976\n",
      "BFGSLineSearch:    1[  1] 14:11:45    -4091.136515       0.2940\n",
      "BFGSLineSearch:    2[  3] 14:11:45    -4091.137748       0.0000\n",
      "H2O\n",
      "                Step[ FC]     Time          Energy          fmax\n",
      "BFGSLineSearch:    0[  0] 14:11:46    -2081.116613       0.6752\n",
      "BFGSLineSearch:    1[  2] 14:11:47    -2081.122018       0.0583\n",
      "BFGSLineSearch:    2[  3] 14:11:47    -2081.122063       0.0104\n",
      "BFGSLineSearch:    3[  4] 14:11:47    -2081.122072       0.0021\n",
      "BFGSLineSearch:    4[  5] 14:11:47    -2081.122072       0.0003\n",
      "H2O2\n",
      "                Step[ FC]     Time          Energy          fmax\n",
      "BFGSLineSearch:    0[  0] 14:11:49    -4126.507501       1.2906\n",
      "BFGSLineSearch:    1[  2] 14:11:49    -4126.530383       0.3388\n",
      "BFGSLineSearch:    2[  4] 14:11:49    -4126.538719       0.3313\n",
      "BFGSLineSearch:    3[  6] 14:11:49    -4126.541087       0.0856\n",
      "BFGSLineSearch:    4[  7] 14:11:49    -4126.541201       0.0055\n",
      "BFGSLineSearch:    5[  8] 14:11:49    -4126.541201       0.0000\n"
     ]
    }
   ],
   "source": [
    "#calc = CHGNetCalculator(use_device='mps')\n",
    "\n",
    "calc = mace_off(model='large')\n",
    "\n",
    "dft_dict = {}\n",
    "for reagent in reagents:\n",
    "    print(reagent)\n",
    "    try:\n",
    "        shutil.rmtree('./vib/')\n",
    "    except FileNotFoundError:\n",
    "        pass\n",
    "    sm = SMILESbox()\n",
    "    sm.smiles_to_atoms(reagents[reagent])\n",
    "\n",
    "    sm.add_box([10,10,10])\n",
    "\n",
    "    atoms = sm.atoms\n",
    "    atoms.calc = calc\n",
    "\n",
    "    QuasiNewton(atoms).run(fmax=0.001)\n",
    "\n",
    "    vib = Vibrations(atoms,nfree=4) # nfree = 2 or 4 but not sure which is more accurate\n",
    "\n",
    "    vib.run()\n",
    "\n",
    "    gevac = GetEnergyandVibrationsAseCalc(aseatomscalc=atoms,asevibrationscalc=vib)\n",
    "\n",
    "    dft_dict[reagent] = gevac.as_dict()\n",
    "\n"
   ]
  },
  {
   "cell_type": "code",
   "execution_count": 35,
   "id": "e07579f7",
   "metadata": {},
   "outputs": [
    {
     "name": "stderr",
     "output_type": "stream",
     "text": [
      "100%|██████████| 11/11 [00:00<00:00, 268.48it/s]\n"
     ]
    },
    {
     "data": {
      "text/plain": [
       "['1 H2 + 1 H2O2 = 2 H2O',\n",
       " '2 H2 + 1 O2 = 2 H2O',\n",
       " '1 O2 + 2 H2O = 2 H2O2',\n",
       " '1 H2 + 1 O2 = 1 H2O2']"
      ]
     },
     "execution_count": 35,
     "metadata": {},
     "output_type": "execute_result"
    }
   ],
   "source": [
    "from reactit.reactit import ReactionGenerator\n",
    "\n",
    "rg = ReactionGenerator(compounds=list(dft_dict))\n",
    "\n",
    "reactions = rg.iterate()\n",
    "dft_dict['reactions'] = rg.as_dict() # add to the dft_dict\n",
    "reactions"
   ]
  },
  {
   "cell_type": "code",
   "execution_count": 36,
   "id": "1e3dee35",
   "metadata": {},
   "outputs": [
    {
     "name": "stderr",
     "output_type": "stream",
     "text": [
      "/Users/badw/miniconda3/envs/py312/lib/python3.12/site-packages/ase/thermochemistry.py:823: UserWarning: 1 imag modes removed\n",
      "  warn(f\"{n_imag} imag modes removed\", UserWarning)\n"
     ]
    }
   ],
   "source": [
    "from arcs.generate import GraphGenerator\n",
    "\n",
    "graph = GraphGenerator().from_dict(dft_dict=dft_dict,temperature=298.15,pressure=1.0)"
   ]
  },
  {
   "cell_type": "markdown",
   "id": "8e68d468",
   "metadata": {},
   "source": [
    "sample with arcs"
   ]
  },
  {
   "cell_type": "code",
   "execution_count": 37,
   "id": "fc02601a",
   "metadata": {},
   "outputs": [
    {
     "name": "stderr",
     "output_type": "stream",
     "text": [
      "1008it [00:03, 305.49it/s]                         \n"
     ]
    }
   ],
   "source": [
    "from arcs.traversal import Traversal\n",
    "from arcs.generate import GenerateInitialConcentrations\n",
    "\n",
    "gic = GenerateInitialConcentrations(graph=graph).update_ic(\n",
    "    {'H2':10,'O2':10}\n",
    "    )\n",
    "\n",
    "t = Traversal(graph=graph)\n",
    "\n",
    "data = t.sample(initial_concentrations=gic,ncpus=4,nsamples=1000)"
   ]
  },
  {
   "cell_type": "code",
   "execution_count": 38,
   "id": "352dee23",
   "metadata": {},
   "outputs": [
    {
     "data": {
      "text/plain": [
       "2 H2 + 1 O2 = 2 H2O      1548\n",
       "1 H2 + 1 O2 = 1 H2O2      652\n",
       "1 O2 + 2 H2O = 2 H2O2     419\n",
       "1 H2 + 1 H2O2 = 2 H2O     185\n",
       "dtype: int64"
      ]
     },
     "execution_count": 38,
     "metadata": {},
     "output_type": "execute_result"
    }
   ],
   "source": [
    "from arcs.analysis import AnalyseSampling\n",
    "import pandas as pd \n",
    "\n",
    "analysis = AnalyseSampling()\n",
    "stats = pd.Series(analysis.reaction_statistics(data)).sort_values(ascending=False)\n",
    "stats.head(10)"
   ]
  },
  {
   "cell_type": "code",
   "execution_count": 40,
   "id": "05474dd6",
   "metadata": {},
   "outputs": [
    {
     "name": "stdout",
     "output_type": "stream",
     "text": [
      "      initial  mean   diff   sem   std    var\n",
      "H2       10.0  0.00 -10.00  0.00  0.00   0.00\n",
      "O2       10.0  3.69  -6.31  0.04  1.88   3.52\n",
      "H2O2      0.0  2.62   2.62  0.07  3.75  14.08\n",
      "H2O       0.0  7.38   7.38  0.07  3.75  14.08\n"
     ]
    }
   ],
   "source": [
    "average_data = pd.DataFrame(analysis.average_sampling(data))\n",
    "average_data = average_data.loc[~(average_data==0).all(axis=1)]\n",
    "average_data.sort_values(by='diff',inplace=True)\n",
    "print(average_data.round(2).to_string())"
   ]
  },
  {
   "cell_type": "code",
   "execution_count": 43,
   "id": "942b9a7c",
   "metadata": {},
   "outputs": [],
   "source": [
    "pyvis_kwargs = {'width':'50%','notebook':False,\"font_color\":'white','directed':True}\n",
    "g = analysis.result_to_pyvis(data,head=20,**pyvis_kwargs)\n",
    "g.save_graph(name=\"example_pyvis_graph.html\")"
   ]
  },
  {
   "cell_type": "code",
   "execution_count": 42,
   "id": "d436fa0b",
   "metadata": {},
   "outputs": [],
   "source": [
    "! open example_pyvis_graph.html "
   ]
  }
 ],
 "metadata": {
  "kernelspec": {
   "display_name": "py312",
   "language": "python",
   "name": "python3"
  },
  "language_info": {
   "codemirror_mode": {
    "name": "ipython",
    "version": 3
   },
   "file_extension": ".py",
   "mimetype": "text/x-python",
   "name": "python",
   "nbconvert_exporter": "python",
   "pygments_lexer": "ipython3",
   "version": "3.12.9"
  }
 },
 "nbformat": 4,
 "nbformat_minor": 5
}
