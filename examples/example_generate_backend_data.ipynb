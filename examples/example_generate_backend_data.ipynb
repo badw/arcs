{
 "cells": [
  {
   "cell_type": "code",
   "execution_count": 1,
   "id": "9c287993",
   "metadata": {},
   "outputs": [],
   "source": [
    "%load_ext autoreload\n",
    "%autoreload 2"
   ]
  },
  {
   "cell_type": "code",
   "execution_count": 2,
   "id": "abd70197",
   "metadata": {},
   "outputs": [],
   "source": [
    "#pip install git@github.com:badw/SMILESBOX.git\n",
    "#pip install git@github.com:badw/reactit.git\n",
    "#pip install mace-torch"
   ]
  },
  {
   "cell_type": "code",
   "execution_count": 54,
   "id": "f134ee28",
   "metadata": {},
   "outputs": [],
   "source": [
    "from ase.optimize import QuasiNewton\n",
    "from ase.vibrations import Vibrations\n",
    "from smilesbox.smilesbox import SMILESbox\n",
    "from arcs.generate import GetEnergyandVibrationsAseCalc,GetEnergyandVibrationsVASP\n",
    "import shutil\n",
    "from mace.calculators import MACECalculator \n",
    "from mace.calculators import mace_off"
   ]
  },
  {
   "cell_type": "markdown",
   "id": "5d1afa49",
   "metadata": {},
   "source": [
    "For generating ARCS data using GNNs or ML Models (Compatible with ASE)"
   ]
  },
  {
   "cell_type": "markdown",
   "id": "b0e1047e",
   "metadata": {},
   "source": [
    "\n",
    "we can set up a reaction graph between the following reagents:\n",
    "\n",
    "1. H2,\n",
    "2. O2,\n",
    "3. H2O\n",
    "4. H2O2"
   ]
  },
  {
   "cell_type": "code",
   "execution_count": 43,
   "id": "a1bc654d",
   "metadata": {},
   "outputs": [
    {
     "name": "stderr",
     "output_type": "stream",
     "text": [
      "100%|██████████| 11/11 [00:00<00:00, 307.21it/s]\n"
     ]
    },
    {
     "data": {
      "text/plain": [
       "['2 H2 + 1 O2 = 2 H2O',\n",
       " '1 H2 + 1 H2O2 = 2 H2O',\n",
       " '1 H2 + 1 O2 = 1 H2O2',\n",
       " '1 O2 + 2 H2O = 2 H2O2']"
      ]
     },
     "execution_count": 43,
     "metadata": {},
     "output_type": "execute_result"
    }
   ],
   "source": [
    "reagents = {'H2':'[HH]','O2':'O=O','H2O':'O','H2O2':'OO'}\n",
    "\n",
    "from reactit.reactit import ReactionGenerator\n",
    "\n",
    "rg = ReactionGenerator(compounds=list(dft_dict))\n",
    "\n",
    "reactions = rg.iterate()\n",
    "reactions"
   ]
  },
  {
   "cell_type": "code",
   "execution_count": 40,
   "id": "3605dfa6",
   "metadata": {},
   "outputs": [
    {
     "name": "stdout",
     "output_type": "stream",
     "text": [
      "Using MACE-OFF23 MODEL for MACECalculator with /Users/badw/.cache/mace/MACE-OFF23_large.model\n",
      "Using float64 for MACECalculator, which is slower but more accurate. Recommended for geometry optimization.\n",
      "Using head Default out of ['Default']\n",
      "H2\n",
      "                Step[ FC]     Time          Energy          fmax\n",
      "BFGSLineSearch:    0[  0] 15:46:22      -31.719627       1.7048\n"
     ]
    },
    {
     "name": "stderr",
     "output_type": "stream",
     "text": [
      "/Users/badw/miniconda3/envs/py312/lib/python3.12/site-packages/mace/calculators/mace.py:143: UserWarning: Environment variable TORCH_FORCE_NO_WEIGHTS_ONLY_LOAD detected, since the`weights_only` argument was not explicitly passed to `torch.load`, forcing weights_only=False.\n",
      "  torch.load(f=model_path, map_location=device)\n"
     ]
    },
    {
     "name": "stdout",
     "output_type": "stream",
     "text": [
      "BFGSLineSearch:    1[  2] 15:46:22      -31.855335       0.6992\n",
      "BFGSLineSearch:    2[  4] 15:46:22      -31.867356       0.0068\n",
      "BFGSLineSearch:    3[  5] 15:46:22      -31.867357       0.0005\n",
      "O2\n",
      "                Step[ FC]     Time          Energy          fmax\n",
      "BFGSLineSearch:    0[  0] 15:46:23    -4091.031980       0.8976\n",
      "BFGSLineSearch:    1[  1] 15:46:23    -4091.136515       0.2940\n",
      "BFGSLineSearch:    2[  3] 15:46:23    -4091.137748       0.0000\n",
      "H2O\n",
      "                Step[ FC]     Time          Energy          fmax\n",
      "BFGSLineSearch:    0[  0] 15:46:25    -2081.116613       0.6752\n",
      "BFGSLineSearch:    1[  2] 15:46:25    -2081.122018       0.0583\n",
      "BFGSLineSearch:    2[  3] 15:46:25    -2081.122063       0.0104\n",
      "BFGSLineSearch:    3[  4] 15:46:25    -2081.122072       0.0021\n",
      "BFGSLineSearch:    4[  5] 15:46:25    -2081.122072       0.0003\n",
      "H2O2\n",
      "                Step[ FC]     Time          Energy          fmax\n",
      "BFGSLineSearch:    0[  0] 15:46:27    -4126.507501       1.2906\n",
      "BFGSLineSearch:    1[  2] 15:46:27    -4126.530383       0.3388\n",
      "BFGSLineSearch:    2[  4] 15:46:27    -4126.538719       0.3313\n",
      "BFGSLineSearch:    3[  6] 15:46:27    -4126.541087       0.0856\n",
      "BFGSLineSearch:    4[  7] 15:46:27    -4126.541201       0.0055\n",
      "BFGSLineSearch:    5[  8] 15:46:27    -4126.541201       0.0000\n"
     ]
    }
   ],
   "source": [
    "#calc = CHGNetCalculator(use_device='mps')\n",
    "\n",
    "calc = mace_off(model='large')\n",
    "\n",
    "dft_dict = {}\n",
    "for reagent in reagents:\n",
    "    print(reagent)\n",
    "    try:\n",
    "        shutil.rmtree('./vib/')\n",
    "    except FileNotFoundError:\n",
    "        pass\n",
    "    sm = SMILESbox()\n",
    "    sm.smiles_to_atoms(reagents[reagent])\n",
    "\n",
    "    #sm.add_box([10,10,10])\n",
    "\n",
    "    atoms = sm.atoms\n",
    "    atoms.calc = calc\n",
    "\n",
    "    QuasiNewton(atoms).run(fmax=0.001)\n",
    "\n",
    "    vib = Vibrations(atoms,nfree=4) # nfree = 2 or 4 but not sure which is more accurate\n",
    "\n",
    "    vib.run()\n",
    "\n",
    "    gevac = GetEnergyandVibrationsAseCalc(aseatomscalc=atoms,asevibrationscalc=vib)\n",
    "\n",
    "    dft_dict[reagent] = gevac.as_dict()\n",
    "\n"
   ]
  },
  {
   "cell_type": "code",
   "execution_count": 44,
   "id": "11fb9818",
   "metadata": {},
   "outputs": [
    {
     "name": "stderr",
     "output_type": "stream",
     "text": [
      "/Users/badw/miniconda3/envs/py312/lib/python3.12/site-packages/ase/thermochemistry.py:823: UserWarning: 1 imag modes removed\n",
      "  warn(f\"{n_imag} imag modes removed\", UserWarning)\n"
     ]
    }
   ],
   "source": [
    "from arcs.generate import GraphGenerator\n",
    "dft_dict['reactions'] = rg.as_dict() # add to the dft_dict\n",
    "graph = GraphGenerator().from_dict(dft_dict=dft_dict,temperature=298.15,pressure=1.0)"
   ]
  },
  {
   "cell_type": "code",
   "execution_count": 45,
   "id": "338e7531",
   "metadata": {},
   "outputs": [
    {
     "name": "stderr",
     "output_type": "stream",
     "text": [
      "1008it [00:03, 316.68it/s]                         \n"
     ]
    }
   ],
   "source": [
    "from arcs.traversal import Traversal\n",
    "from arcs.generate import GenerateInitialConcentrations\n",
    "\n",
    "gic = GenerateInitialConcentrations(graph=graph).update_ic(\n",
    "    {'H2':10,'O2':10}\n",
    "    )\n",
    "\n",
    "t = Traversal(graph=graph)\n",
    "\n",
    "data = t.sample(initial_concentrations=gic,ncpus=4,nsamples=1000)"
   ]
  },
  {
   "cell_type": "code",
   "execution_count": 46,
   "id": "226f8901",
   "metadata": {},
   "outputs": [
    {
     "data": {
      "text/plain": [
       "2 H2 + 1 O2 = 2 H2O      1371\n",
       "1 H2 + 1 O2 = 1 H2O2      685\n",
       "1 O2 + 2 H2O = 2 H2O2     420\n",
       "1 H2 + 1 H2O2 = 2 H2O     168\n",
       "dtype: int64"
      ]
     },
     "execution_count": 46,
     "metadata": {},
     "output_type": "execute_result"
    }
   ],
   "source": [
    "from arcs.analysis import AnalyseSampling\n",
    "import pandas as pd \n",
    "\n",
    "analysis = AnalyseSampling()\n",
    "stats = pd.Series(analysis.reaction_statistics(data)).sort_values(ascending=False)\n",
    "stats.head(10)"
   ]
  },
  {
   "cell_type": "code",
   "execution_count": 47,
   "id": "02b33a4a",
   "metadata": {},
   "outputs": [
    {
     "name": "stdout",
     "output_type": "stream",
     "text": [
      "      initial  mean   diff   sem   std    var\n",
      "H2       10.0  0.00 -10.00  0.00  0.00   0.00\n",
      "O2       10.0  3.53  -6.47  0.04  1.94   3.78\n",
      "H2O2      0.0  2.94   2.94  0.08  3.89  15.10\n",
      "H2O       0.0  7.06   7.06  0.08  3.89  15.10\n"
     ]
    }
   ],
   "source": [
    "average_data = pd.DataFrame(analysis.average_sampling(data))\n",
    "average_data = average_data.loc[~(average_data==0).all(axis=1)]\n",
    "average_data.sort_values(by='diff',inplace=True)\n",
    "print(average_data.round(2).to_string())"
   ]
  },
  {
   "cell_type": "markdown",
   "id": "a38ff430",
   "metadata": {},
   "source": [
    "and with DFT (in this case VASP)\n",
    "\n"
   ]
  },
  {
   "cell_type": "code",
   "execution_count": 56,
   "id": "26b01067",
   "metadata": {},
   "outputs": [
    {
     "name": "stdout",
     "output_type": "stream",
     "text": [
      "H2\n",
      "O2\n"
     ]
    },
    {
     "name": "stderr",
     "output_type": "stream",
     "text": [
      "/Users/badw/miniconda3/envs/py312/lib/python3.12/site-packages/ase/calculators/vasp/vasp.py:1004: UserWarning: Magnetic moment data not written in OUTCAR (LORBIT<10), setting magnetic_moments to zero.\n",
      "Set LORBIT>=10 to get information on magnetic moments\n",
      "  warn('Magnetic moment data not written in OUTCAR (LORBIT<10),'\n"
     ]
    },
    {
     "name": "stdout",
     "output_type": "stream",
     "text": [
      "H2O\n",
      "H2O2\n"
     ]
    }
   ],
   "source": [
    "from ase.calculators.vasp import Vasp \n",
    "import os \n",
    "os.environ['VASP_PP_PATH'] = '/Users/badw/Documents/misc/VASP/'\n",
    "calc = Vasp(\n",
    "    command='mpirun -np 4 /Users/badw/Documents/misc/VASP/source/vasp.6.4.2/bin/vasp_gam',\n",
    "            directory='./vasp_calculations/relax/',\n",
    "            kpts=(1, 1, 1),\n",
    "            xc='PBE',\n",
    "            encut=500,\n",
    "            ediff=1e-6,\n",
    "            ediffg=-1e-4,\n",
    "            ibrion=1,\n",
    "            isym=2,\n",
    "            symprec=0.01,\n",
    "            isif=2,\n",
    "            nsw=100,\n",
    "            lreal=False,\n",
    "            lwave=False,\n",
    "            lcharg=False,\n",
    "            algo='All',\n",
    "            potim=0.1,\n",
    "            ncore=4,\n",
    "            prec='accurate',\n",
    "            addgrid=True,\n",
    "            gamma=True\n",
    ")\n",
    "\n",
    "vibcalc = Vasp(\n",
    "    command='mpirun -np 4 /Users/badw/Documents/misc/VASP/source/vasp.6.4.2/bin/vasp_gam',\n",
    "            directory='./vasp_calculations/vibrations/',\n",
    "            kpts=(1, 1, 1),\n",
    "            xc='PBE',\n",
    "            encut=500,\n",
    "            ediff=1e-6,\n",
    "            ediffg=-1e-4,\n",
    "            ibrion=6,\n",
    "            isym=2,\n",
    "            symprec=0.01,\n",
    "            isif=2,\n",
    "            nsw=10,\n",
    "            lreal=False,\n",
    "            lwave=False,\n",
    "            lcharg=False,\n",
    "            algo='All',\n",
    "            potim=0.1,\n",
    "            ncore=4,\n",
    "            prec='accurate',\n",
    "            addgrid=True,\n",
    "            gamma=True\n",
    ")\n",
    "\n",
    "dft_dict = {}\n",
    "for reagent in reagents:\n",
    "\n",
    "    if reagent == 'O2':\n",
    "        calc.set(**{'ispin':2,'nupdown':2}) # triplet oxygen \n",
    "        vibcalc.set(**{'ispin':2,'nupdown':2})\n",
    "    else:\n",
    "        calc.set(**{'ispin':1,'nupdown':0})\n",
    "        vibcalc.set(**{'ispin':1,'nupdown':0})\n",
    "    \n",
    "    print(reagent)\n",
    "    try:\n",
    "        shutil.rmtree('./vib/')\n",
    "        shutil.rmtree('./vasp_calculations/')\n",
    "    except FileNotFoundError:\n",
    "        pass\n",
    "\n",
    "    sm = SMILESbox()\n",
    "    sm.smiles_to_atoms(reagents[reagent])\n",
    "    sm.add_box([5,5,5]) #should be 10,10,10 but this is a test \n",
    "    atoms = sm.atoms\n",
    "    \n",
    "    atoms.calc = calc\n",
    "\n",
    "    atoms.get_potential_energy()\n",
    "    try:\n",
    "        vibcalc.calculate(atoms)\n",
    "    except AttributeError:\n",
    "        pass \n",
    "\n",
    "    gevac = GetEnergyandVibrationsVASP(relax_directory='./vasp_calculations/relax/',vibrations_directory='./vasp_calculations/vibrations/')\n",
    "\n",
    "    dft_dict[reagent] = gevac.as_dict()"
   ]
  },
  {
   "cell_type": "code",
   "execution_count": 62,
   "id": "4b96043d",
   "metadata": {},
   "outputs": [
    {
     "name": "stderr",
     "output_type": "stream",
     "text": [
      "/Users/badw/miniconda3/envs/py312/lib/python3.12/site-packages/ase/thermochemistry.py:823: UserWarning: 1 imag modes removed\n",
      "  warn(f\"{n_imag} imag modes removed\", UserWarning)\n"
     ]
    }
   ],
   "source": [
    "from arcs.generate import GraphGenerator\n",
    "dft_dict['reactions'] = rg.as_dict()\n",
    "graph = GraphGenerator().from_dict(dft_dict=dft_dict,temperature=298.15,pressure=1.0)"
   ]
  },
  {
   "cell_type": "code",
   "execution_count": 63,
   "id": "3588fb64",
   "metadata": {},
   "outputs": [
    {
     "name": "stderr",
     "output_type": "stream",
     "text": [
      "1008it [00:05, 180.71it/s]                         \n"
     ]
    }
   ],
   "source": [
    "from arcs.traversal import Traversal\n",
    "from arcs.generate import GenerateInitialConcentrations\n",
    "\n",
    "gic = GenerateInitialConcentrations(graph=graph).update_ic(\n",
    "    {'H2':10,'O2':10}\n",
    "    )\n",
    "\n",
    "t = Traversal(graph=graph)\n",
    "\n",
    "data = t.sample(initial_concentrations=gic,ncpus=4,nsamples=1000)"
   ]
  },
  {
   "cell_type": "code",
   "execution_count": 64,
   "id": "cd14de16",
   "metadata": {},
   "outputs": [
    {
     "data": {
      "text/plain": [
       "2 H2 + 1 O2 = 2 H2O      2342\n",
       "1 H2 + 1 O2 = 1 H2O2     1380\n",
       "1 O2 + 2 H2O = 2 H2O2     716\n",
       "1 H2 + 1 H2O2 = 2 H2O     514\n",
       "dtype: int64"
      ]
     },
     "execution_count": 64,
     "metadata": {},
     "output_type": "execute_result"
    }
   ],
   "source": [
    "from arcs.analysis import AnalyseSampling\n",
    "import pandas as pd \n",
    "\n",
    "analysis = AnalyseSampling()\n",
    "stats = pd.Series(analysis.reaction_statistics(data)).sort_values(ascending=False)\n",
    "stats.head(10)"
   ]
  },
  {
   "cell_type": "code",
   "execution_count": 65,
   "id": "43532bfa",
   "metadata": {},
   "outputs": [
    {
     "name": "stdout",
     "output_type": "stream",
     "text": [
      "      initial  mean  diff   sem   std    var\n",
      "H2       10.0  0.02 -9.98  0.00  0.03   0.00\n",
      "O2       10.0  2.76 -7.24  0.03  2.45   5.99\n",
      "H2O2      0.0  4.51  4.51  0.07  4.92  24.16\n",
      "H2O       0.0  5.47  5.47  0.07  4.93  24.35\n"
     ]
    }
   ],
   "source": [
    "average_data = pd.DataFrame(analysis.average_sampling(data))\n",
    "average_data = average_data.loc[~(average_data==0).all(axis=1)]\n",
    "average_data.sort_values(by='diff',inplace=True)\n",
    "print(average_data.round(2).to_string())"
   ]
  },
  {
   "cell_type": "markdown",
   "id": "8e68d468",
   "metadata": {},
   "source": [
    "sample with arcs"
   ]
  },
  {
   "cell_type": "code",
   "execution_count": 66,
   "id": "942b9a7c",
   "metadata": {},
   "outputs": [],
   "source": [
    "pyvis_kwargs = {'width':'50%','notebook':False,\"font_color\":'white','directed':True}\n",
    "g = analysis.result_to_pyvis(data,head=20,**pyvis_kwargs)\n",
    "g.save_graph(name=\"example_pyvis_graph.html\")"
   ]
  },
  {
   "cell_type": "code",
   "execution_count": 67,
   "id": "d436fa0b",
   "metadata": {},
   "outputs": [],
   "source": [
    "! open example_pyvis_graph.html "
   ]
  }
 ],
 "metadata": {
  "kernelspec": {
   "display_name": "py312",
   "language": "python",
   "name": "python3"
  },
  "language_info": {
   "codemirror_mode": {
    "name": "ipython",
    "version": 3
   },
   "file_extension": ".py",
   "mimetype": "text/x-python",
   "name": "python",
   "nbconvert_exporter": "python",
   "pygments_lexer": "ipython3",
   "version": "3.12.9"
  }
 },
 "nbformat": 4,
 "nbformat_minor": 5
}
